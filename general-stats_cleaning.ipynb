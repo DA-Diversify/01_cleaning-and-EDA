{
 "cells": [
  {
   "cell_type": "markdown",
   "id": "fbfe74cb",
   "metadata": {},
   "source": [
    "# Objectives\n",
    "- Understand 3 main groups of data:\n",
    "    - Customer (Broker) Demographic data\n",
    "    - Advertising Campaign data\n",
    "    - Success Marker data"
   ]
  },
  {
   "cell_type": "markdown",
   "id": "20b67bd2",
   "metadata": {},
   "source": [
    "# Week 2 : Data Cleaning\n",
    "Assigned DataSets:\"Goal stats - web traffic\", \"General stats - web traffic\"\n",
    "\n",
    "0. Load dataset\n",
    "1. Change column headings to names that are easier to reference\n",
    "2. Explore the data.\n",
    "    1. Create a new DataFrame.\n",
    "    2. Sense-check the DataFrame.\n",
    "    3. Determine if there are any missing values in the DataFrame.\n",
    "    4. Create a summary of the descriptive statistics.\n",
    "3. Remove redundant columns\n",
    "4. Save a copy of the clean DataFrame as a CSV file. Import the file to sense-check."
   ]
  },
  {
   "cell_type": "markdown",
   "id": "ebc955cf",
   "metadata": {},
   "source": [
    "## 0. Load file & create dataframes (GenStats)\n"
   ]
  },
  {
   "cell_type": "code",
   "execution_count": 1,
   "id": "5214021a",
   "metadata": {},
   "outputs": [],
   "source": [
    "# Imports\n",
    "import numpy as np\n",
    "import pandas as pd"
   ]
  },
  {
   "cell_type": "code",
   "execution_count": 2,
   "id": "f7266798",
   "metadata": {},
   "outputs": [
    {
     "data": {
      "text/html": [
       "<div>\n",
       "<style scoped>\n",
       "    .dataframe tbody tr th:only-of-type {\n",
       "        vertical-align: middle;\n",
       "    }\n",
       "\n",
       "    .dataframe tbody tr th {\n",
       "        vertical-align: top;\n",
       "    }\n",
       "\n",
       "    .dataframe thead th {\n",
       "        text-align: right;\n",
       "    }\n",
       "</style>\n",
       "<table border=\"1\" class=\"dataframe\">\n",
       "  <thead>\n",
       "    <tr style=\"text-align: right;\">\n",
       "      <th></th>\n",
       "      <th>Date</th>\n",
       "      <th>Audience</th>\n",
       "      <th>Creative - Family</th>\n",
       "      <th>Creative - Version</th>\n",
       "      <th>Platform</th>\n",
       "      <th>Ad Format</th>\n",
       "      <th>Campaign Traffic?</th>\n",
       "      <th>Total Sessions</th>\n",
       "      <th>Total Bounces</th>\n",
       "      <th>Total Duration</th>\n",
       "      <th>Days away from max date</th>\n",
       "      <th>Latest report?</th>\n",
       "    </tr>\n",
       "  </thead>\n",
       "  <tbody>\n",
       "    <tr>\n",
       "      <th>0</th>\n",
       "      <td>2022-08-16</td>\n",
       "      <td>NaN</td>\n",
       "      <td>CloserTwins</td>\n",
       "      <td>Cutdown1A</td>\n",
       "      <td>Domain Display</td>\n",
       "      <td>Video</td>\n",
       "      <td>Campaign</td>\n",
       "      <td>1</td>\n",
       "      <td>0</td>\n",
       "      <td>73.0</td>\n",
       "      <td>76</td>\n",
       "      <td>0</td>\n",
       "    </tr>\n",
       "    <tr>\n",
       "      <th>1</th>\n",
       "      <td>2022-06-16</td>\n",
       "      <td>3</td>\n",
       "      <td>CloseFaster</td>\n",
       "      <td>NoDTI</td>\n",
       "      <td>Facebook</td>\n",
       "      <td>Single image</td>\n",
       "      <td>Campaign</td>\n",
       "      <td>1</td>\n",
       "      <td>0</td>\n",
       "      <td>0.0</td>\n",
       "      <td>137</td>\n",
       "      <td>0</td>\n",
       "    </tr>\n",
       "    <tr>\n",
       "      <th>2</th>\n",
       "      <td>2022-08-29</td>\n",
       "      <td>1</td>\n",
       "      <td>CloseFaster</td>\n",
       "      <td>MoreAll</td>\n",
       "      <td>User ID Display</td>\n",
       "      <td>NaN</td>\n",
       "      <td>Campaign</td>\n",
       "      <td>2</td>\n",
       "      <td>0</td>\n",
       "      <td>0.0</td>\n",
       "      <td>63</td>\n",
       "      <td>0</td>\n",
       "    </tr>\n",
       "    <tr>\n",
       "      <th>3</th>\n",
       "      <td>2022-06-09</td>\n",
       "      <td>4</td>\n",
       "      <td>UnfairAdvantage</td>\n",
       "      <td>1page</td>\n",
       "      <td>LinkedIn</td>\n",
       "      <td>Single image</td>\n",
       "      <td>Campaign</td>\n",
       "      <td>2</td>\n",
       "      <td>0</td>\n",
       "      <td>50.0</td>\n",
       "      <td>144</td>\n",
       "      <td>0</td>\n",
       "    </tr>\n",
       "    <tr>\n",
       "      <th>4</th>\n",
       "      <td>2022-08-03</td>\n",
       "      <td>1</td>\n",
       "      <td>UnfairAdvantage</td>\n",
       "      <td>1099</td>\n",
       "      <td>Domain Display</td>\n",
       "      <td>Single image</td>\n",
       "      <td>Campaign</td>\n",
       "      <td>1</td>\n",
       "      <td>0</td>\n",
       "      <td>0.0</td>\n",
       "      <td>89</td>\n",
       "      <td>0</td>\n",
       "    </tr>\n",
       "  </tbody>\n",
       "</table>\n",
       "</div>"
      ],
      "text/plain": [
       "        Date Audience Creative - Family Creative - Version         Platform  \\\n",
       "0 2022-08-16      NaN       CloserTwins          Cutdown1A   Domain Display   \n",
       "1 2022-06-16        3       CloseFaster              NoDTI         Facebook   \n",
       "2 2022-08-29        1       CloseFaster            MoreAll  User ID Display   \n",
       "3 2022-06-09        4   UnfairAdvantage              1page         LinkedIn   \n",
       "4 2022-08-03        1   UnfairAdvantage               1099   Domain Display   \n",
       "\n",
       "      Ad Format Campaign Traffic?  Total Sessions  Total Bounces  \\\n",
       "0         Video          Campaign               1              0   \n",
       "1  Single image          Campaign               1              0   \n",
       "2           NaN          Campaign               2              0   \n",
       "3  Single image          Campaign               2              0   \n",
       "4  Single image          Campaign               1              0   \n",
       "\n",
       "   Total Duration  Days away from max date  Latest report?  \n",
       "0            73.0                       76               0  \n",
       "1             0.0                      137               0  \n",
       "2             0.0                       63               0  \n",
       "3            50.0                      144               0  \n",
       "4             0.0                       89               0  "
      ]
     },
     "execution_count": 2,
     "metadata": {},
     "output_type": "execute_result"
    }
   ],
   "source": [
    "GenStats_raw = pd.read_excel(\"Change 2022_GA writeback_091122.xlsx\", sheet_name=\"General stats - web traffic\")\n",
    "\n",
    "GenStats_raw.head()"
   ]
  },
  {
   "cell_type": "code",
   "execution_count": 3,
   "id": "fc7d89f2",
   "metadata": {},
   "outputs": [],
   "source": [
    "#Create new dataframe for cleaned data\n",
    "GenStats = GenStats_raw.copy()"
   ]
  },
  {
   "cell_type": "markdown",
   "id": "7622ed2d",
   "metadata": {},
   "source": [
    "## 1. Rename Columns"
   ]
  },
  {
   "cell_type": "code",
   "execution_count": 4,
   "id": "2fc04075",
   "metadata": {},
   "outputs": [],
   "source": [
    "# Rename the column headers.\n",
    "GenStats = GenStats.rename(\n",
    "    columns={\n",
    "        \"City, Country\": \"Location\",\n",
    "        \"Creative - Family\": \"Creative_Family\",\n",
    "        \"Creative - Version\": \"Creative_Version\",\n",
    "        \"Ad Format\": \"Ad_Format\",\n",
    "        \"Campaign Traffic?\": \"Campaign_Traffic\",\n",
    "        \"Total Sessions\": \"Total_Sessions\",\n",
    "        \"Total Bounces\": \"Total_Bounces\",\n",
    "        \"Total Duration\": \"Total_Duration\",\n",
    "        \"Days away from max date\": \"Days_Max_Date\",\n",
    "        \"Latest report?\": \"Latest_Report\"})\n"
   ]
  },
  {
   "cell_type": "markdown",
   "id": "b69eb037",
   "metadata": {},
   "source": [
    "\n",
    "## 1. Check for missing values\n",
    "- Evaluate what to do with entries with missing values"
   ]
  },
  {
   "cell_type": "code",
   "execution_count": 5,
   "id": "f0b0e859",
   "metadata": {},
   "outputs": [
    {
     "name": "stdout",
     "output_type": "stream",
     "text": [
      "<class 'pandas.core.frame.DataFrame'>\n",
      "RangeIndex: 13194 entries, 0 to 13193\n",
      "Data columns (total 12 columns):\n",
      " #   Column                   Non-Null Count  Dtype         \n",
      "---  ------                   --------------  -----         \n",
      " 0   Date                     13194 non-null  datetime64[ns]\n",
      " 1   Audience                 12430 non-null  object        \n",
      " 2   Creative - Family        13194 non-null  object        \n",
      " 3   Creative - Version       13194 non-null  object        \n",
      " 4   Platform                 12821 non-null  object        \n",
      " 5   Ad Format                7956 non-null   object        \n",
      " 6   Campaign Traffic?        13194 non-null  object        \n",
      " 7   Total Sessions           13194 non-null  int64         \n",
      " 8   Total Bounces            13194 non-null  int64         \n",
      " 9   Total Duration           13194 non-null  float64       \n",
      " 10  Days away from max date  13194 non-null  int64         \n",
      " 11  Latest report?           13194 non-null  int64         \n",
      "dtypes: datetime64[ns](1), float64(1), int64(4), object(6)\n",
      "memory usage: 1.2+ MB\n"
     ]
    }
   ],
   "source": [
    "GenStats_raw.info()"
   ]
  },
  {
   "cell_type": "markdown",
   "id": "61faf994",
   "metadata": {},
   "source": [
    "## Basic Overview:\n",
    "\n",
    "Out of __13194 entries__\n",
    "\n",
    "There are missing data for:\n",
    "- Audience : **764** missing values [**5.8%** missing]\n",
    "    - Unable to determine which demographic group entry falls under\n",
    "    - Will not be useful in determining effectiveness of ad campaigns among each demographic group<br>\n",
    "> 402 (Campaign Traffic), 362 (General Traffic)\n",
    "> ⇒ Blanks to be replaced with with NA value for 'Audience' column, however, data will likely be excluded in later analysis\n",
    "> \n",
    "\n",
    "- Platform :  **373** missing values [**2.8%** missing]\n",
    "    - However, Ad campaign family & Version information still available <br>\n",
    "    - Entries can still be used ⇒ no need to remove whole row <br>\n",
    ">⇒ **Replace NA entries with \"NA\"** for 'Platform' column\n",
    "\n",
    " <br>  \n",
    "- Ad Format :  **5238** missing values [**39.7%** missing]\n",
    "    - Significant number of entries with missing data for 'Ad Format'\n",
    "    - Significantly reduce sample size if all the data removed\n",
    ">⇒ **Replace NA entries with \"NA\"** for 'Platform' column"
   ]
  },
  {
   "cell_type": "code",
   "execution_count": 6,
   "id": "a1bbdc2c",
   "metadata": {},
   "outputs": [],
   "source": [
    "# Create function to check unique values in \n",
    "def col_list(df, para):\n",
    "    print(\"List of values in <\", para ,\"> : \\n\",df[para].unique(),\"\\n\")\n",
    "    return"
   ]
  },
  {
   "cell_type": "markdown",
   "id": "c3b40ab0",
   "metadata": {},
   "source": [
    "### 1.1. Demographic Information\n",
    "Columns: 'Audience' <br>\n",
    "\n",
    " 1   Audience                 12430 non-null  object       \n",
    " \n",
    " Expected Values: <br>\n",
    "Audience 1\t:\tRegistered Loan Officers from Registered Brokerage, active (last 120 days). <br>\n",
    "Audience 2\t:\tRegistered Loan Officers from Registered Brokerage, inactive (last 120 days). <br>\n",
    "Audience 3\t:\tRegistered Loan Officers from Registered Brokerage, never registered a loan. <br>\n",
    "Audience 4\t:\tNon-Registered Loan Officers from Registered Brokerages. <br>\n",
    "Audience 5\t:\tRetargeted audience. Non-Registered Loan Officers who visited website (last 7 days). <br>\n",
    "Audience 6\t:\tGeneral Targeting. Brokers not registered and not from registered brokerages."
   ]
  },
  {
   "cell_type": "code",
   "execution_count": 7,
   "id": "243a5d96",
   "metadata": {},
   "outputs": [
    {
     "name": "stdout",
     "output_type": "stream",
     "text": [
      "List of values in < Audience > : \n",
      " [nan '3' '1' '4' '5' 'General Targetting' '2'\n",
      " '1to4https://changewholesale.com/anti-inflation-special/?utm_campaign=FY22_anti_inflation'\n",
      " '1to4'\n",
      " 'fourhttps://changewholesale.com/broker-approval/?utm_campaign=FY23_broker_campaign'\n",
      " 'fivehttps://changewholesale.com/broker-approval/?utm_campaign=FY23_broker_campaign'\n",
      " 'fivehttps://changewholesale.com/closer-twins/' '44652' 'test2'\n",
      " 'fivedisparate' 'test3'\n",
      " 'fourhttps://changewholesale.com/?utm_campaign=FY23_broker_campaign'\n",
      " 'test20th' 'five/broker-approval/' 'test6' 'one/' 'test5'] \n",
      "\n"
     ]
    }
   ],
   "source": [
    "col_list(GenStats, 'Audience')"
   ]
  },
  {
   "cell_type": "markdown",
   "id": "049d9f4b",
   "metadata": {},
   "source": [
    "### Cleaning Required:  \n",
    "1) Remove unwanted URLs attached to numbers (1-6)  <br>\n",
    "2) Rename \"1to4\" to \"4\"\n",
    "> Based on preliminary check, Audience 4 is the most common\n",
    "\n",
    "3) Rename \"General Targetting\" to \"6\" <br>\n",
    "4) Remove all none 1-6 values <br>"
   ]
  },
  {
   "cell_type": "code",
   "execution_count": 8,
   "id": "ffed435d",
   "metadata": {},
   "outputs": [
    {
     "name": "stdout",
     "output_type": "stream",
     "text": [
      "List of values in < Audience > : \n",
      " ['NA' '3' '1' '4' '5' '6' '2'] \n",
      "\n"
     ]
    },
    {
     "name": "stderr",
     "output_type": "stream",
     "text": [
      "C:\\Users\\athir\\AppData\\Local\\Temp/ipykernel_21972/3115880027.py:2: FutureWarning: The default value of regex will change from True to False in a future version.\n",
      "  GenStats['Audience'] = GenStats.Audience.str.replace(r'(^.*one.*$)', '1')\n",
      "C:\\Users\\athir\\AppData\\Local\\Temp/ipykernel_21972/3115880027.py:3: FutureWarning: The default value of regex will change from True to False in a future version.\n",
      "  GenStats['Audience'] = GenStats.Audience.str.replace(r'(^.*four.*$)', '4')\n",
      "C:\\Users\\athir\\AppData\\Local\\Temp/ipykernel_21972/3115880027.py:4: FutureWarning: The default value of regex will change from True to False in a future version.\n",
      "  GenStats['Audience'] = GenStats.Audience.str.replace(r'(^.*five.*$)', '5')\n",
      "C:\\Users\\athir\\AppData\\Local\\Temp/ipykernel_21972/3115880027.py:7: FutureWarning: The default value of regex will change from True to False in a future version.\n",
      "  GenStats['Audience'] = GenStats.Audience.str.replace(r'(^.*1to4.*$)', '4')\n"
     ]
    }
   ],
   "source": [
    "# Replace numbers with unwanted tail\n",
    "GenStats['Audience'] = GenStats.Audience.str.replace(r'(^.*one.*$)', '1')\n",
    "GenStats['Audience'] = GenStats.Audience.str.replace(r'(^.*four.*$)', '4')\n",
    "GenStats['Audience'] = GenStats.Audience.str.replace(r'(^.*five.*$)', '5')\n",
    "\n",
    "# Replace '1to4' with '4'\n",
    "GenStats['Audience'] = GenStats.Audience.str.replace(r'(^.*1to4.*$)', '4')\n",
    "\n",
    "# Rename 'General Targetting' to '6'\n",
    "GenStats['Audience'] = GenStats.Audience.str.replace('General Targetting', '6')\n",
    "\n",
    "# Replace all non-'1-6' values\n",
    "allowed_vals = ['1','2','3','4','5','6']\n",
    "GenStats.loc[~GenStats['Audience'].isin(allowed_vals), 'Audience'] = 'NA'\n",
    "\n",
    "# Check remaining values \n",
    "col_list(GenStats, 'Audience')"
   ]
  },
  {
   "cell_type": "code",
   "execution_count": 9,
   "id": "88cb8c06",
   "metadata": {
    "scrolled": true
   },
   "outputs": [
    {
     "data": {
      "text/html": [
       "<div>\n",
       "<style scoped>\n",
       "    .dataframe tbody tr th:only-of-type {\n",
       "        vertical-align: middle;\n",
       "    }\n",
       "\n",
       "    .dataframe tbody tr th {\n",
       "        vertical-align: top;\n",
       "    }\n",
       "\n",
       "    .dataframe thead th {\n",
       "        text-align: right;\n",
       "    }\n",
       "</style>\n",
       "<table border=\"1\" class=\"dataframe\">\n",
       "  <thead>\n",
       "    <tr style=\"text-align: right;\">\n",
       "      <th></th>\n",
       "      <th>Total_Sessions</th>\n",
       "      <th>Total_Bounces</th>\n",
       "      <th>Total_Duration</th>\n",
       "    </tr>\n",
       "    <tr>\n",
       "      <th>Audience</th>\n",
       "      <th></th>\n",
       "      <th></th>\n",
       "      <th></th>\n",
       "    </tr>\n",
       "  </thead>\n",
       "  <tbody>\n",
       "    <tr>\n",
       "      <th>NA</th>\n",
       "      <td>446497</td>\n",
       "      <td>52532</td>\n",
       "      <td>1.345429e+08</td>\n",
       "    </tr>\n",
       "    <tr>\n",
       "      <th>4</th>\n",
       "      <td>23548</td>\n",
       "      <td>13</td>\n",
       "      <td>2.509180e+05</td>\n",
       "    </tr>\n",
       "    <tr>\n",
       "      <th>6</th>\n",
       "      <td>21026</td>\n",
       "      <td>23</td>\n",
       "      <td>2.210070e+06</td>\n",
       "    </tr>\n",
       "    <tr>\n",
       "      <th>5</th>\n",
       "      <td>16385</td>\n",
       "      <td>1559</td>\n",
       "      <td>4.282180e+05</td>\n",
       "    </tr>\n",
       "    <tr>\n",
       "      <th>1</th>\n",
       "      <td>8349</td>\n",
       "      <td>3</td>\n",
       "      <td>3.721500e+04</td>\n",
       "    </tr>\n",
       "    <tr>\n",
       "      <th>3</th>\n",
       "      <td>7484</td>\n",
       "      <td>0</td>\n",
       "      <td>1.969400e+04</td>\n",
       "    </tr>\n",
       "    <tr>\n",
       "      <th>2</th>\n",
       "      <td>4598</td>\n",
       "      <td>0</td>\n",
       "      <td>1.108600e+04</td>\n",
       "    </tr>\n",
       "  </tbody>\n",
       "</table>\n",
       "</div>"
      ],
      "text/plain": [
       "          Total_Sessions  Total_Bounces  Total_Duration\n",
       "Audience                                               \n",
       "NA                446497          52532    1.345429e+08\n",
       "4                  23548             13    2.509180e+05\n",
       "6                  21026             23    2.210070e+06\n",
       "5                  16385           1559    4.282180e+05\n",
       "1                   8349              3    3.721500e+04\n",
       "3                   7484              0    1.969400e+04\n",
       "2                   4598              0    1.108600e+04"
      ]
     },
     "execution_count": 9,
     "metadata": {},
     "output_type": "execute_result"
    }
   ],
   "source": [
    "GenStats.groupby('Audience')\\\n",
    "        .agg({'Total_Sessions':sum,'Total_Bounces':sum,'Total_Duration':sum})\\\n",
    "        .sort_values('Total_Sessions', ascending=False)"
   ]
  },
  {
   "cell_type": "code",
   "execution_count": 10,
   "id": "14cb5b08",
   "metadata": {
    "scrolled": false
   },
   "outputs": [
    {
     "data": {
      "text/plain": [
       "Audience\n",
       "1     2041\n",
       "2     1174\n",
       "3     1487\n",
       "4     3708\n",
       "5     2851\n",
       "6     1162\n",
       "NA     771\n",
       "Name: Audience, dtype: int64"
      ]
     },
     "execution_count": 10,
     "metadata": {},
     "output_type": "execute_result"
    }
   ],
   "source": [
    "GenStats.groupby('Audience')['Audience'].count()"
   ]
  },
  {
   "cell_type": "markdown",
   "id": "89ab5422",
   "metadata": {},
   "source": [
    "### Re-evaluating the need to remove missing data under 'Audience'\n",
    "\n",
    "Only 5.8% of entries have 'NA' audience type.\n",
    "However, this group also accounts for 84.6% of sessions and 97.8% of total duration.\n",
    "\n",
    "> I have opted to keep these entries until further discussion but they can still be easily removed afterwards by deleting all 'NA' entries"
   ]
  },
  {
   "cell_type": "markdown",
   "id": "4a239b74",
   "metadata": {},
   "source": [
    "### 1.2. Advertising Campaign\n",
    "Columns:  <br>\n",
    " 2   Creative - Family        13194 non-null  object         <br>\n",
    " 3   Creative - Version       13194 non-null  object         <br>\n",
    " 4   Platform                 12821 non-null  object         <br>\n",
    " 5   Ad Format                7956 non-null   object         <br>\n",
    " 6   Campaign Traffic?        13194 non-null  object         <br>\n",
    " \n",
    " Expected Values: <br>"
   ]
  },
  {
   "cell_type": "code",
   "execution_count": 11,
   "id": "190916d1",
   "metadata": {},
   "outputs": [
    {
     "name": "stdout",
     "output_type": "stream",
     "text": [
      "List of values in < Creative_Family > : \n",
      " ['CloserTwins' 'CloseFaster' 'UnfairAdvantage' 'SEM Ads' 'Trade Media Ads'\n",
      " '(not set)' datetime.datetime(2022, 6, 9, 0, 0) 'domain' 'August'\n",
      " 'August/' 'CompetitiveOpportunity' '08-29-2022' 'newsletter' 'NovDec'\n",
      " 'DybffeGjvaf' 'One-Off' datetime.datetime(2022, 1, 3, 0, 0) 'crm'\n",
      " 'ComingSoon' 'All3' 227112117 '08-25-2022' '08-24-2022' 'SnapdocsLive'\n",
      " 'eml' '08-30-2022' datetime.datetime(2022, 8, 9, 0, 0) '10-28-2022'\n",
      " 'ebgf' 'December' 44801 206306768 'nmls' 'Baf-Baa' 'DbzvatFbba' 'unfair'\n",
      " 'Bhthfg' 'FabcebdfYvif' 219526440 'afjfyfggfe' '08-28-2022'] \n",
      "\n",
      "List of values in < Creative_Version > : \n",
      " ['Cutdown1A' 'NoDTI' 'MoreAll' '1page' 1099 'MoreLoansAll' 'Faceoff' 'All'\n",
      " \"We Are America's CDFI\" 'EarlyBird' 'OnePage' 'CloseMore' 'ROS5'\n",
      " 'Competitors' 'Namaste' 'interactive' 'OTT_15' 'ROS1' 'Change Wholesale'\n",
      " 'FasterAll' '3steps' 'Paperwork' '300x250' 'Faster' 'Cutdown1B'\n",
      " 'Animated' '(not set)' 'Faceoff1' 'FasterReg' 'RTB'\n",
      " datetime.datetime(2022, 6, 9, 0, 0) 'Close More. Close Faster.'\n",
      " 'MoreNoReg' 'ad1' 'Faceoff2' 'MoreLoans' 'August' 'ShapeUp' 'OTT_30QR'\n",
      " 'August/' 'Cancelingyourlock' 'Rate Lock' '08-29-2022'\n",
      " 'Theycancelweclose' 'OTT_30' 'NovDec' '728x90' 'EGC' 'One-Off'\n",
      " datetime.datetime(2022, 1, 3, 0, 0) 'ComingSoon' 'All3' 227112117\n",
      " '08-25-2022' '08-24-2022' 'OTT_15QR' 'ROS2' 'SnapdocsLive' '08-30-2022'\n",
      " datetime.datetime(2022, 8, 9, 0, 0) '10-28-2022' 'wallpaper' 'ybdx'\n",
      " 'December' 44801 206306768 'Baf-Baa' 'ROS' 'DbzvatFbba' 'ROP' 'adv'\n",
      " 'Bhthfg' 'FabcebdfYvif' 219526440 '633k583' '08-28-2022'] \n",
      "\n",
      "List of values in < Platform > : \n",
      " ['Domain Display' 'Facebook' 'User ID Display' 'LinkedIn' 'Google SEM'\n",
      " 'Trade Media' 'OTT' nan] \n",
      "\n",
      "List of values in < Ad_Format > : \n",
      " ['Video' 'Single image' nan 'Carousel' 'CPC' 'Housingwire'\n",
      " 'National_mortgage_news' 'Animated' 'Inside_mortgage_finance_newsletter'\n",
      " 'Chrisman' 'Scotsman' 'Nmn' 'Nmn_partner_insight_1'\n",
      " 'Nmn_partner_insight_2'] \n",
      "\n",
      "List of values in < Campaign_Traffic > : \n",
      " ['Campaign' 'General traffic'] \n",
      "\n"
     ]
    }
   ],
   "source": [
    "col_list(GenStats, 'Creative_Family')\n",
    "col_list(GenStats, 'Creative_Version')\n",
    "col_list(GenStats, 'Platform')\n",
    "col_list(GenStats, 'Ad_Format')\n",
    "col_list(GenStats, 'Campaign_Traffic')"
   ]
  },
  {
   "cell_type": "markdown",
   "id": "77b8a0cd",
   "metadata": {},
   "source": [
    "### Cleaning Required:  \n",
    "1) No cleaning required for 'Campaign Traffic?'  <br>\n",
    "2) Rename missing values in 'Platform', 'Ad Format' with \"NA\" <br>\n",
    "<br>\n",
    "3) Many values in 'Creative - Family' and 'Creative - Version' <br>\n",
    "    - will need to evaluate which are actual values and which are erroneous <br>\n",
    "    - Maybe cross-refer to other datasets"
   ]
  },
  {
   "cell_type": "markdown",
   "id": "f496c376",
   "metadata": {},
   "source": [
    "### 1.2.1 Platform & Ad_Format"
   ]
  },
  {
   "cell_type": "code",
   "execution_count": 12,
   "id": "935dd15a",
   "metadata": {
    "scrolled": true
   },
   "outputs": [
    {
     "name": "stdout",
     "output_type": "stream",
     "text": [
      "List of values in < Platform > : \n",
      " ['Domain Display' 'Facebook' 'User ID Display' 'LinkedIn' 'Google SEM'\n",
      " 'Trade Media' 'OTT' 'NA'] \n",
      "\n",
      "List of values in < Ad_Format > : \n",
      " ['Video' 'Single image' 'NA' 'Carousel' 'CPC' 'Housingwire'\n",
      " 'National_mortgage_news' 'Animated' 'Inside_mortgage_finance_newsletter'\n",
      " 'Chrisman' 'Scotsman' 'Nmn' 'Nmn_partner_insight_1'\n",
      " 'Nmn_partner_insight_2'] \n",
      "\n"
     ]
    }
   ],
   "source": [
    "# Replace missing values\n",
    "GenStats = GenStats.fillna('NA')\n",
    "\n",
    "col_list(GenStats, 'Platform')\n",
    "col_list(GenStats, 'Ad_Format')"
   ]
  },
  {
   "cell_type": "markdown",
   "id": "e66312fe",
   "metadata": {},
   "source": [
    "### 1.2.2 Creative_Family & Creative_Version\n",
    "__For 'Creative - Family':__ <br>\n",
    "After evaluating the values in the 'Creative_Family' column, we have found that most of the illogical values are for 'General Traffic' records. Since 'General Traffic' would not be associated with any campaign, we have opted only to keep the \"Creative_Family\" values that are associated with the campaign traffic with the same list as Goal-Stats\n",
    "\n",
    "> __Accepted values:__\n",
    "SEM Ads, \n",
    "UnfairAdvantage, \n",
    "CloserTwins, \n",
    "Trade Media Ads, \n",
    "CloseFaster, \n",
    "domain, \n",
    "August, \n",
    "CompetitiveOpportunity, \n",
    "newsletter, \n",
    "crm\n",
    " <br>\n",
    "\n",
    "__For 'Creative - Version':__<br>\n",
    "We have opted to leave the values as is, since we cannot be sure which version names are correct\n",
    "> Column left untouched so that the data can be used if needed <br>\n",
    "> However, we currently have no plans to use this data column\n",
    "\n",
    "__For both columns:__<br>\n",
    "> All blanks & '(not set)' values to be renamed to 'NA' for consistency"
   ]
  },
  {
   "cell_type": "code",
   "execution_count": 13,
   "id": "44eb7462",
   "metadata": {
    "scrolled": true
   },
   "outputs": [
    {
     "name": "stdout",
     "output_type": "stream",
     "text": [
      "List of values in < Creative_Family > : \n",
      " ['CloserTwins' 'CloseFaster' 'UnfairAdvantage' 'SEM Ads' 'Trade Media Ads'\n",
      " '(not set)' datetime.datetime(2022, 6, 9, 0, 0) 'domain' 'August'\n",
      " 'August/' 'CompetitiveOpportunity' '08-29-2022' 'newsletter' 'NovDec'\n",
      " 'DybffeGjvaf' 'One-Off' datetime.datetime(2022, 1, 3, 0, 0) 'crm'\n",
      " 'ComingSoon' 'All3' 227112117 '08-25-2022' '08-24-2022' 'SnapdocsLive'\n",
      " 'eml' '08-30-2022' datetime.datetime(2022, 8, 9, 0, 0) '10-28-2022'\n",
      " 'ebgf' 'December' 44801 206306768 'nmls' 'Baf-Baa' 'DbzvatFbba' 'unfair'\n",
      " 'Bhthfg' 'FabcebdfYvif' 219526440 'afjfyfggfe' '08-28-2022'] \n",
      "\n"
     ]
    }
   ],
   "source": [
    "# Original values for Creative_Family in GenStats\n",
    "col_list(GenStats, 'Creative_Family')"
   ]
  },
  {
   "cell_type": "code",
   "execution_count": 14,
   "id": "33f2a5de",
   "metadata": {
    "scrolled": false
   },
   "outputs": [],
   "source": [
    "CreFam_allowed = ['SEM Ads', 'UnfairAdvantage', 'CloserTwins', \\\n",
    "                  'Trade Media Ads', 'CloseFaster', 'domain', 'August', \\\n",
    "                  'CompetitiveOpportunity', 'newsletter', 'crm']"
   ]
  },
  {
   "cell_type": "code",
   "execution_count": 15,
   "id": "d64d53c1",
   "metadata": {
    "scrolled": false
   },
   "outputs": [
    {
     "name": "stdout",
     "output_type": "stream",
     "text": [
      "List of values in < Creative_Family > : \n",
      " ['CloserTwins' 'CloseFaster' 'UnfairAdvantage' 'SEM Ads' 'Trade Media Ads'\n",
      " 'NA' 'domain' 'August' 'CompetitiveOpportunity' 'newsletter' 'crm'] \n",
      "\n"
     ]
    }
   ],
   "source": [
    "# 'NA' all values that are not in the allowed list\n",
    "GenStats.loc[~GenStats['Creative_Family'].isin(CreFam_allowed), \\\n",
    "             'Creative_Family'] = 'NA'\n",
    "\n",
    "col_list(GenStats, 'Creative_Family')"
   ]
  },
  {
   "cell_type": "code",
   "execution_count": 16,
   "id": "1b681de8",
   "metadata": {},
   "outputs": [
    {
     "name": "stdout",
     "output_type": "stream",
     "text": [
      "List of values in < Creative_Version > : \n",
      " ['Cutdown1A' 'NoDTI' 'MoreAll' '1page' 1099 'MoreLoansAll' 'Faceoff' 'All'\n",
      " \"We Are America's CDFI\" 'EarlyBird' 'OnePage' 'CloseMore' 'ROS5'\n",
      " 'Competitors' 'Namaste' 'interactive' 'OTT_15' 'ROS1' 'Change Wholesale'\n",
      " 'FasterAll' '3steps' 'Paperwork' '300x250' 'Faster' 'Cutdown1B'\n",
      " 'Animated' 'NA' 'Faceoff1' 'FasterReg' 'RTB'\n",
      " datetime.datetime(2022, 6, 9, 0, 0) 'Close More. Close Faster.'\n",
      " 'MoreNoReg' 'ad1' 'Faceoff2' 'MoreLoans' 'August' 'ShapeUp' 'OTT_30QR'\n",
      " 'August/' 'Cancelingyourlock' 'Rate Lock' '08-29-2022'\n",
      " 'Theycancelweclose' 'OTT_30' 'NovDec' '728x90' 'EGC' 'One-Off'\n",
      " datetime.datetime(2022, 1, 3, 0, 0) 'ComingSoon' 'All3' 227112117\n",
      " '08-25-2022' '08-24-2022' 'OTT_15QR' 'ROS2' 'SnapdocsLive' '08-30-2022'\n",
      " datetime.datetime(2022, 8, 9, 0, 0) '10-28-2022' 'wallpaper' 'ybdx'\n",
      " 'December' 44801 206306768 'Baf-Baa' 'ROS' 'DbzvatFbba' 'ROP' 'adv'\n",
      " 'Bhthfg' 'FabcebdfYvif' 219526440 '633k583' '08-28-2022'] \n",
      "\n"
     ]
    }
   ],
   "source": [
    "# Rename '(not set)' to 'NA'\n",
    "GenStats['Creative_Version'] = GenStats.Creative_Version.replace('(not set)', 'NA')\n",
    "\n",
    "col_list(GenStats, 'Creative_Version')"
   ]
  },
  {
   "cell_type": "markdown",
   "id": "371ac0fb",
   "metadata": {},
   "source": [
    "### 1.3. Success Markers\n",
    "Columns:  <br>        \n",
    " 7   Total Sessions           13194 non-null  int64         <br>\n",
    " 8   Total Bounces            13194 non-null  int64         <br>\n",
    " 9   Total Duration           13194 non-null  float64       <br>\n",
    " \n",
    " Expected Values: <br>\n",
    " \n",
    " > Since all values in these columns are numbers, we can get a number sensing"
   ]
  },
  {
   "cell_type": "code",
   "execution_count": 17,
   "id": "15352939",
   "metadata": {
    "scrolled": true
   },
   "outputs": [
    {
     "data": {
      "text/html": [
       "<div>\n",
       "<style scoped>\n",
       "    .dataframe tbody tr th:only-of-type {\n",
       "        vertical-align: middle;\n",
       "    }\n",
       "\n",
       "    .dataframe tbody tr th {\n",
       "        vertical-align: top;\n",
       "    }\n",
       "\n",
       "    .dataframe thead th {\n",
       "        text-align: right;\n",
       "    }\n",
       "</style>\n",
       "<table border=\"1\" class=\"dataframe\">\n",
       "  <thead>\n",
       "    <tr style=\"text-align: right;\">\n",
       "      <th></th>\n",
       "      <th>Total_Sessions</th>\n",
       "      <th>Total_Bounces</th>\n",
       "      <th>Total_Duration</th>\n",
       "      <th>Days_Max_Date</th>\n",
       "      <th>Latest_Report</th>\n",
       "    </tr>\n",
       "  </thead>\n",
       "  <tbody>\n",
       "    <tr>\n",
       "      <th>count</th>\n",
       "      <td>13194.000000</td>\n",
       "      <td>13194.000000</td>\n",
       "      <td>1.319400e+04</td>\n",
       "      <td>13194.000000</td>\n",
       "      <td>13194.000000</td>\n",
       "    </tr>\n",
       "    <tr>\n",
       "      <th>mean</th>\n",
       "      <td>40.009626</td>\n",
       "      <td>4.102622</td>\n",
       "      <td>1.042141e+04</td>\n",
       "      <td>97.686600</td>\n",
       "      <td>0.063741</td>\n",
       "    </tr>\n",
       "    <tr>\n",
       "      <th>std</th>\n",
       "      <td>317.764981</td>\n",
       "      <td>39.480841</td>\n",
       "      <td>1.043190e+05</td>\n",
       "      <td>56.556894</td>\n",
       "      <td>0.244300</td>\n",
       "    </tr>\n",
       "    <tr>\n",
       "      <th>min</th>\n",
       "      <td>1.000000</td>\n",
       "      <td>0.000000</td>\n",
       "      <td>0.000000e+00</td>\n",
       "      <td>0.000000</td>\n",
       "      <td>0.000000</td>\n",
       "    </tr>\n",
       "    <tr>\n",
       "      <th>25%</th>\n",
       "      <td>1.000000</td>\n",
       "      <td>0.000000</td>\n",
       "      <td>0.000000e+00</td>\n",
       "      <td>49.000000</td>\n",
       "      <td>0.000000</td>\n",
       "    </tr>\n",
       "    <tr>\n",
       "      <th>50%</th>\n",
       "      <td>2.000000</td>\n",
       "      <td>0.000000</td>\n",
       "      <td>0.000000e+00</td>\n",
       "      <td>94.000000</td>\n",
       "      <td>0.000000</td>\n",
       "    </tr>\n",
       "    <tr>\n",
       "      <th>75%</th>\n",
       "      <td>6.000000</td>\n",
       "      <td>0.000000</td>\n",
       "      <td>0.000000e+00</td>\n",
       "      <td>146.000000</td>\n",
       "      <td>0.000000</td>\n",
       "    </tr>\n",
       "    <tr>\n",
       "      <th>max</th>\n",
       "      <td>6505.000000</td>\n",
       "      <td>608.000000</td>\n",
       "      <td>1.737539e+06</td>\n",
       "      <td>213.000000</td>\n",
       "      <td>1.000000</td>\n",
       "    </tr>\n",
       "  </tbody>\n",
       "</table>\n",
       "</div>"
      ],
      "text/plain": [
       "       Total_Sessions  Total_Bounces  Total_Duration  Days_Max_Date  \\\n",
       "count    13194.000000   13194.000000    1.319400e+04   13194.000000   \n",
       "mean        40.009626       4.102622    1.042141e+04      97.686600   \n",
       "std        317.764981      39.480841    1.043190e+05      56.556894   \n",
       "min          1.000000       0.000000    0.000000e+00       0.000000   \n",
       "25%          1.000000       0.000000    0.000000e+00      49.000000   \n",
       "50%          2.000000       0.000000    0.000000e+00      94.000000   \n",
       "75%          6.000000       0.000000    0.000000e+00     146.000000   \n",
       "max       6505.000000     608.000000    1.737539e+06     213.000000   \n",
       "\n",
       "       Latest_Report  \n",
       "count   13194.000000  \n",
       "mean        0.063741  \n",
       "std         0.244300  \n",
       "min         0.000000  \n",
       "25%         0.000000  \n",
       "50%         0.000000  \n",
       "75%         0.000000  \n",
       "max         1.000000  "
      ]
     },
     "execution_count": 17,
     "metadata": {},
     "output_type": "execute_result"
    }
   ],
   "source": [
    "GenStats.describe()"
   ]
  },
  {
   "attachments": {},
   "cell_type": "markdown",
   "id": "50f1fb75",
   "metadata": {},
   "source": [
    "__Notable values__ <br>\n",
    "Total_Duration = 0 for at least the bottom 75 percentiles <br>\n",
    "➜ Even though Total_bounce = 0 for most of these entries (10182 out of 10278 [99.1%])\n",
    "> Might need to revisit whether values for duration = 0 is usable or erroneous"
   ]
  },
  {
   "cell_type": "markdown",
   "id": "9dffc9ea",
   "metadata": {},
   "source": [
    "### Cleaning Required:  \n",
    "1) All measures already in numerical data type, no change required  <br>\n",
    "2) No missing values "
   ]
  },
  {
   "cell_type": "markdown",
   "id": "eea155aa",
   "metadata": {},
   "source": [
    "## 3. Remove Redundant Columns\n",
    "\n",
    "Unused: 'Days_Max_Date','Latest_Report'"
   ]
  },
  {
   "cell_type": "code",
   "execution_count": 18,
   "id": "ab053c0f",
   "metadata": {},
   "outputs": [],
   "source": [
    "GenStats = GenStats.drop(columns=['Days_Max_Date','Latest_Report'])"
   ]
  },
  {
   "cell_type": "markdown",
   "id": "7331c3af",
   "metadata": {},
   "source": [
    "## 4. Save cleaned dataframe as csv"
   ]
  },
  {
   "cell_type": "code",
   "execution_count": 19,
   "id": "920e330a",
   "metadata": {},
   "outputs": [
    {
     "name": "stdout",
     "output_type": "stream",
     "text": [
      "<class 'pandas.core.frame.DataFrame'>\n",
      "RangeIndex: 13194 entries, 0 to 13193\n",
      "Data columns (total 10 columns):\n",
      " #   Column            Non-Null Count  Dtype         \n",
      "---  ------            --------------  -----         \n",
      " 0   Date              13194 non-null  datetime64[ns]\n",
      " 1   Audience          13194 non-null  object        \n",
      " 2   Creative_Family   13194 non-null  object        \n",
      " 3   Creative_Version  13194 non-null  object        \n",
      " 4   Platform          13194 non-null  object        \n",
      " 5   Ad_Format         13194 non-null  object        \n",
      " 6   Campaign_Traffic  13194 non-null  object        \n",
      " 7   Total_Sessions    13194 non-null  int64         \n",
      " 8   Total_Bounces     13194 non-null  int64         \n",
      " 9   Total_Duration    13194 non-null  float64       \n",
      "dtypes: datetime64[ns](1), float64(1), int64(2), object(6)\n",
      "memory usage: 1.0+ MB\n"
     ]
    }
   ],
   "source": [
    "GenStats.info()"
   ]
  },
  {
   "cell_type": "code",
   "execution_count": 20,
   "id": "50214c52",
   "metadata": {},
   "outputs": [],
   "source": [
    "# Create a CSV file as output.\n",
    "GenStats.to_csv(r'general-stats_cleaned.csv', index=False)"
   ]
  }
 ],
 "metadata": {
  "kernelspec": {
   "display_name": "Python 3 (ipykernel)",
   "language": "python",
   "name": "python3"
  },
  "language_info": {
   "codemirror_mode": {
    "name": "ipython",
    "version": 3
   },
   "file_extension": ".py",
   "mimetype": "text/x-python",
   "name": "python",
   "nbconvert_exporter": "python",
   "pygments_lexer": "ipython3",
   "version": "3.9.7"
  }
 },
 "nbformat": 4,
 "nbformat_minor": 5
}
