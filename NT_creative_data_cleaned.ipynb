{
 "cells": [
  {
   "cell_type": "markdown",
   "id": "42119ff5",
   "metadata": {},
   "source": [
    "### Dataset : 'Change 2022 Creative Data writeback_091122.xlxs'"
   ]
  },
  {
   "cell_type": "markdown",
   "id": "fa7dbe8f",
   "metadata": {},
   "source": [
    "Data cleaning process for 'Change 2022 Creative Data writeback_091122.xlsx' dataset. \n",
    "\n",
    "Excel cleaning: A new column 'Spend_new' with 'number' format  was created containing the 'Spend' column  data but converted to number format as some of the cells has a date-time value instead. \n",
    "\n"
   ]
  },
  {
   "cell_type": "markdown",
   "id": "51b84f01",
   "metadata": {},
   "source": [
    "## Import and Explore the data"
   ]
  },
  {
   "cell_type": "markdown",
   "id": "0295a7aa",
   "metadata": {},
   "source": [
    "## Prepare the workstation"
   ]
  },
  {
   "cell_type": "code",
   "execution_count": 1,
   "id": "d695fef9",
   "metadata": {},
   "outputs": [],
   "source": [
    "# Import the necessary libraries and packages\n",
    "import pandas as pd\n",
    "import matplotlib.pyplot as plt\n",
    "import seaborn as sns\n",
    "import numpy as np\n",
    "import datetime as dt\n",
    "\n",
    "# Ignore warnings\n",
    "import warnings\n",
    "warnings.filterwarnings('ignore')"
   ]
  },
  {
   "cell_type": "code",
   "execution_count": 2,
   "id": "56f460b7",
   "metadata": {},
   "outputs": [],
   "source": [
    "# Set the figure size.\n",
    "sns.set(rc={'figure.figsize':(12, 8)})\n",
    "\n",
    "# Set the plot style as white.\n",
    "sns.set_style('white')"
   ]
  },
  {
   "cell_type": "markdown",
   "id": "74a2c680",
   "metadata": {},
   "source": [
    "#### Load the dataset and sense-check \n",
    "  *(Ensure dataset is in current working directory)*"
   ]
  },
  {
   "cell_type": "code",
   "execution_count": 3,
   "id": "6d81ec39",
   "metadata": {},
   "outputs": [
    {
     "data": {
      "text/html": [
       "<div>\n",
       "<style scoped>\n",
       "    .dataframe tbody tr th:only-of-type {\n",
       "        vertical-align: middle;\n",
       "    }\n",
       "\n",
       "    .dataframe tbody tr th {\n",
       "        vertical-align: top;\n",
       "    }\n",
       "\n",
       "    .dataframe thead th {\n",
       "        text-align: right;\n",
       "    }\n",
       "</style>\n",
       "<table border=\"1\" class=\"dataframe\">\n",
       "  <thead>\n",
       "    <tr style=\"text-align: right;\">\n",
       "      <th></th>\n",
       "      <th>Requested URL Path</th>\n",
       "      <th>Campaign</th>\n",
       "      <th>Ad Format</th>\n",
       "      <th>Clicks</th>\n",
       "      <th>Spend</th>\n",
       "      <th>Creative - Size</th>\n",
       "      <th>Date</th>\n",
       "      <th>Impressions</th>\n",
       "      <th>Reach</th>\n",
       "      <th>Audience</th>\n",
       "      <th>...</th>\n",
       "      <th>Creative - Version</th>\n",
       "      <th>100% Video Views</th>\n",
       "      <th>Video Starts</th>\n",
       "      <th>Follows</th>\n",
       "      <th>Days away from max date</th>\n",
       "      <th>Latest report?</th>\n",
       "      <th>CTR</th>\n",
       "      <th>CTR Score</th>\n",
       "      <th>Weighted CTR Score</th>\n",
       "      <th>Spend_new</th>\n",
       "    </tr>\n",
       "  </thead>\n",
       "  <tbody>\n",
       "    <tr>\n",
       "      <th>0</th>\n",
       "      <td>https://graph.facebook.com/v12.0/act_109970164...</td>\n",
       "      <td>FY22</td>\n",
       "      <td>Single image</td>\n",
       "      <td>0.0</td>\n",
       "      <td>0.26</td>\n",
       "      <td>NaN</td>\n",
       "      <td>2022-05-19</td>\n",
       "      <td>119</td>\n",
       "      <td>63.0</td>\n",
       "      <td>1</td>\n",
       "      <td>...</td>\n",
       "      <td>NoDTI</td>\n",
       "      <td>NaN</td>\n",
       "      <td>NaN</td>\n",
       "      <td>NaN</td>\n",
       "      <td>165</td>\n",
       "      <td>0</td>\n",
       "      <td>0.000000</td>\n",
       "      <td>NaN</td>\n",
       "      <td>NaN</td>\n",
       "      <td>0.26</td>\n",
       "    </tr>\n",
       "    <tr>\n",
       "      <th>1</th>\n",
       "      <td>https://graph.facebook.com/v12.0/act_109970164...</td>\n",
       "      <td>FY22</td>\n",
       "      <td>Single image</td>\n",
       "      <td>0.0</td>\n",
       "      <td>0.15</td>\n",
       "      <td>NaN</td>\n",
       "      <td>2022-05-19</td>\n",
       "      <td>9</td>\n",
       "      <td>8.0</td>\n",
       "      <td>1</td>\n",
       "      <td>...</td>\n",
       "      <td>NoDTI</td>\n",
       "      <td>NaN</td>\n",
       "      <td>NaN</td>\n",
       "      <td>NaN</td>\n",
       "      <td>165</td>\n",
       "      <td>0</td>\n",
       "      <td>0.000000</td>\n",
       "      <td>NaN</td>\n",
       "      <td>NaN</td>\n",
       "      <td>0.15</td>\n",
       "    </tr>\n",
       "    <tr>\n",
       "      <th>2</th>\n",
       "      <td>https://graph.facebook.com/v12.0/act_109970164...</td>\n",
       "      <td>FY22</td>\n",
       "      <td>Single image</td>\n",
       "      <td>0.0</td>\n",
       "      <td>0.38</td>\n",
       "      <td>NaN</td>\n",
       "      <td>2022-05-19</td>\n",
       "      <td>26</td>\n",
       "      <td>17.0</td>\n",
       "      <td>1</td>\n",
       "      <td>...</td>\n",
       "      <td>NoDTI</td>\n",
       "      <td>NaN</td>\n",
       "      <td>NaN</td>\n",
       "      <td>NaN</td>\n",
       "      <td>165</td>\n",
       "      <td>0</td>\n",
       "      <td>0.000000</td>\n",
       "      <td>NaN</td>\n",
       "      <td>NaN</td>\n",
       "      <td>0.38</td>\n",
       "    </tr>\n",
       "    <tr>\n",
       "      <th>3</th>\n",
       "      <td>https://graph.facebook.com/v12.0/act_109970164...</td>\n",
       "      <td>FY22</td>\n",
       "      <td>Single image</td>\n",
       "      <td>0.0</td>\n",
       "      <td>0.19</td>\n",
       "      <td>NaN</td>\n",
       "      <td>2022-05-19</td>\n",
       "      <td>12</td>\n",
       "      <td>10.0</td>\n",
       "      <td>1</td>\n",
       "      <td>...</td>\n",
       "      <td>NoDTI</td>\n",
       "      <td>NaN</td>\n",
       "      <td>NaN</td>\n",
       "      <td>NaN</td>\n",
       "      <td>165</td>\n",
       "      <td>0</td>\n",
       "      <td>0.000000</td>\n",
       "      <td>NaN</td>\n",
       "      <td>NaN</td>\n",
       "      <td>0.19</td>\n",
       "    </tr>\n",
       "    <tr>\n",
       "      <th>4</th>\n",
       "      <td>https://graph.facebook.com/v12.0/act_109970164...</td>\n",
       "      <td>FY22</td>\n",
       "      <td>Single image</td>\n",
       "      <td>1.0</td>\n",
       "      <td>3.62</td>\n",
       "      <td>NaN</td>\n",
       "      <td>2022-05-19</td>\n",
       "      <td>247</td>\n",
       "      <td>150.0</td>\n",
       "      <td>1</td>\n",
       "      <td>...</td>\n",
       "      <td>EarlyBird</td>\n",
       "      <td>NaN</td>\n",
       "      <td>NaN</td>\n",
       "      <td>NaN</td>\n",
       "      <td>165</td>\n",
       "      <td>0</td>\n",
       "      <td>0.004049</td>\n",
       "      <td>NaN</td>\n",
       "      <td>NaN</td>\n",
       "      <td>3.62</td>\n",
       "    </tr>\n",
       "  </tbody>\n",
       "</table>\n",
       "<p>5 rows × 22 columns</p>\n",
       "</div>"
      ],
      "text/plain": [
       "                                  Requested URL Path Campaign     Ad Format  \\\n",
       "0  https://graph.facebook.com/v12.0/act_109970164...     FY22  Single image   \n",
       "1  https://graph.facebook.com/v12.0/act_109970164...     FY22  Single image   \n",
       "2  https://graph.facebook.com/v12.0/act_109970164...     FY22  Single image   \n",
       "3  https://graph.facebook.com/v12.0/act_109970164...     FY22  Single image   \n",
       "4  https://graph.facebook.com/v12.0/act_109970164...     FY22  Single image   \n",
       "\n",
       "   Clicks Spend Creative - Size       Date  Impressions  Reach Audience  ...  \\\n",
       "0     0.0  0.26             NaN 2022-05-19          119   63.0        1  ...   \n",
       "1     0.0  0.15             NaN 2022-05-19            9    8.0        1  ...   \n",
       "2     0.0  0.38             NaN 2022-05-19           26   17.0        1  ...   \n",
       "3     0.0  0.19             NaN 2022-05-19           12   10.0        1  ...   \n",
       "4     1.0  3.62             NaN 2022-05-19          247  150.0        1  ...   \n",
       "\n",
       "  Creative - Version 100% Video Views Video Starts  Follows  \\\n",
       "0              NoDTI              NaN          NaN      NaN   \n",
       "1              NoDTI              NaN          NaN      NaN   \n",
       "2              NoDTI              NaN          NaN      NaN   \n",
       "3              NoDTI              NaN          NaN      NaN   \n",
       "4          EarlyBird              NaN          NaN      NaN   \n",
       "\n",
       "   Days away from max date  Latest report?       CTR  CTR Score  \\\n",
       "0                      165               0  0.000000        NaN   \n",
       "1                      165               0  0.000000        NaN   \n",
       "2                      165               0  0.000000        NaN   \n",
       "3                      165               0  0.000000        NaN   \n",
       "4                      165               0  0.004049        NaN   \n",
       "\n",
       "   Weighted CTR Score  Spend_new  \n",
       "0                 NaN       0.26  \n",
       "1                 NaN       0.15  \n",
       "2                 NaN       0.38  \n",
       "3                 NaN       0.19  \n",
       "4                 NaN       3.62  \n",
       "\n",
       "[5 rows x 22 columns]"
      ]
     },
     "execution_count": 3,
     "metadata": {},
     "output_type": "execute_result"
    }
   ],
   "source": [
    "# Load the dataset \n",
    "df_creative = pd.read_excel('Change 2022 Creative Data writeback_091122_altered.xlsx')\n",
    "\n",
    "# View the dataframe\n",
    "df_creative.head()"
   ]
  },
  {
   "cell_type": "code",
   "execution_count": 4,
   "id": "49c31b50",
   "metadata": {},
   "outputs": [
    {
     "name": "stdout",
     "output_type": "stream",
     "text": [
      "Shape of dataset:\n",
      " (102068, 22)\n",
      "\n",
      "Datatypes:\n",
      " Requested URL Path                 object\n",
      "Campaign                           object\n",
      "Ad Format                          object\n",
      "Clicks                            float64\n",
      "Spend                              object\n",
      "Creative - Size                    object\n",
      "Date                       datetime64[ns]\n",
      "Impressions                         int64\n",
      "Reach                             float64\n",
      "Audience                           object\n",
      "Platform                           object\n",
      "Creative - Family                  object\n",
      "Creative - Version                 object\n",
      "100% Video Views                  float64\n",
      "Video Starts                      float64\n",
      "Follows                           float64\n",
      "Days away from max date             int64\n",
      "Latest report?                      int64\n",
      "CTR                               float64\n",
      "CTR Score                         float64\n",
      "Weighted CTR Score                float64\n",
      "Spend_new                          object\n",
      "dtype: object\n",
      "\n",
      "Columns : \n",
      " Index(['Requested URL Path', 'Campaign', 'Ad Format', 'Clicks', 'Spend',\n",
      "       'Creative - Size', 'Date', 'Impressions', 'Reach', 'Audience',\n",
      "       'Platform', 'Creative - Family', 'Creative - Version',\n",
      "       '100% Video Views', 'Video Starts', 'Follows',\n",
      "       'Days away from max date', 'Latest report?', 'CTR', 'CTR Score',\n",
      "       'Weighted CTR Score', 'Spend_new'],\n",
      "      dtype='object')\n"
     ]
    }
   ],
   "source": [
    "# Sense check the data sets to determine shape, data types and column names\n",
    "print('Shape of dataset:\\n',df_creative.shape)\n",
    "print('\\nDatatypes:\\n',df_creative.dtypes)\n",
    "print('\\nColumns : \\n',df_creative.columns)"
   ]
  },
  {
   "cell_type": "code",
   "execution_count": 5,
   "id": "4b8c0076",
   "metadata": {},
   "outputs": [
    {
     "name": "stdout",
     "output_type": "stream",
     "text": [
      "<class 'pandas.core.frame.DataFrame'>\n",
      "RangeIndex: 102068 entries, 0 to 102067\n",
      "Data columns (total 22 columns):\n",
      " #   Column                   Non-Null Count   Dtype         \n",
      "---  ------                   --------------   -----         \n",
      " 0   Requested URL Path       14205 non-null   object        \n",
      " 1   Campaign                 101996 non-null  object        \n",
      " 2   Ad Format                101997 non-null  object        \n",
      " 3   Clicks                   90191 non-null   float64       \n",
      " 4   Spend                    102068 non-null  object        \n",
      " 5   Creative - Size          73485 non-null   object        \n",
      " 6   Date                     102068 non-null  datetime64[ns]\n",
      " 7   Impressions              102068 non-null  int64         \n",
      " 8   Reach                    80824 non-null   float64       \n",
      " 9   Audience                 102027 non-null  object        \n",
      " 10  Platform                 102068 non-null  object        \n",
      " 11  Creative - Family        101185 non-null  object        \n",
      " 12  Creative - Version       101543 non-null  object        \n",
      " 13  100% Video Views         24447 non-null   float64       \n",
      " 14  Video Starts             25460 non-null   float64       \n",
      " 15  Follows                  8400 non-null    float64       \n",
      " 16  Days away from max date  102068 non-null  int64         \n",
      " 17  Latest report?           102068 non-null  int64         \n",
      " 18  CTR                      89239 non-null   float64       \n",
      " 19  CTR Score                75018 non-null   float64       \n",
      " 20  Weighted CTR Score       75018 non-null   float64       \n",
      " 21  Spend_new                102068 non-null  object        \n",
      "dtypes: datetime64[ns](1), float64(8), int64(3), object(10)\n",
      "memory usage: 17.1+ MB\n"
     ]
    }
   ],
   "source": [
    "# Determine the metadata of the data set.\n",
    "# This gives us information about the columns in the dataframe and their datatypes.\n",
    "df_creative.info()"
   ]
  },
  {
   "cell_type": "code",
   "execution_count": 6,
   "id": "dc688a6a",
   "metadata": {},
   "outputs": [
    {
     "data": {
      "text/html": [
       "<div>\n",
       "<style scoped>\n",
       "    .dataframe tbody tr th:only-of-type {\n",
       "        vertical-align: middle;\n",
       "    }\n",
       "\n",
       "    .dataframe tbody tr th {\n",
       "        vertical-align: top;\n",
       "    }\n",
       "\n",
       "    .dataframe thead th {\n",
       "        text-align: right;\n",
       "    }\n",
       "</style>\n",
       "<table border=\"1\" class=\"dataframe\">\n",
       "  <thead>\n",
       "    <tr style=\"text-align: right;\">\n",
       "      <th></th>\n",
       "      <th>Requested URL Path</th>\n",
       "      <th>Campaign</th>\n",
       "      <th>Ad Format</th>\n",
       "      <th>Clicks</th>\n",
       "      <th>Spend</th>\n",
       "      <th>Creative - Size</th>\n",
       "      <th>Date</th>\n",
       "      <th>Impressions</th>\n",
       "      <th>Reach</th>\n",
       "      <th>Audience</th>\n",
       "      <th>...</th>\n",
       "      <th>Creative - Version</th>\n",
       "      <th>100% Video Views</th>\n",
       "      <th>Video Starts</th>\n",
       "      <th>Follows</th>\n",
       "      <th>Days away from max date</th>\n",
       "      <th>Latest report?</th>\n",
       "      <th>CTR</th>\n",
       "      <th>CTR Score</th>\n",
       "      <th>Weighted CTR Score</th>\n",
       "      <th>Spend_new</th>\n",
       "    </tr>\n",
       "  </thead>\n",
       "  <tbody>\n",
       "    <tr>\n",
       "      <th>0</th>\n",
       "      <td>https://graph.facebook.com/v12.0/act_109970164...</td>\n",
       "      <td>FY22</td>\n",
       "      <td>Single image</td>\n",
       "      <td>0.0</td>\n",
       "      <td>0.26</td>\n",
       "      <td>NaN</td>\n",
       "      <td>2022-05-19</td>\n",
       "      <td>119</td>\n",
       "      <td>63.0</td>\n",
       "      <td>1</td>\n",
       "      <td>...</td>\n",
       "      <td>NoDTI</td>\n",
       "      <td>NaN</td>\n",
       "      <td>NaN</td>\n",
       "      <td>NaN</td>\n",
       "      <td>165</td>\n",
       "      <td>0</td>\n",
       "      <td>0.000000</td>\n",
       "      <td>NaN</td>\n",
       "      <td>NaN</td>\n",
       "      <td>0.26</td>\n",
       "    </tr>\n",
       "    <tr>\n",
       "      <th>1</th>\n",
       "      <td>https://graph.facebook.com/v12.0/act_109970164...</td>\n",
       "      <td>FY22</td>\n",
       "      <td>Single image</td>\n",
       "      <td>0.0</td>\n",
       "      <td>0.15</td>\n",
       "      <td>NaN</td>\n",
       "      <td>2022-05-19</td>\n",
       "      <td>9</td>\n",
       "      <td>8.0</td>\n",
       "      <td>1</td>\n",
       "      <td>...</td>\n",
       "      <td>NoDTI</td>\n",
       "      <td>NaN</td>\n",
       "      <td>NaN</td>\n",
       "      <td>NaN</td>\n",
       "      <td>165</td>\n",
       "      <td>0</td>\n",
       "      <td>0.000000</td>\n",
       "      <td>NaN</td>\n",
       "      <td>NaN</td>\n",
       "      <td>0.15</td>\n",
       "    </tr>\n",
       "    <tr>\n",
       "      <th>2</th>\n",
       "      <td>https://graph.facebook.com/v12.0/act_109970164...</td>\n",
       "      <td>FY22</td>\n",
       "      <td>Single image</td>\n",
       "      <td>0.0</td>\n",
       "      <td>0.38</td>\n",
       "      <td>NaN</td>\n",
       "      <td>2022-05-19</td>\n",
       "      <td>26</td>\n",
       "      <td>17.0</td>\n",
       "      <td>1</td>\n",
       "      <td>...</td>\n",
       "      <td>NoDTI</td>\n",
       "      <td>NaN</td>\n",
       "      <td>NaN</td>\n",
       "      <td>NaN</td>\n",
       "      <td>165</td>\n",
       "      <td>0</td>\n",
       "      <td>0.000000</td>\n",
       "      <td>NaN</td>\n",
       "      <td>NaN</td>\n",
       "      <td>0.38</td>\n",
       "    </tr>\n",
       "    <tr>\n",
       "      <th>3</th>\n",
       "      <td>https://graph.facebook.com/v12.0/act_109970164...</td>\n",
       "      <td>FY22</td>\n",
       "      <td>Single image</td>\n",
       "      <td>0.0</td>\n",
       "      <td>0.19</td>\n",
       "      <td>NaN</td>\n",
       "      <td>2022-05-19</td>\n",
       "      <td>12</td>\n",
       "      <td>10.0</td>\n",
       "      <td>1</td>\n",
       "      <td>...</td>\n",
       "      <td>NoDTI</td>\n",
       "      <td>NaN</td>\n",
       "      <td>NaN</td>\n",
       "      <td>NaN</td>\n",
       "      <td>165</td>\n",
       "      <td>0</td>\n",
       "      <td>0.000000</td>\n",
       "      <td>NaN</td>\n",
       "      <td>NaN</td>\n",
       "      <td>0.19</td>\n",
       "    </tr>\n",
       "    <tr>\n",
       "      <th>4</th>\n",
       "      <td>https://graph.facebook.com/v12.0/act_109970164...</td>\n",
       "      <td>FY22</td>\n",
       "      <td>Single image</td>\n",
       "      <td>1.0</td>\n",
       "      <td>3.62</td>\n",
       "      <td>NaN</td>\n",
       "      <td>2022-05-19</td>\n",
       "      <td>247</td>\n",
       "      <td>150.0</td>\n",
       "      <td>1</td>\n",
       "      <td>...</td>\n",
       "      <td>EarlyBird</td>\n",
       "      <td>NaN</td>\n",
       "      <td>NaN</td>\n",
       "      <td>NaN</td>\n",
       "      <td>165</td>\n",
       "      <td>0</td>\n",
       "      <td>0.004049</td>\n",
       "      <td>NaN</td>\n",
       "      <td>NaN</td>\n",
       "      <td>3.62</td>\n",
       "    </tr>\n",
       "  </tbody>\n",
       "</table>\n",
       "<p>5 rows × 22 columns</p>\n",
       "</div>"
      ],
      "text/plain": [
       "                                  Requested URL Path Campaign     Ad Format  \\\n",
       "0  https://graph.facebook.com/v12.0/act_109970164...     FY22  Single image   \n",
       "1  https://graph.facebook.com/v12.0/act_109970164...     FY22  Single image   \n",
       "2  https://graph.facebook.com/v12.0/act_109970164...     FY22  Single image   \n",
       "3  https://graph.facebook.com/v12.0/act_109970164...     FY22  Single image   \n",
       "4  https://graph.facebook.com/v12.0/act_109970164...     FY22  Single image   \n",
       "\n",
       "   Clicks Spend Creative - Size       Date  Impressions  Reach Audience  ...  \\\n",
       "0     0.0  0.26             NaN 2022-05-19          119   63.0        1  ...   \n",
       "1     0.0  0.15             NaN 2022-05-19            9    8.0        1  ...   \n",
       "2     0.0  0.38             NaN 2022-05-19           26   17.0        1  ...   \n",
       "3     0.0  0.19             NaN 2022-05-19           12   10.0        1  ...   \n",
       "4     1.0  3.62             NaN 2022-05-19          247  150.0        1  ...   \n",
       "\n",
       "  Creative - Version 100% Video Views Video Starts  Follows  \\\n",
       "0              NoDTI              NaN          NaN      NaN   \n",
       "1              NoDTI              NaN          NaN      NaN   \n",
       "2              NoDTI              NaN          NaN      NaN   \n",
       "3              NoDTI              NaN          NaN      NaN   \n",
       "4          EarlyBird              NaN          NaN      NaN   \n",
       "\n",
       "   Days away from max date  Latest report?       CTR  CTR Score  \\\n",
       "0                      165               0  0.000000        NaN   \n",
       "1                      165               0  0.000000        NaN   \n",
       "2                      165               0  0.000000        NaN   \n",
       "3                      165               0  0.000000        NaN   \n",
       "4                      165               0  0.004049        NaN   \n",
       "\n",
       "   Weighted CTR Score  Spend_new  \n",
       "0                 NaN       0.26  \n",
       "1                 NaN       0.15  \n",
       "2                 NaN       0.38  \n",
       "3                 NaN       0.19  \n",
       "4                 NaN       3.62  \n",
       "\n",
       "[5 rows x 22 columns]"
      ]
     },
     "execution_count": 6,
     "metadata": {},
     "output_type": "execute_result"
    }
   ],
   "source": [
    "# Make a copy of the dataframe before cleaning\n",
    "df = df_creative.copy()\n",
    "df.head()"
   ]
  },
  {
   "cell_type": "code",
   "execution_count": 7,
   "id": "817d8f08",
   "metadata": {},
   "outputs": [
    {
     "data": {
      "text/plain": [
       "300x600                                     9075\n",
       "300x250                                     7806\n",
       "728x90                                      7377\n",
       "160x600                                     6190\n",
       "970x250                                     5977\n",
       "                                            ... \n",
       "wholesale lenders for mortgage brokers         3\n",
       "top mortgage companies to work for 2020        1\n",
       "best mortgage loan companies to work for       1\n",
       "no income mortgage                             1\n",
       "mortgage wholesale broker                      1\n",
       "Name: Creative - Size, Length: 99, dtype: int64"
      ]
     },
     "execution_count": 7,
     "metadata": {},
     "output_type": "execute_result"
    }
   ],
   "source": [
    "# Check 'Creative - Size' values\n",
    "df['Creative - Size'].value_counts()"
   ]
  },
  {
   "cell_type": "markdown",
   "id": "76249d46",
   "metadata": {},
   "source": [
    "<br>The 'Creative- size' column contains a lot of illogical data and is not used in the analysis.\n",
    "<br>'Requested URL Path', 'Spend', 'Days away from max date', 'Latest report' are not used in the analysis.\n",
    "##### Columns dropped : \n",
    "- Requested URL Path\n",
    "- Creative  - Size\n",
    "- Spend (duplicated as 'Spend_new' with correct formatting in Excel)\n",
    "- Days away from max date\n",
    "- Latest report?"
   ]
  },
  {
   "cell_type": "code",
   "execution_count": 8,
   "id": "0f03db6c",
   "metadata": {},
   "outputs": [
    {
     "data": {
      "text/html": [
       "<div>\n",
       "<style scoped>\n",
       "    .dataframe tbody tr th:only-of-type {\n",
       "        vertical-align: middle;\n",
       "    }\n",
       "\n",
       "    .dataframe tbody tr th {\n",
       "        vertical-align: top;\n",
       "    }\n",
       "\n",
       "    .dataframe thead th {\n",
       "        text-align: right;\n",
       "    }\n",
       "</style>\n",
       "<table border=\"1\" class=\"dataframe\">\n",
       "  <thead>\n",
       "    <tr style=\"text-align: right;\">\n",
       "      <th></th>\n",
       "      <th>Campaign</th>\n",
       "      <th>Ad Format</th>\n",
       "      <th>Clicks</th>\n",
       "      <th>Date</th>\n",
       "      <th>Impressions</th>\n",
       "      <th>Reach</th>\n",
       "      <th>Audience</th>\n",
       "      <th>Platform</th>\n",
       "      <th>Creative - Family</th>\n",
       "      <th>Creative - Version</th>\n",
       "      <th>100% Video Views</th>\n",
       "      <th>Video Starts</th>\n",
       "      <th>Follows</th>\n",
       "      <th>CTR</th>\n",
       "      <th>CTR Score</th>\n",
       "      <th>Weighted CTR Score</th>\n",
       "      <th>Spend_new</th>\n",
       "    </tr>\n",
       "  </thead>\n",
       "  <tbody>\n",
       "    <tr>\n",
       "      <th>0</th>\n",
       "      <td>FY22</td>\n",
       "      <td>Single image</td>\n",
       "      <td>0.0</td>\n",
       "      <td>2022-05-19</td>\n",
       "      <td>119</td>\n",
       "      <td>63.0</td>\n",
       "      <td>1</td>\n",
       "      <td>Facebook</td>\n",
       "      <td>CloseFaster</td>\n",
       "      <td>NoDTI</td>\n",
       "      <td>NaN</td>\n",
       "      <td>NaN</td>\n",
       "      <td>NaN</td>\n",
       "      <td>0.000000</td>\n",
       "      <td>NaN</td>\n",
       "      <td>NaN</td>\n",
       "      <td>0.26</td>\n",
       "    </tr>\n",
       "    <tr>\n",
       "      <th>1</th>\n",
       "      <td>FY22</td>\n",
       "      <td>Single image</td>\n",
       "      <td>0.0</td>\n",
       "      <td>2022-05-19</td>\n",
       "      <td>9</td>\n",
       "      <td>8.0</td>\n",
       "      <td>1</td>\n",
       "      <td>Instagram</td>\n",
       "      <td>CloseFaster</td>\n",
       "      <td>NoDTI</td>\n",
       "      <td>NaN</td>\n",
       "      <td>NaN</td>\n",
       "      <td>NaN</td>\n",
       "      <td>0.000000</td>\n",
       "      <td>NaN</td>\n",
       "      <td>NaN</td>\n",
       "      <td>0.15</td>\n",
       "    </tr>\n",
       "    <tr>\n",
       "      <th>2</th>\n",
       "      <td>FY22</td>\n",
       "      <td>Single image</td>\n",
       "      <td>0.0</td>\n",
       "      <td>2022-05-19</td>\n",
       "      <td>26</td>\n",
       "      <td>17.0</td>\n",
       "      <td>1</td>\n",
       "      <td>Facebook</td>\n",
       "      <td>CloseFaster</td>\n",
       "      <td>NoDTI</td>\n",
       "      <td>NaN</td>\n",
       "      <td>NaN</td>\n",
       "      <td>NaN</td>\n",
       "      <td>0.000000</td>\n",
       "      <td>NaN</td>\n",
       "      <td>NaN</td>\n",
       "      <td>0.38</td>\n",
       "    </tr>\n",
       "    <tr>\n",
       "      <th>3</th>\n",
       "      <td>FY22</td>\n",
       "      <td>Single image</td>\n",
       "      <td>0.0</td>\n",
       "      <td>2022-05-19</td>\n",
       "      <td>12</td>\n",
       "      <td>10.0</td>\n",
       "      <td>1</td>\n",
       "      <td>Instagram</td>\n",
       "      <td>CloseFaster</td>\n",
       "      <td>NoDTI</td>\n",
       "      <td>NaN</td>\n",
       "      <td>NaN</td>\n",
       "      <td>NaN</td>\n",
       "      <td>0.000000</td>\n",
       "      <td>NaN</td>\n",
       "      <td>NaN</td>\n",
       "      <td>0.19</td>\n",
       "    </tr>\n",
       "    <tr>\n",
       "      <th>4</th>\n",
       "      <td>FY22</td>\n",
       "      <td>Single image</td>\n",
       "      <td>1.0</td>\n",
       "      <td>2022-05-19</td>\n",
       "      <td>247</td>\n",
       "      <td>150.0</td>\n",
       "      <td>1</td>\n",
       "      <td>Facebook</td>\n",
       "      <td>CloserTwins</td>\n",
       "      <td>EarlyBird</td>\n",
       "      <td>NaN</td>\n",
       "      <td>NaN</td>\n",
       "      <td>NaN</td>\n",
       "      <td>0.004049</td>\n",
       "      <td>NaN</td>\n",
       "      <td>NaN</td>\n",
       "      <td>3.62</td>\n",
       "    </tr>\n",
       "  </tbody>\n",
       "</table>\n",
       "</div>"
      ],
      "text/plain": [
       "  Campaign     Ad Format  Clicks       Date  Impressions  Reach Audience  \\\n",
       "0     FY22  Single image     0.0 2022-05-19          119   63.0        1   \n",
       "1     FY22  Single image     0.0 2022-05-19            9    8.0        1   \n",
       "2     FY22  Single image     0.0 2022-05-19           26   17.0        1   \n",
       "3     FY22  Single image     0.0 2022-05-19           12   10.0        1   \n",
       "4     FY22  Single image     1.0 2022-05-19          247  150.0        1   \n",
       "\n",
       "    Platform Creative - Family Creative - Version  100% Video Views  \\\n",
       "0   Facebook       CloseFaster              NoDTI               NaN   \n",
       "1  Instagram       CloseFaster              NoDTI               NaN   \n",
       "2   Facebook       CloseFaster              NoDTI               NaN   \n",
       "3  Instagram       CloseFaster              NoDTI               NaN   \n",
       "4   Facebook       CloserTwins          EarlyBird               NaN   \n",
       "\n",
       "   Video Starts  Follows       CTR  CTR Score  Weighted CTR Score Spend_new  \n",
       "0           NaN      NaN  0.000000        NaN                 NaN      0.26  \n",
       "1           NaN      NaN  0.000000        NaN                 NaN      0.15  \n",
       "2           NaN      NaN  0.000000        NaN                 NaN      0.38  \n",
       "3           NaN      NaN  0.000000        NaN                 NaN      0.19  \n",
       "4           NaN      NaN  0.004049        NaN                 NaN      3.62  "
      ]
     },
     "execution_count": 8,
     "metadata": {},
     "output_type": "execute_result"
    }
   ],
   "source": [
    "# Drop unnecessary columns : 'Requested URL Path', 'Spend', 'Days away from max date', 'Latest report?'\n",
    "df.drop(['Requested URL Path', 'Creative - Size', 'Spend', 'Days away from max date', 'Latest report?'], \\\n",
    "        axis = 1, inplace=True)\n",
    "\n",
    "# View the dataframe\n",
    "df.head()"
   ]
  },
  {
   "cell_type": "markdown",
   "id": "13809b5c",
   "metadata": {},
   "source": [
    "#### Renaming columns following same naming formats across all datasets used in the analysis"
   ]
  },
  {
   "cell_type": "code",
   "execution_count": 9,
   "id": "677c7ec0",
   "metadata": {},
   "outputs": [],
   "source": [
    "# Rename columns\n",
    "\n",
    "df.rename({'Ad Format' : 'Ad_Format',\n",
    "           'Creative - Family': 'Creative_Family',\n",
    "           'Creative - Version': 'Creative_Version',\n",
    "           '100% Video Views': '100%_Video_Views',\n",
    "           'Video Starts': 'Video_Starts',\n",
    "           'CTR Score': 'CTR_Score', 'Weighted CTR Score':'Weighted_CTR_Score',\n",
    "           'Spend_new' : 'Spend'}, \\\n",
    "          axis=1, inplace=True)\n"
   ]
  },
  {
   "cell_type": "code",
   "execution_count": 10,
   "id": "ae4b0adc",
   "metadata": {},
   "outputs": [
    {
     "data": {
      "text/plain": [
       "Campaign                 72\n",
       "Ad_Format                71\n",
       "Clicks                11877\n",
       "Date                      0\n",
       "Impressions               0\n",
       "Reach                 21244\n",
       "Audience                 41\n",
       "Platform                  0\n",
       "Creative_Family         883\n",
       "Creative_Version        525\n",
       "100%_Video_Views      77621\n",
       "Video_Starts          76608\n",
       "Follows               93668\n",
       "CTR                   12829\n",
       "CTR_Score             27050\n",
       "Weighted_CTR_Score    27050\n",
       "Spend                     0\n",
       "dtype: int64"
      ]
     },
     "execution_count": 10,
     "metadata": {},
     "output_type": "execute_result"
    }
   ],
   "source": [
    "# Determine the number of missing values\n",
    "df.isnull().sum()"
   ]
  },
  {
   "cell_type": "code",
   "execution_count": 11,
   "id": "d61e65f0",
   "metadata": {},
   "outputs": [
    {
     "data": {
      "text/plain": [
       "Follows               91.770192\n",
       "100%_Video_Views      76.048321\n",
       "Video_Starts          75.055845\n",
       "Weighted_CTR_Score    26.501940\n",
       "CTR_Score             26.501940\n",
       "Reach                 20.813575\n",
       "CTR                   12.569072\n",
       "Clicks                11.636360\n",
       "Creative_Family        0.865110\n",
       "Creative_Version       0.514363\n",
       "Campaign               0.070541\n",
       "Ad_Format              0.069561\n",
       "Audience               0.040169\n",
       "Platform               0.000000\n",
       "Impressions            0.000000\n",
       "Date                   0.000000\n",
       "Spend                  0.000000\n",
       "dtype: float64"
      ]
     },
     "execution_count": 11,
     "metadata": {},
     "output_type": "execute_result"
    }
   ],
   "source": [
    "# Percentage of missing values in each column\n",
    "percent_missing = df.isnull().sum() * 100 / len(df)\n",
    "percent_missing.sort_values(ascending=False)"
   ]
  },
  {
   "cell_type": "markdown",
   "id": "d518923f",
   "metadata": {},
   "source": [
    "  'Spend' column is in object format. This is converted to float type.\n",
    "The column contains some values in time format. These are ignored and made to NaN values.\n",
    "They are then dropped"
   ]
  },
  {
   "cell_type": "code",
   "execution_count": 12,
   "id": "4faeeaa5",
   "metadata": {},
   "outputs": [
    {
     "name": "stdout",
     "output_type": "stream",
     "text": [
      "float64\n",
      "402\n"
     ]
    }
   ],
   "source": [
    "# 'Spend' column in object format\n",
    "# Change datatype of 'Spend' to float \n",
    "df['Spend'] = pd.to_numeric(df['Spend'], errors='coerce')\n",
    "print(df['Spend'].dtype)\n",
    "print(df['Spend'].isnull().sum())"
   ]
  },
  {
   "cell_type": "code",
   "execution_count": 13,
   "id": "80392012",
   "metadata": {},
   "outputs": [],
   "source": [
    "# Drop the rows with na in 'Spend'\n",
    "df.dropna(subset=['Spend'], inplace=True)"
   ]
  },
  {
   "cell_type": "code",
   "execution_count": 14,
   "id": "28fd26c1",
   "metadata": {},
   "outputs": [
    {
     "data": {
      "text/plain": [
       "11877"
      ]
     },
     "execution_count": 14,
     "metadata": {},
     "output_type": "execute_result"
    }
   ],
   "source": [
    "# Determine number of clicks for 'Platform' == 'OTT'\n",
    "len(df['Clicks'].loc[df['Platform']=='OTT'])"
   ]
  },
  {
   "cell_type": "code",
   "execution_count": 15,
   "id": "6eb4e196",
   "metadata": {},
   "outputs": [
    {
     "data": {
      "text/plain": [
       "11877"
      ]
     },
     "execution_count": 15,
     "metadata": {},
     "output_type": "execute_result"
    }
   ],
   "source": [
    "df['Clicks'].isna().sum()"
   ]
  },
  {
   "cell_type": "markdown",
   "id": "4452a5bb",
   "metadata": {},
   "source": [
    " - The 'Clicks' column has blank/Nan values where Platform== OTT\n",
    " - The corresponding CTR, CTR_Score, Weighted_CTR_Score are also blank\n",
    " - The '100%_Video_Views and 'Video_Starts' columns have values only for Ad_format = 'Video'\n",
    " - Replace the integer/float columns having blank/NaN with 0"
   ]
  },
  {
   "cell_type": "code",
   "execution_count": 16,
   "id": "8295df49",
   "metadata": {},
   "outputs": [],
   "source": [
    "# Use fillna() to replace NaN with 0 for 'Clicks', 'Reach','100%_Video_Views','Video_Starts', 'Follows', 'CTR',\n",
    "# 'CTR_Score', 'Weighted_CTR_Score'\n",
    "\n",
    "cols = ['Clicks','Reach','100%_Video_Views','Video_Starts','Follows', 'CTR', 'CTR_Score', 'Weighted_CTR_Score']\n",
    "df[cols] = df[cols].fillna(0)"
   ]
  },
  {
   "cell_type": "code",
   "execution_count": 17,
   "id": "48d7ae14",
   "metadata": {},
   "outputs": [
    {
     "data": {
      "text/plain": [
       "Campaign                      object\n",
       "Ad_Format                     object\n",
       "Clicks                         int32\n",
       "Date                  datetime64[ns]\n",
       "Impressions                    int64\n",
       "Reach                          int32\n",
       "Audience                      object\n",
       "Platform                      object\n",
       "Creative_Family               object\n",
       "Creative_Version              object\n",
       "100%_Video_Views               int32\n",
       "Video_Starts                   int32\n",
       "Follows                        int32\n",
       "CTR                          float64\n",
       "CTR_Score                    float64\n",
       "Weighted_CTR_Score           float64\n",
       "Spend                        float64\n",
       "dtype: object"
      ]
     },
     "execution_count": 17,
     "metadata": {},
     "output_type": "execute_result"
    }
   ],
   "source": [
    "# Change datatypes from float to int for 'Clicks','Reach', '100%_Video_Views', 'Video_Starts', 'Follows' as these are integer values\n",
    "cols = ['Clicks','Reach','100%_Video_Views','Video_Starts','Follows'] \n",
    "df[cols] = df[cols].astype(int)\n",
    "df.dtypes"
   ]
  },
  {
   "cell_type": "code",
   "execution_count": 18,
   "id": "48590a7c",
   "metadata": {},
   "outputs": [
    {
     "data": {
      "text/plain": [
       "Creative_Family       883\n",
       "Creative_Version      525\n",
       "Campaign               72\n",
       "Ad_Format              71\n",
       "Audience               41\n",
       "Date                    0\n",
       "Impressions             0\n",
       "Reach                   0\n",
       "Platform                0\n",
       "Clicks                  0\n",
       "100%_Video_Views        0\n",
       "Video_Starts            0\n",
       "Follows                 0\n",
       "CTR                     0\n",
       "CTR_Score               0\n",
       "Weighted_CTR_Score      0\n",
       "Spend                   0\n",
       "dtype: int64"
      ]
     },
     "execution_count": 18,
     "metadata": {},
     "output_type": "execute_result"
    }
   ],
   "source": [
    "# Check sum of missing values in the dataframe\n",
    "df.isna().sum().sort_values(ascending=False)"
   ]
  },
  {
   "cell_type": "markdown",
   "id": "e345c193",
   "metadata": {},
   "source": [
    "   "
   ]
  },
  {
   "cell_type": "markdown",
   "id": "df966e4c",
   "metadata": {},
   "source": [
    "*Columns with na values replace with 'No Answer'*\n",
    "- Campaign\n",
    "- Ad_Format \n",
    "- Audience\n",
    "- Creative_Family\n",
    "- Creative_Version"
   ]
  },
  {
   "cell_type": "code",
   "execution_count": 19,
   "id": "f15aedf1",
   "metadata": {},
   "outputs": [],
   "source": [
    "# Replace columns having na values with 'No Answer'\n",
    "df['Campaign'].fillna('No Answer', inplace=True)\n",
    "df['Ad_Format'].fillna('No Answer', inplace=True)\n",
    "df['Audience'].fillna('No Answer', inplace=True)\n",
    "df['Creative_Family'].fillna('No Answer', inplace=True)\n",
    "df['Creative_Version'].fillna('No Answer', inplace=True)"
   ]
  },
  {
   "cell_type": "code",
   "execution_count": 20,
   "id": "3332e362",
   "metadata": {},
   "outputs": [
    {
     "data": {
      "text/plain": [
       "Campaign              0\n",
       "Ad_Format             0\n",
       "Clicks                0\n",
       "Date                  0\n",
       "Impressions           0\n",
       "Reach                 0\n",
       "Audience              0\n",
       "Platform              0\n",
       "Creative_Family       0\n",
       "Creative_Version      0\n",
       "100%_Video_Views      0\n",
       "Video_Starts          0\n",
       "Follows               0\n",
       "CTR                   0\n",
       "CTR_Score             0\n",
       "Weighted_CTR_Score    0\n",
       "Spend                 0\n",
       "dtype: int64"
      ]
     },
     "execution_count": 20,
     "metadata": {},
     "output_type": "execute_result"
    }
   ],
   "source": [
    "# Determine sum of missing values\n",
    "df.isna().sum()"
   ]
  },
  {
   "cell_type": "code",
   "execution_count": 21,
   "id": "62b8666f",
   "metadata": {},
   "outputs": [
    {
     "data": {
      "text/plain": [
       "CloserTwins                      38332\n",
       "UnfairAdvantage                  38183\n",
       "CloseFaster                      15449\n",
       "SEM Ads                           8613\n",
       "No Answer                          883\n",
       "CompetitiveOpportunity             114\n",
       "Carousel Ad1                        20\n",
       "Ad1 Domain                          20\n",
       "Ad1 audience 1                      12\n",
       "Carousel Ad1 - CRM Audience 1       10\n",
       "Ad1                                  8\n",
       "Carousel Ad2 - CRM Audience 2        8\n",
       "Carousel Ad1 - CRM Audience3         7\n",
       "Ad1 Audience 3 CRM                   7\n",
       "Name: Creative_Family, dtype: int64"
      ]
     },
     "execution_count": 21,
     "metadata": {},
     "output_type": "execute_result"
    }
   ],
   "source": [
    "# Determine the types of 'Creative_Family'\n",
    "df['Creative_Family'].value_counts()"
   ]
  },
  {
   "cell_type": "code",
   "execution_count": 22,
   "id": "1e4e4be1",
   "metadata": {},
   "outputs": [
    {
     "data": {
      "text/plain": [
       "CloserTwins               38332\n",
       "UnfairAdvantage           38183\n",
       "CloseFaster               15449\n",
       "SEM Ads                    8613\n",
       "Other                       975\n",
       "CompetitiveOpportunity      114\n",
       "Name: Creative_Family, dtype: int64"
      ]
     },
     "execution_count": 22,
     "metadata": {},
     "output_type": "execute_result"
    }
   ],
   "source": [
    "# Replace all values not in the allowed list of Creative family to 'Other'\n",
    "allowed_vals = ['CloserTwins','UnfairAdvantage','CloseFaster','SEM Ads','CompetitiveOpportunity']\n",
    "\n",
    "df.loc[~df['Creative_Family'].isin(allowed_vals), 'Creative_Family'] = \"Other\"\n",
    "\n",
    "# Verify the 'Creative_Family' types\n",
    "df['Creative_Family'].value_counts()"
   ]
  },
  {
   "cell_type": "code",
   "execution_count": 23,
   "id": "d9361c09",
   "metadata": {},
   "outputs": [],
   "source": [
    "# campaign_dict ={'CloserTwins':'CloserTwins', 'UnfairAdvantage':'UnfairAdvantage', \n",
    "#                 'CloseFaster':'CloseFaster', 'SEM Ads':'SEM Ads', \n",
    "#                 'No Answer':'Other', \n",
    "#                 'CompetitiveOpportunity':'CompetitiveOpportunity', \n",
    "#                 'Other':'Other', 'Ad1 Domain':'Other', 'Carousel Ad1':'Other', \n",
    "#                 'Ad1 audience 1':'Other', 'Carousel Ad1 - CRM Audience 1':'Other',\n",
    "#                 'Ad1 Audience 3 CRM':'Other', 'Ad1':'Other', \n",
    "#                 'Carousel Ad1 - CRM Audience3':'Other', \n",
    "#                 'Carousel Ad2 - CRM Audience 2':'Other'}\n",
    " \n",
    "# # Add a new column named 'Campaign_Name'\n",
    "# df['Campaign_Name'] = df['Creative_Family'].map(campaign_dict)\n",
    "# df.Campaign_Name.value_counts()"
   ]
  },
  {
   "cell_type": "code",
   "execution_count": 24,
   "id": "41ae1d15",
   "metadata": {},
   "outputs": [
    {
     "data": {
      "text/plain": [
       "Display                  45183\n",
       "Native                   15283\n",
       "CPC                       8613\n",
       "Single image              7878\n",
       "Video                     7161\n",
       "TV                        6806\n",
       "MOBILE                    2776\n",
       "Audio                     2488\n",
       "TABLET                    1912\n",
       "Display - Interactive     1459\n",
       "Carousel                  1334\n",
       "DESKTOP                    383\n",
       "Follower ads               291\n",
       "No Answer                   71\n",
       "No lock campaign            28\n",
       "Name: Ad_Format, dtype: int64"
      ]
     },
     "execution_count": 24,
     "metadata": {},
     "output_type": "execute_result"
    }
   ],
   "source": [
    "# Determine types of Ad_Formats\n",
    "df['Ad_Format'].value_counts()"
   ]
  },
  {
   "cell_type": "code",
   "execution_count": 25,
   "id": "34b03003",
   "metadata": {},
   "outputs": [],
   "source": [
    "# Ad_Format = No lock campaign is invalid.\n",
    "# Ad_Format= 'No lock campaign' checked against Campaign to replace with correct ad format. \n",
    "df.loc[df['Campaign'].str.contains(pat='No Lock Campaign - Carousel'), 'Ad_Format'] = 'Carousel'\n",
    "df.loc[df['Campaign'].str.contains(pat='No Lock Campaign - Single DSC'), 'Ad_Format'] = 'Single image'\n",
    "df.drop(df[df['Ad_Format'] == 'No lock campaign'].index, inplace=True)"
   ]
  },
  {
   "cell_type": "code",
   "execution_count": 26,
   "id": "83767935",
   "metadata": {},
   "outputs": [
    {
     "data": {
      "text/plain": [
       "Display                  45183\n",
       "Native                   15283\n",
       "CPC                       8613\n",
       "Single image              7889\n",
       "Video                     7161\n",
       "TV                        6806\n",
       "MOBILE                    2776\n",
       "Audio                     2488\n",
       "TABLET                    1912\n",
       "Display - Interactive     1459\n",
       "Carousel                  1349\n",
       "DESKTOP                    383\n",
       "Follower ads               291\n",
       "No Answer                   71\n",
       "Name: Ad_Format, dtype: int64"
      ]
     },
     "execution_count": 26,
     "metadata": {},
     "output_type": "execute_result"
    }
   ],
   "source": [
    "# Types of 'Ad_Formats'\n",
    "df['Ad_Format'].value_counts()"
   ]
  },
  {
   "cell_type": "code",
   "execution_count": 27,
   "id": "f717bd45",
   "metadata": {},
   "outputs": [
    {
     "name": "stdout",
     "output_type": "stream",
     "text": [
      "(101664, 17)\n"
     ]
    },
    {
     "data": {
      "text/html": [
       "<div>\n",
       "<style scoped>\n",
       "    .dataframe tbody tr th:only-of-type {\n",
       "        vertical-align: middle;\n",
       "    }\n",
       "\n",
       "    .dataframe tbody tr th {\n",
       "        vertical-align: top;\n",
       "    }\n",
       "\n",
       "    .dataframe thead th {\n",
       "        text-align: right;\n",
       "    }\n",
       "</style>\n",
       "<table border=\"1\" class=\"dataframe\">\n",
       "  <thead>\n",
       "    <tr style=\"text-align: right;\">\n",
       "      <th></th>\n",
       "      <th>Clicks</th>\n",
       "      <th>Impressions</th>\n",
       "      <th>Reach</th>\n",
       "      <th>100%_Video_Views</th>\n",
       "      <th>Video_Starts</th>\n",
       "      <th>Follows</th>\n",
       "      <th>CTR</th>\n",
       "      <th>CTR_Score</th>\n",
       "      <th>Weighted_CTR_Score</th>\n",
       "      <th>Spend</th>\n",
       "    </tr>\n",
       "  </thead>\n",
       "  <tbody>\n",
       "    <tr>\n",
       "      <th>count</th>\n",
       "      <td>101664.000000</td>\n",
       "      <td>101664.000000</td>\n",
       "      <td>101664.000000</td>\n",
       "      <td>101664.000000</td>\n",
       "      <td>101664.000000</td>\n",
       "      <td>101664.000000</td>\n",
       "      <td>101664.000000</td>\n",
       "      <td>101664.000000</td>\n",
       "      <td>101664.000000</td>\n",
       "      <td>101664.000000</td>\n",
       "    </tr>\n",
       "    <tr>\n",
       "      <th>mean</th>\n",
       "      <td>0.663234</td>\n",
       "      <td>463.438080</td>\n",
       "      <td>144.579645</td>\n",
       "      <td>24.197858</td>\n",
       "      <td>37.498810</td>\n",
       "      <td>0.004731</td>\n",
       "      <td>0.012344</td>\n",
       "      <td>0.471480</td>\n",
       "      <td>244.685385</td>\n",
       "      <td>7.209050</td>\n",
       "    </tr>\n",
       "    <tr>\n",
       "      <th>std</th>\n",
       "      <td>3.327004</td>\n",
       "      <td>1565.548992</td>\n",
       "      <td>535.142843</td>\n",
       "      <td>225.875831</td>\n",
       "      <td>339.238525</td>\n",
       "      <td>0.141750</td>\n",
       "      <td>0.083078</td>\n",
       "      <td>0.410827</td>\n",
       "      <td>906.281370</td>\n",
       "      <td>41.098153</td>\n",
       "    </tr>\n",
       "    <tr>\n",
       "      <th>min</th>\n",
       "      <td>0.000000</td>\n",
       "      <td>0.000000</td>\n",
       "      <td>0.000000</td>\n",
       "      <td>0.000000</td>\n",
       "      <td>0.000000</td>\n",
       "      <td>0.000000</td>\n",
       "      <td>0.000000</td>\n",
       "      <td>0.000000</td>\n",
       "      <td>0.000000</td>\n",
       "      <td>0.000000</td>\n",
       "    </tr>\n",
       "    <tr>\n",
       "      <th>25%</th>\n",
       "      <td>0.000000</td>\n",
       "      <td>10.000000</td>\n",
       "      <td>1.000000</td>\n",
       "      <td>0.000000</td>\n",
       "      <td>0.000000</td>\n",
       "      <td>0.000000</td>\n",
       "      <td>0.000000</td>\n",
       "      <td>0.000000</td>\n",
       "      <td>0.000000</td>\n",
       "      <td>0.101180</td>\n",
       "    </tr>\n",
       "    <tr>\n",
       "      <th>50%</th>\n",
       "      <td>0.000000</td>\n",
       "      <td>54.000000</td>\n",
       "      <td>8.000000</td>\n",
       "      <td>0.000000</td>\n",
       "      <td>0.000000</td>\n",
       "      <td>0.000000</td>\n",
       "      <td>0.000000</td>\n",
       "      <td>0.500000</td>\n",
       "      <td>14.500000</td>\n",
       "      <td>0.593024</td>\n",
       "    </tr>\n",
       "    <tr>\n",
       "      <th>75%</th>\n",
       "      <td>0.000000</td>\n",
       "      <td>285.000000</td>\n",
       "      <td>59.000000</td>\n",
       "      <td>0.000000</td>\n",
       "      <td>0.000000</td>\n",
       "      <td>0.000000</td>\n",
       "      <td>0.000000</td>\n",
       "      <td>0.500000</td>\n",
       "      <td>137.500000</td>\n",
       "      <td>3.220327</td>\n",
       "    </tr>\n",
       "    <tr>\n",
       "      <th>max</th>\n",
       "      <td>573.000000</td>\n",
       "      <td>59784.000000</td>\n",
       "      <td>16601.000000</td>\n",
       "      <td>14173.000000</td>\n",
       "      <td>19635.000000</td>\n",
       "      <td>11.000000</td>\n",
       "      <td>2.000000</td>\n",
       "      <td>1.500000</td>\n",
       "      <td>82870.500000</td>\n",
       "      <td>3642.180000</td>\n",
       "    </tr>\n",
       "  </tbody>\n",
       "</table>\n",
       "</div>"
      ],
      "text/plain": [
       "              Clicks    Impressions          Reach  100%_Video_Views  \\\n",
       "count  101664.000000  101664.000000  101664.000000     101664.000000   \n",
       "mean        0.663234     463.438080     144.579645         24.197858   \n",
       "std         3.327004    1565.548992     535.142843        225.875831   \n",
       "min         0.000000       0.000000       0.000000          0.000000   \n",
       "25%         0.000000      10.000000       1.000000          0.000000   \n",
       "50%         0.000000      54.000000       8.000000          0.000000   \n",
       "75%         0.000000     285.000000      59.000000          0.000000   \n",
       "max       573.000000   59784.000000   16601.000000      14173.000000   \n",
       "\n",
       "        Video_Starts        Follows            CTR      CTR_Score  \\\n",
       "count  101664.000000  101664.000000  101664.000000  101664.000000   \n",
       "mean       37.498810       0.004731       0.012344       0.471480   \n",
       "std       339.238525       0.141750       0.083078       0.410827   \n",
       "min         0.000000       0.000000       0.000000       0.000000   \n",
       "25%         0.000000       0.000000       0.000000       0.000000   \n",
       "50%         0.000000       0.000000       0.000000       0.500000   \n",
       "75%         0.000000       0.000000       0.000000       0.500000   \n",
       "max     19635.000000      11.000000       2.000000       1.500000   \n",
       "\n",
       "       Weighted_CTR_Score          Spend  \n",
       "count       101664.000000  101664.000000  \n",
       "mean           244.685385       7.209050  \n",
       "std            906.281370      41.098153  \n",
       "min              0.000000       0.000000  \n",
       "25%              0.000000       0.101180  \n",
       "50%             14.500000       0.593024  \n",
       "75%            137.500000       3.220327  \n",
       "max          82870.500000    3642.180000  "
      ]
     },
     "execution_count": 27,
     "metadata": {},
     "output_type": "execute_result"
    }
   ],
   "source": [
    "# Shape of the dataframe after cleaning\n",
    "print(df.shape)\n",
    "\n",
    "# Describe the data\n",
    "df.describe()"
   ]
  },
  {
   "cell_type": "code",
   "execution_count": 28,
   "id": "c4249080",
   "metadata": {},
   "outputs": [
    {
     "data": {
      "text/plain": [
       "General Targetting    21681\n",
       "4                     20574\n",
       "1                     16472\n",
       "3                     15996\n",
       "5                     14339\n",
       "2                     12559\n",
       "No Answer                41\n",
       "Domain Targeting          2\n",
       "Name: Audience, dtype: int64"
      ]
     },
     "execution_count": 28,
     "metadata": {},
     "output_type": "execute_result"
    }
   ],
   "source": [
    "df['Audience'].value_counts()"
   ]
  },
  {
   "cell_type": "code",
   "execution_count": 29,
   "id": "05a1e1f8",
   "metadata": {},
   "outputs": [
    {
     "data": {
      "text/html": [
       "<div>\n",
       "<style scoped>\n",
       "    .dataframe tbody tr th:only-of-type {\n",
       "        vertical-align: middle;\n",
       "    }\n",
       "\n",
       "    .dataframe tbody tr th {\n",
       "        vertical-align: top;\n",
       "    }\n",
       "\n",
       "    .dataframe thead th {\n",
       "        text-align: right;\n",
       "    }\n",
       "</style>\n",
       "<table border=\"1\" class=\"dataframe\">\n",
       "  <thead>\n",
       "    <tr style=\"text-align: right;\">\n",
       "      <th></th>\n",
       "      <th>Campaign</th>\n",
       "      <th>Ad_Format</th>\n",
       "      <th>Clicks</th>\n",
       "      <th>Date</th>\n",
       "      <th>Impressions</th>\n",
       "      <th>Reach</th>\n",
       "      <th>Audience</th>\n",
       "      <th>Platform</th>\n",
       "      <th>Creative_Family</th>\n",
       "      <th>Creative_Version</th>\n",
       "      <th>100%_Video_Views</th>\n",
       "      <th>Video_Starts</th>\n",
       "      <th>Follows</th>\n",
       "      <th>CTR</th>\n",
       "      <th>CTR_Score</th>\n",
       "      <th>Weighted_CTR_Score</th>\n",
       "      <th>Spend</th>\n",
       "    </tr>\n",
       "  </thead>\n",
       "  <tbody>\n",
       "    <tr>\n",
       "      <th>62337</th>\n",
       "      <td>Domain Targeting - No Lock Campaign - Single D...</td>\n",
       "      <td>Single image</td>\n",
       "      <td>42</td>\n",
       "      <td>2022-09-06</td>\n",
       "      <td>8130</td>\n",
       "      <td>0</td>\n",
       "      <td>Domain Targeting</td>\n",
       "      <td>LinkedIn</td>\n",
       "      <td>Other</td>\n",
       "      <td>No Answer</td>\n",
       "      <td>0</td>\n",
       "      <td>0</td>\n",
       "      <td>0</td>\n",
       "      <td>0.005166</td>\n",
       "      <td>1.5</td>\n",
       "      <td>12195.0</td>\n",
       "      <td>1914.60</td>\n",
       "    </tr>\n",
       "    <tr>\n",
       "      <th>62451</th>\n",
       "      <td>Domain Targeting - No Lock Campaign - Carousel...</td>\n",
       "      <td>Carousel</td>\n",
       "      <td>4</td>\n",
       "      <td>2022-09-06</td>\n",
       "      <td>665</td>\n",
       "      <td>0</td>\n",
       "      <td>Domain Targeting</td>\n",
       "      <td>LinkedIn</td>\n",
       "      <td>Other</td>\n",
       "      <td>No Answer</td>\n",
       "      <td>0</td>\n",
       "      <td>0</td>\n",
       "      <td>0</td>\n",
       "      <td>0.006015</td>\n",
       "      <td>1.5</td>\n",
       "      <td>997.5</td>\n",
       "      <td>146.83</td>\n",
       "    </tr>\n",
       "  </tbody>\n",
       "</table>\n",
       "</div>"
      ],
      "text/plain": [
       "                                                Campaign     Ad_Format  \\\n",
       "62337  Domain Targeting - No Lock Campaign - Single D...  Single image   \n",
       "62451  Domain Targeting - No Lock Campaign - Carousel...      Carousel   \n",
       "\n",
       "       Clicks       Date  Impressions  Reach          Audience  Platform  \\\n",
       "62337      42 2022-09-06         8130      0  Domain Targeting  LinkedIn   \n",
       "62451       4 2022-09-06          665      0  Domain Targeting  LinkedIn   \n",
       "\n",
       "      Creative_Family Creative_Version  100%_Video_Views  Video_Starts  \\\n",
       "62337           Other        No Answer                 0             0   \n",
       "62451           Other        No Answer                 0             0   \n",
       "\n",
       "       Follows       CTR  CTR_Score  Weighted_CTR_Score    Spend  \n",
       "62337        0  0.005166        1.5             12195.0  1914.60  \n",
       "62451        0  0.006015        1.5               997.5   146.83  "
      ]
     },
     "execution_count": 29,
     "metadata": {},
     "output_type": "execute_result"
    }
   ],
   "source": [
    "df.loc[df['Audience'] == 'Domain Targeting']"
   ]
  },
  {
   "cell_type": "markdown",
   "id": "f9ae01a5",
   "metadata": {},
   "source": [
    "Audience = 'Domain Targeting' has only 2 rows. These are ignored as we do not know which target group they belong to."
   ]
  },
  {
   "cell_type": "code",
   "execution_count": 30,
   "id": "120799b4",
   "metadata": {},
   "outputs": [],
   "source": [
    "# Create new column Target_Group and assign Audience as per target group\n",
    "audience_dict ={'1':'1', '2':'1', '3':'1',\n",
    "               '4':'2', '5':'2',\n",
    "               'General Targetting':'3'\n",
    "               }\n",
    " \n",
    "# Add a new column named 'Target_Group'\n",
    "df['Target_Group'] = df['Audience'].map(audience_dict)"
   ]
  },
  {
   "cell_type": "code",
   "execution_count": 31,
   "id": "134ab7fb",
   "metadata": {},
   "outputs": [
    {
     "data": {
      "text/plain": [
       "1    45027\n",
       "2    34913\n",
       "3    21681\n",
       "Name: Target_Group, dtype: int64"
      ]
     },
     "execution_count": 31,
     "metadata": {},
     "output_type": "execute_result"
    }
   ],
   "source": [
    "# Count of different target groups across the data\n",
    "df['Target_Group'].value_counts()"
   ]
  },
  {
   "cell_type": "code",
   "execution_count": 32,
   "id": "c2b5d92f",
   "metadata": {},
   "outputs": [],
   "source": [
    "# Write the cleaned dataset on to a csv file\n",
    "df.to_csv('creative_data_cleaned.csv', index=False)"
   ]
  },
  {
   "cell_type": "code",
   "execution_count": null,
   "id": "d43f0038",
   "metadata": {},
   "outputs": [],
   "source": []
  }
 ],
 "metadata": {
  "kernelspec": {
   "display_name": "Python 3 (ipykernel)",
   "language": "python",
   "name": "python3"
  },
  "language_info": {
   "codemirror_mode": {
    "name": "ipython",
    "version": 3
   },
   "file_extension": ".py",
   "mimetype": "text/x-python",
   "name": "python",
   "nbconvert_exporter": "python",
   "pygments_lexer": "ipython3",
   "version": "3.9.12"
  }
 },
 "nbformat": 4,
 "nbformat_minor": 5
}
