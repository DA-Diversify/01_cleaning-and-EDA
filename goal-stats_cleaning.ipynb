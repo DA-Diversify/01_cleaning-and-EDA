{
 "cells": [
  {
   "cell_type": "markdown",
   "id": "fbfe74cb",
   "metadata": {},
   "source": [
    "# Objectives\n",
    "- Understand 3 main groups of data:\n",
    "    - Customer (Broker) Demographic data\n",
    "    - Advertising Campaign data\n",
    "    - Success Marker data"
   ]
  },
  {
   "cell_type": "markdown",
   "id": "20b67bd2",
   "metadata": {},
   "source": [
    "# Week 2 : Data Cleaning\n",
    "Assigned DataSets:\"Goal stats - web traffic\", \"General stats - web traffic\"\n",
    "\n",
    "0. Load dataset\n",
    "1. Change column headings to names that are easier to reference\n",
    "2. Explore the data.\n",
    "    1. Create a new DataFrame.\n",
    "    2. Sense-check the DataFrame.\n",
    "    3. Determine if there are any missing values in the DataFrame.\n",
    "    4. Create a summary of the descriptive statistics.\n",
    "3. Remove redundant columns\n",
    "4. Save a copy of the clean DataFrame as a CSV file. Import the file to sense-check."
   ]
  },
  {
   "cell_type": "markdown",
   "id": "0cab2c76",
   "metadata": {},
   "source": [
    "## 0. Load file & create dataframes (GoalStats)\n"
   ]
  },
  {
   "cell_type": "code",
   "execution_count": 1,
   "id": "5214021a",
   "metadata": {},
   "outputs": [],
   "source": [
    "# Imports\n",
    "import numpy as np\n",
    "import pandas as pd"
   ]
  },
  {
   "cell_type": "code",
   "execution_count": 2,
   "id": "f7266798",
   "metadata": {},
   "outputs": [
    {
     "data": {
      "text/html": [
       "<div>\n",
       "<style scoped>\n",
       "    .dataframe tbody tr th:only-of-type {\n",
       "        vertical-align: middle;\n",
       "    }\n",
       "\n",
       "    .dataframe tbody tr th {\n",
       "        vertical-align: top;\n",
       "    }\n",
       "\n",
       "    .dataframe thead th {\n",
       "        text-align: right;\n",
       "    }\n",
       "</style>\n",
       "<table border=\"1\" class=\"dataframe\">\n",
       "  <thead>\n",
       "    <tr style=\"text-align: right;\">\n",
       "      <th></th>\n",
       "      <th>Date</th>\n",
       "      <th>Campaign</th>\n",
       "      <th>Audience</th>\n",
       "      <th>Creative - Family</th>\n",
       "      <th>Creative - Version</th>\n",
       "      <th>Platform</th>\n",
       "      <th>Ad Format</th>\n",
       "      <th>Goal</th>\n",
       "      <th>Completions</th>\n",
       "      <th>Campaign Traffic?</th>\n",
       "      <th>Days away from max date</th>\n",
       "      <th>Latest report?</th>\n",
       "    </tr>\n",
       "  </thead>\n",
       "  <tbody>\n",
       "    <tr>\n",
       "      <th>0</th>\n",
       "      <td>2022-04-01</td>\n",
       "      <td>(not set)</td>\n",
       "      <td>NaN</td>\n",
       "      <td>(not set)</td>\n",
       "      <td>(not set)</td>\n",
       "      <td>NaN</td>\n",
       "      <td>NaN</td>\n",
       "      <td>Learn More (Community Mortgage)</td>\n",
       "      <td>2.0</td>\n",
       "      <td>General traffic</td>\n",
       "      <td>213.0</td>\n",
       "      <td>0</td>\n",
       "    </tr>\n",
       "    <tr>\n",
       "      <th>1</th>\n",
       "      <td>2022-04-01</td>\n",
       "      <td>(not set)</td>\n",
       "      <td>NaN</td>\n",
       "      <td>(not set)</td>\n",
       "      <td>(not set)</td>\n",
       "      <td>NaN</td>\n",
       "      <td>NaN</td>\n",
       "      <td>Form Submission</td>\n",
       "      <td>2.0</td>\n",
       "      <td>General traffic</td>\n",
       "      <td>213.0</td>\n",
       "      <td>0</td>\n",
       "    </tr>\n",
       "    <tr>\n",
       "      <th>2</th>\n",
       "      <td>2022-04-01</td>\n",
       "      <td>(not set)</td>\n",
       "      <td>NaN</td>\n",
       "      <td>(not set)</td>\n",
       "      <td>(not set)</td>\n",
       "      <td>NaN</td>\n",
       "      <td>NaN</td>\n",
       "      <td>Home Page Video Play</td>\n",
       "      <td>1.0</td>\n",
       "      <td>General traffic</td>\n",
       "      <td>213.0</td>\n",
       "      <td>0</td>\n",
       "    </tr>\n",
       "    <tr>\n",
       "      <th>3</th>\n",
       "      <td>2022-04-01</td>\n",
       "      <td>(not set)</td>\n",
       "      <td>NaN</td>\n",
       "      <td>(not set)</td>\n",
       "      <td>(not set)</td>\n",
       "      <td>NaN</td>\n",
       "      <td>NaN</td>\n",
       "      <td>Learn More (Closer Twins Banner)</td>\n",
       "      <td>1.0</td>\n",
       "      <td>General traffic</td>\n",
       "      <td>213.0</td>\n",
       "      <td>0</td>\n",
       "    </tr>\n",
       "    <tr>\n",
       "      <th>4</th>\n",
       "      <td>2022-04-01</td>\n",
       "      <td>(not set)</td>\n",
       "      <td>NaN</td>\n",
       "      <td>(not set)</td>\n",
       "      <td>(not set)</td>\n",
       "      <td>NaN</td>\n",
       "      <td>NaN</td>\n",
       "      <td>Learn More (Community Mortgage)</td>\n",
       "      <td>18.0</td>\n",
       "      <td>General traffic</td>\n",
       "      <td>213.0</td>\n",
       "      <td>0</td>\n",
       "    </tr>\n",
       "  </tbody>\n",
       "</table>\n",
       "</div>"
      ],
      "text/plain": [
       "        Date   Campaign Audience Creative - Family Creative - Version  \\\n",
       "0 2022-04-01  (not set)      NaN         (not set)          (not set)   \n",
       "1 2022-04-01  (not set)      NaN         (not set)          (not set)   \n",
       "2 2022-04-01  (not set)      NaN         (not set)          (not set)   \n",
       "3 2022-04-01  (not set)      NaN         (not set)          (not set)   \n",
       "4 2022-04-01  (not set)      NaN         (not set)          (not set)   \n",
       "\n",
       "  Platform Ad Format                              Goal  Completions  \\\n",
       "0      NaN       NaN   Learn More (Community Mortgage)          2.0   \n",
       "1      NaN       NaN                   Form Submission          2.0   \n",
       "2      NaN       NaN              Home Page Video Play          1.0   \n",
       "3      NaN       NaN  Learn More (Closer Twins Banner)          1.0   \n",
       "4      NaN       NaN   Learn More (Community Mortgage)         18.0   \n",
       "\n",
       "  Campaign Traffic?  Days away from max date  Latest report?  \n",
       "0   General traffic                    213.0               0  \n",
       "1   General traffic                    213.0               0  \n",
       "2   General traffic                    213.0               0  \n",
       "3   General traffic                    213.0               0  \n",
       "4   General traffic                    213.0               0  "
      ]
     },
     "execution_count": 2,
     "metadata": {},
     "output_type": "execute_result"
    }
   ],
   "source": [
    "GoalStats_raw = pd.read_excel(\"Change 2022_GA writeback_091122.xlsx\", sheet_name=\"Goal stats - web traffic\")\n",
    "\n",
    "GoalStats_raw.head()"
   ]
  },
  {
   "cell_type": "code",
   "execution_count": 3,
   "id": "f0390c50",
   "metadata": {},
   "outputs": [],
   "source": [
    "#Create new dataframe for cleaned data\n",
    "GoalStats = GoalStats_raw.copy()"
   ]
  },
  {
   "cell_type": "markdown",
   "id": "41bdb986",
   "metadata": {},
   "source": [
    "## 1. Rename Columns"
   ]
  },
  {
   "cell_type": "code",
   "execution_count": 4,
   "id": "6b64eb34",
   "metadata": {},
   "outputs": [
    {
     "data": {
      "text/plain": [
       "Index(['Date', 'Campaign', 'Audience', 'Creative_Family', 'Creative_Version',\n",
       "       'Platform', 'Ad_Format', 'Goal', 'Completions', 'Campaign_Traffic',\n",
       "       'Days_Max_Date', 'Latest_Report'],\n",
       "      dtype='object')"
      ]
     },
     "execution_count": 4,
     "metadata": {},
     "output_type": "execute_result"
    }
   ],
   "source": [
    "# Rename the column headers.\n",
    "GoalStats = GoalStats.rename(\n",
    "    columns={\n",
    "        \"City, Country\": \"Location\",\n",
    "        \"Creative - Family\": \"Creative_Family\",\n",
    "        \"Creative - Version\": \"Creative_Version\",\n",
    "        \"Ad Format\": \"Ad_Format\",\n",
    "        \"Campaign Traffic?\": \"Campaign_Traffic\",\n",
    "        \"Days away from max date\": \"Days_Max_Date\",\n",
    "        \"Latest report?\": \"Latest_Report\"})\n",
    "\n",
    "GoalStats.columns"
   ]
  },
  {
   "cell_type": "markdown",
   "id": "b815f747",
   "metadata": {},
   "source": [
    "\n",
    "## 1. Check for missing values\n",
    "- Evaluate what to do with entries with missing values"
   ]
  },
  {
   "cell_type": "code",
   "execution_count": 5,
   "id": "593901a5",
   "metadata": {},
   "outputs": [
    {
     "name": "stdout",
     "output_type": "stream",
     "text": [
      "<class 'pandas.core.frame.DataFrame'>\n",
      "RangeIndex: 16509 entries, 0 to 16508\n",
      "Data columns (total 12 columns):\n",
      " #   Column                   Non-Null Count  Dtype         \n",
      "---  ------                   --------------  -----         \n",
      " 0   Date                     16509 non-null  datetime64[ns]\n",
      " 1   Campaign                 16509 non-null  object        \n",
      " 2   Audience                 4242 non-null   object        \n",
      " 3   Creative - Family        16509 non-null  object        \n",
      " 4   Creative - Version       16509 non-null  object        \n",
      " 5   Platform                 4549 non-null   object        \n",
      " 6   Ad Format                4427 non-null   object        \n",
      " 7   Goal                     16509 non-null  object        \n",
      " 8   Completions              16509 non-null  float64       \n",
      " 9   Campaign Traffic?        16509 non-null  object        \n",
      " 10  Days away from max date  16509 non-null  float64       \n",
      " 11  Latest report?           16509 non-null  int64         \n",
      "dtypes: datetime64[ns](1), float64(2), int64(1), object(8)\n",
      "memory usage: 1.5+ MB\n"
     ]
    }
   ],
   "source": [
    "GoalStats_raw.info()"
   ]
  },
  {
   "cell_type": "markdown",
   "id": "2a763289",
   "metadata": {},
   "source": [
    "### Basic Overview:\n",
    "\n",
    "Out of __16509 entries__\n",
    "\n",
    "There are missing data for:\n",
    "- Audience : **12267** missing values [74.3% missing]\n",
    "- Platform :  **11960** missing values [72.4% missing]\n",
    "- Ad Format :  **12082** missing values [73.2% missing]\n",
    "\n",
    "> Significant amount of missing data for these columns <br>\n",
    "> ⇒ Significantly reduce amount of available data if all rows with missing values removed <br>\n",
    "> ⇒ Missing data renamed to 'NA' instead of deleting"
   ]
  },
  {
   "cell_type": "code",
   "execution_count": 6,
   "id": "c18d9400",
   "metadata": {},
   "outputs": [],
   "source": [
    "# Create function to check unique values in \n",
    "def col_list(df, para):\n",
    "    print(\"List of values in <\", para ,\"> : \\n\",df[para].unique(),\"\\n\")\n",
    "    return"
   ]
  },
  {
   "cell_type": "markdown",
   "id": "f9e0b200",
   "metadata": {},
   "source": [
    "### 1.1. Demographic Information\n",
    "Columns: 'Audience' <br>\n",
    " 2   Audience                 4242 non-null   object        \n",
    " \n",
    " Expected Values: <br>\n",
    "Audience 1\t:\tRegistered Loan Officers from Registered Brokerage, active (last 120 days). <br>\n",
    "Audience 2\t:\tRegistered Loan Officers from Registered Brokerage, inactive (last 120 days). <br>\n",
    "Audience 3\t:\tRegistered Loan Officers from Registered Brokerage, never registered a loan. <br>\n",
    "Audience 4\t:\tNon-Registered Loan Officers from Registered Brokerages. <br>\n",
    "Audience 5\t:\tRetargeted audience. Non-Registered Loan Officers who visited website (last 7 days). <br>\n",
    "Audience 6\t:\tGeneral Targeting. Brokers not registered and not from registered brokerages."
   ]
  },
  {
   "cell_type": "code",
   "execution_count": 7,
   "id": "594704dd",
   "metadata": {},
   "outputs": [
    {
     "name": "stdout",
     "output_type": "stream",
     "text": [
      "List of values in < Audience > : \n",
      " [nan 'General Targetting' 'test4' '4' '2' '5' '1' '3' '1to4'] \n",
      "\n"
     ]
    }
   ],
   "source": [
    "col_list(GoalStats, 'Audience')"
   ]
  },
  {
   "cell_type": "markdown",
   "id": "66292238",
   "metadata": {},
   "source": [
    "### Cleaning Required:  \n",
    "1) Rename \"General Targetting\" to \"6\" <br>\n",
    "2) Rename \"1to4\" to \"4\"\n",
    "> Based on preliminary check, Audience 4 is the most common\n",
    "\n",
    "\n",
    "3) Rename all none 1-6 values to \"NA\" <br>"
   ]
  },
  {
   "cell_type": "code",
   "execution_count": 8,
   "id": "1b5b6cb0",
   "metadata": {},
   "outputs": [
    {
     "name": "stdout",
     "output_type": "stream",
     "text": [
      "List of values in < Audience > : \n",
      " ['NA' '6' '4' '2' '5' '1' '3'] \n",
      "\n"
     ]
    }
   ],
   "source": [
    "# Rename 'General Targetting' to '6'\n",
    "GoalStats['Audience'] = GoalStats.Audience.str.replace('General Targetting', '6')\n",
    "# Rename '1to4' to '46'\n",
    "GoalStats['Audience'] = GoalStats.Audience.str.replace('1to4', '4')\n",
    "\n",
    "# Replace all non-'1-6' values\n",
    "allowed_vals = ['1','2','3','4','5','6']\n",
    "GoalStats.loc[~GoalStats['Audience'].isin(allowed_vals), 'Audience'] = 'NA'\n",
    "\n",
    "\n",
    "# Check remaining values \n",
    "col_list(GoalStats, 'Audience')"
   ]
  },
  {
   "cell_type": "code",
   "execution_count": 9,
   "id": "c5b7ab23",
   "metadata": {
    "scrolled": true
   },
   "outputs": [
    {
     "data": {
      "text/plain": [
       "Audience\n",
       "1        68\n",
       "2        23\n",
       "3        21\n",
       "4       112\n",
       "5       153\n",
       "6      3863\n",
       "NA    12269\n",
       "Name: Audience, dtype: int64"
      ]
     },
     "execution_count": 9,
     "metadata": {},
     "output_type": "execute_result"
    }
   ],
   "source": [
    "GoalStats.groupby('Audience')['Audience'].count()"
   ]
  },
  {
   "cell_type": "code",
   "execution_count": 10,
   "id": "9eb2613c",
   "metadata": {
    "scrolled": true
   },
   "outputs": [
    {
     "data": {
      "text/html": [
       "<div>\n",
       "<style scoped>\n",
       "    .dataframe tbody tr th:only-of-type {\n",
       "        vertical-align: middle;\n",
       "    }\n",
       "\n",
       "    .dataframe tbody tr th {\n",
       "        vertical-align: top;\n",
       "    }\n",
       "\n",
       "    .dataframe thead th {\n",
       "        text-align: right;\n",
       "    }\n",
       "</style>\n",
       "<table border=\"1\" class=\"dataframe\">\n",
       "  <thead>\n",
       "    <tr style=\"text-align: right;\">\n",
       "      <th></th>\n",
       "      <th>Completions</th>\n",
       "      <th>Days_Max_Date</th>\n",
       "      <th>Latest_Report</th>\n",
       "    </tr>\n",
       "    <tr>\n",
       "      <th>Audience</th>\n",
       "      <th></th>\n",
       "      <th></th>\n",
       "      <th></th>\n",
       "    </tr>\n",
       "  </thead>\n",
       "  <tbody>\n",
       "    <tr>\n",
       "      <th>NA</th>\n",
       "      <td>38170.0</td>\n",
       "      <td>1372374.0</td>\n",
       "      <td>767</td>\n",
       "    </tr>\n",
       "    <tr>\n",
       "      <th>6</th>\n",
       "      <td>5489.0</td>\n",
       "      <td>412591.0</td>\n",
       "      <td>268</td>\n",
       "    </tr>\n",
       "    <tr>\n",
       "      <th>5</th>\n",
       "      <td>155.0</td>\n",
       "      <td>16288.0</td>\n",
       "      <td>30</td>\n",
       "    </tr>\n",
       "    <tr>\n",
       "      <th>4</th>\n",
       "      <td>112.0</td>\n",
       "      <td>8817.0</td>\n",
       "      <td>17</td>\n",
       "    </tr>\n",
       "    <tr>\n",
       "      <th>1</th>\n",
       "      <td>69.0</td>\n",
       "      <td>9498.0</td>\n",
       "      <td>3</td>\n",
       "    </tr>\n",
       "    <tr>\n",
       "      <th>2</th>\n",
       "      <td>23.0</td>\n",
       "      <td>3737.0</td>\n",
       "      <td>0</td>\n",
       "    </tr>\n",
       "    <tr>\n",
       "      <th>3</th>\n",
       "      <td>21.0</td>\n",
       "      <td>2205.0</td>\n",
       "      <td>2</td>\n",
       "    </tr>\n",
       "  </tbody>\n",
       "</table>\n",
       "</div>"
      ],
      "text/plain": [
       "          Completions  Days_Max_Date  Latest_Report\n",
       "Audience                                           \n",
       "NA            38170.0      1372374.0            767\n",
       "6              5489.0       412591.0            268\n",
       "5               155.0        16288.0             30\n",
       "4               112.0         8817.0             17\n",
       "1                69.0         9498.0              3\n",
       "2                23.0         3737.0              0\n",
       "3                21.0         2205.0              2"
      ]
     },
     "execution_count": 10,
     "metadata": {},
     "output_type": "execute_result"
    }
   ],
   "source": [
    "GoalStats.groupby('Audience')\\\n",
    "        .sum('Completions')\\\n",
    "        .sort_values('Completions', ascending=False)"
   ]
  },
  {
   "cell_type": "markdown",
   "id": "abcead25",
   "metadata": {},
   "source": [
    "### 1.2. Advertising Campaign\n",
    "Columns:  <br>\n",
    " 1   Campaign                 16509 non-null  object        \n",
    " 3   Creative - Family        16509 non-null  object        \n",
    " 4   Creative - Version       16509 non-null  object        \n",
    " 5   Platform                 4549 non-null   object        \n",
    " 6   Ad Format                4427 non-null   object    \n",
    " \n",
    " Expected Values: <br>"
   ]
  },
  {
   "cell_type": "code",
   "execution_count": 11,
   "id": "0813e3ec",
   "metadata": {
    "scrolled": true
   },
   "outputs": [
    {
     "name": "stdout",
     "output_type": "stream",
     "text": [
      "List of values in < Campaign > : \n",
      " ['(not set)' 'Announcement' 'NBNurture' 'FY22_broker_campaign_ph2'\n",
      " 'FY22_broker_campaign' 'Brand_Exact' 'Brand_Phrase' 'NB_Wholesale_Exact'\n",
      " 'NB_Wholesale_Phrase' 'FY23_broker_campaign' 'FY23_change_digital_phase3'\n",
      " 'FY22_Broker_Campaign'\n",
      " '5d7f312058-EMAIL_CAMPAIGN_2022_03_27_11_04_COPY_01'\n",
      " 'c9dcf05b32-EMAIL_CAMPAIGN_2022_03_21_12_37_COPY_01'\n",
      " 'f27ee0be9c-EMAIL_CAMPAIGN_2022_03_27_11_04_COPY_01' 'AE_Intro'\n",
      " 'Change_Wholesale_plusup' 'adhocwhol' 'Active Broker Emails' 'closr'\n",
      " 'e3bc604b28-EMAIL_CAMPAIGN_2022_08_02_05_34' 2022.0 'LORecruiting'\n",
      " 'FY22_anti_inflation' 'August_Mesaage' 'Anti_Inflation' 'CloserTwins'\n",
      " 'Q4_2022'] \n",
      "\n",
      "List of values in < Creative_Family > : \n",
      " ['(not set)' 'SEM Ads' 'Trade Media Ads' 'CompetitiveOpportunity'\n",
      " 'CloseFaster' 'CloserTwins' 'newsletter' 'One-Off' 'SnapdocsLive'\n",
      " 'UnfairAdvantage' 'ComingSoon' 219526440.0 'domain' 'All3' '08-24-2022'\n",
      " '08-25-2022' '08-29-2022' 'August' 'crm'\n",
      " datetime.datetime(2022, 6, 9, 0, 0) datetime.datetime(2022, 8, 9, 0, 0)] \n",
      "\n",
      "List of values in < Creative_Version > : \n",
      " ['(not set)' '300x250' '728x90' 'Cancelingyourlock' 'Change Wholesale'\n",
      " 'Close More. Close Faster.' '3steps' 'MoreAll' 'NoDTI' 'CloseMore'\n",
      " 'Competitors' 'Cutdown1A' 'Cutdown1B' 'EarlyBird' 'Faceoff' 'Faceoff1'\n",
      " 'Faceoff2' 'Faster' 'interactive' 'MoreLoans' 'MoreLoansAll' 'Namaste'\n",
      " 'Paperwork' 'RTB' 'ShapeUp' 'OTT_15' 'OTT_30' 'OTT_30QR' 'One-Off'\n",
      " 'Rate Lock' 'ROS1' 'ROS5' 'SnapdocsLive' 'Theycancelweclose' 1099.0\n",
      " '1page' 'All' 'OnePage' \"We Are America's CDFI\" 'ComingSoon' 'Animated'\n",
      " 219526440.0 'FasterAll' 'MoreNoReg' 'ad1' 'ROP' 'All3' '08-24-2022'\n",
      " '08-25-2022' '08-29-2022' 'August' datetime.datetime(2022, 6, 9, 0, 0)\n",
      " datetime.datetime(2022, 8, 9, 0, 0)] \n",
      "\n",
      "List of values in < Platform > : \n",
      " [nan 'Google SEM' 'Trade Media' 'LinkedIn' 'Domain Display'\n",
      " 'User ID Display' 'Facebook' 'OTT'] \n",
      "\n",
      "List of values in < Ad_Format > : \n",
      " [nan 'CPC' 'National_mortgage_news' 'Single image' 'Video'\n",
      " 'Inside_mortgage_finance_newsletter' 'Nmn' 'Scotsman' 'Housingwire'\n",
      " 'Carousel' 'Chrisman' 'Animated'] \n",
      "\n",
      "List of values in < Campaign_Traffic > : \n",
      " ['General traffic' 'Campaign'] \n",
      "\n"
     ]
    }
   ],
   "source": [
    "col_list(GoalStats, 'Campaign')\n",
    "col_list(GoalStats, 'Creative_Family')\n",
    "col_list(GoalStats, 'Creative_Version')\n",
    "col_list(GoalStats, 'Platform')\n",
    "col_list(GoalStats, 'Ad_Format')\n",
    "col_list(GoalStats, 'Campaign_Traffic')"
   ]
  },
  {
   "cell_type": "markdown",
   "id": "e8f098d4",
   "metadata": {},
   "source": [
    "### Cleaning Required:  \n",
    "1) No cleaning required for 'Campaign Traffic?'  <br>\n",
    "2) Rename missing values in 'Platform', 'Ad Format' to \"NA\" <br>\n",
    "<br>\n",
    "3) Rename \"(not set)\" value to \"NA\" for 'Campaign', 'Creative - Family' and 'Creative - Version'<br>\n",
    ">    - Upon verification on Excel, it's found that most of the \"(not set)\" values are for entries that record \"General Traffic\" vs \"Campaign\" traffic <br>\n",
    ">    - Hence, it makes sense that the 'Campaign' details of the activities are undefined\n",
    "\n",
    "4) Varied values in 'Campaign', 'Creative - Family' and 'Creative - Version' <br>\n",
    ">    - will need to evaluate which are actual values and which are erroneous <br>\n",
    ">    - Maybe cross-refer to other datasets"
   ]
  },
  {
   "cell_type": "code",
   "execution_count": 12,
   "id": "75aea13c",
   "metadata": {
    "scrolled": true
   },
   "outputs": [
    {
     "name": "stdout",
     "output_type": "stream",
     "text": [
      "List of values in < Platform > : \n",
      " ['NA' 'Google SEM' 'Trade Media' 'LinkedIn' 'Domain Display'\n",
      " 'User ID Display' 'Facebook' 'OTT'] \n",
      "\n",
      "List of values in < Ad_Format > : \n",
      " ['NA' 'CPC' 'National_mortgage_news' 'Single image' 'Video'\n",
      " 'Inside_mortgage_finance_newsletter' 'Nmn' 'Scotsman' 'Housingwire'\n",
      " 'Carousel' 'Chrisman' 'Animated'] \n",
      "\n"
     ]
    }
   ],
   "source": [
    "# Replace missing values\n",
    "GoalStats = GoalStats.fillna('NA')\n",
    "\n",
    "col_list(GoalStats, 'Platform')\n",
    "col_list(GoalStats, 'Ad_Format')"
   ]
  },
  {
   "cell_type": "markdown",
   "id": "9b8d852f",
   "metadata": {},
   "source": [
    "### 1.2.1 \"Campaign\" Values\n",
    "\n",
    "1) Rename to \"Email_Campaign\": <br>\n",
    "5d7f312058-EMAIL_CAMPAIGN_2022_03_27_11_04_COPY_01\t<br>\n",
    "c9dcf05b32-EMAIL_CAMPAIGN_2022_03_21_12_37_COPY_01\t<br>\n",
    "e3bc604b28-EMAIL_CAMPAIGN_2022_08_02_05_34\t<br>\n",
    "f27ee0be9c-EMAIL_CAMPAIGN_2022_03_27_11_04_COPY_01\t\n",
    "\n",
    "2) Rename \"(not set)\" to \"NA\""
   ]
  },
  {
   "cell_type": "code",
   "execution_count": 13,
   "id": "257bdd80",
   "metadata": {},
   "outputs": [],
   "source": [
    "# Change all values to string\n",
    "GoalStats['Campaign'] = GoalStats['Campaign'].astype(str)"
   ]
  },
  {
   "cell_type": "code",
   "execution_count": 14,
   "id": "6bde6707",
   "metadata": {
    "scrolled": true
   },
   "outputs": [
    {
     "name": "stdout",
     "output_type": "stream",
     "text": [
      "List of values in < Campaign > : \n",
      " ['NA' 'Announcement' 'NBNurture' 'FY22_broker_campaign_ph2'\n",
      " 'FY22_broker_campaign' 'Brand_Exact' 'Brand_Phrase' 'NB_Wholesale_Exact'\n",
      " 'NB_Wholesale_Phrase' 'FY23_broker_campaign' 'FY23_change_digital_phase3'\n",
      " 'FY22_Broker_Campaign' 'Email_Campaign' 'AE_Intro'\n",
      " 'Change_Wholesale_plusup' 'adhocwhol' 'Active Broker Emails' 'closr'\n",
      " '2022.0' 'LORecruiting' 'FY22_anti_inflation' 'August_Mesaage'\n",
      " 'Anti_Inflation' 'CloserTwins' 'Q4_2022'] \n",
      "\n"
     ]
    },
    {
     "name": "stderr",
     "output_type": "stream",
     "text": [
      "C:\\Users\\athir\\AppData\\Local\\Temp/ipykernel_27704/3675712655.py:2: FutureWarning: The default value of regex will change from True to False in a future version.\n",
      "  GoalStats['Campaign'] = GoalStats.Campaign.str.replace(r'(^.*EMAIL_CAMPAIGN.*$)', 'Email_Campaign')\n"
     ]
    }
   ],
   "source": [
    "# Rename 'Email_Campaign'\n",
    "GoalStats['Campaign'] = GoalStats.Campaign.str.replace(r'(^.*EMAIL_CAMPAIGN.*$)', 'Email_Campaign')\n",
    "GoalStats['Campaign'] = GoalStats.Campaign.str.replace(r'(^.*2022.0.*$)', '2022')\n",
    "\n",
    "# Rename '(not set)' to 'NA'\n",
    "GoalStats['Campaign'] = GoalStats.Campaign.replace('(not set)', 'NA')\n",
    "\n",
    "col_list(GoalStats, 'Campaign')"
   ]
  },
  {
   "cell_type": "code",
   "execution_count": 15,
   "id": "b85092c0",
   "metadata": {
    "scrolled": true
   },
   "outputs": [
    {
     "data": {
      "text/html": [
       "<div>\n",
       "<style scoped>\n",
       "    .dataframe tbody tr th:only-of-type {\n",
       "        vertical-align: middle;\n",
       "    }\n",
       "\n",
       "    .dataframe tbody tr th {\n",
       "        vertical-align: top;\n",
       "    }\n",
       "\n",
       "    .dataframe thead th {\n",
       "        text-align: right;\n",
       "    }\n",
       "</style>\n",
       "<table border=\"1\" class=\"dataframe\">\n",
       "  <thead>\n",
       "    <tr style=\"text-align: right;\">\n",
       "      <th></th>\n",
       "      <th>Date</th>\n",
       "      <th>Audience</th>\n",
       "      <th>Creative_Family</th>\n",
       "      <th>Creative_Version</th>\n",
       "      <th>Platform</th>\n",
       "      <th>Ad_Format</th>\n",
       "      <th>Goal</th>\n",
       "      <th>Completions</th>\n",
       "      <th>Campaign_Traffic</th>\n",
       "      <th>Days_Max_Date</th>\n",
       "      <th>Latest_Report</th>\n",
       "    </tr>\n",
       "    <tr>\n",
       "      <th>Campaign</th>\n",
       "      <th></th>\n",
       "      <th></th>\n",
       "      <th></th>\n",
       "      <th></th>\n",
       "      <th></th>\n",
       "      <th></th>\n",
       "      <th></th>\n",
       "      <th></th>\n",
       "      <th></th>\n",
       "      <th></th>\n",
       "      <th></th>\n",
       "    </tr>\n",
       "  </thead>\n",
       "  <tbody>\n",
       "    <tr>\n",
       "      <th>2022.0</th>\n",
       "      <td>19</td>\n",
       "      <td>19</td>\n",
       "      <td>19</td>\n",
       "      <td>19</td>\n",
       "      <td>19</td>\n",
       "      <td>19</td>\n",
       "      <td>19</td>\n",
       "      <td>19</td>\n",
       "      <td>19</td>\n",
       "      <td>19</td>\n",
       "      <td>19</td>\n",
       "    </tr>\n",
       "    <tr>\n",
       "      <th>AE_Intro</th>\n",
       "      <td>7</td>\n",
       "      <td>7</td>\n",
       "      <td>7</td>\n",
       "      <td>7</td>\n",
       "      <td>7</td>\n",
       "      <td>7</td>\n",
       "      <td>7</td>\n",
       "      <td>7</td>\n",
       "      <td>7</td>\n",
       "      <td>7</td>\n",
       "      <td>7</td>\n",
       "    </tr>\n",
       "    <tr>\n",
       "      <th>Active Broker Emails</th>\n",
       "      <td>1</td>\n",
       "      <td>1</td>\n",
       "      <td>1</td>\n",
       "      <td>1</td>\n",
       "      <td>1</td>\n",
       "      <td>1</td>\n",
       "      <td>1</td>\n",
       "      <td>1</td>\n",
       "      <td>1</td>\n",
       "      <td>1</td>\n",
       "      <td>1</td>\n",
       "    </tr>\n",
       "    <tr>\n",
       "      <th>Announcement</th>\n",
       "      <td>16</td>\n",
       "      <td>16</td>\n",
       "      <td>16</td>\n",
       "      <td>16</td>\n",
       "      <td>16</td>\n",
       "      <td>16</td>\n",
       "      <td>16</td>\n",
       "      <td>16</td>\n",
       "      <td>16</td>\n",
       "      <td>16</td>\n",
       "      <td>16</td>\n",
       "    </tr>\n",
       "    <tr>\n",
       "      <th>Anti_Inflation</th>\n",
       "      <td>26</td>\n",
       "      <td>26</td>\n",
       "      <td>26</td>\n",
       "      <td>26</td>\n",
       "      <td>26</td>\n",
       "      <td>26</td>\n",
       "      <td>26</td>\n",
       "      <td>26</td>\n",
       "      <td>26</td>\n",
       "      <td>26</td>\n",
       "      <td>26</td>\n",
       "    </tr>\n",
       "    <tr>\n",
       "      <th>August_Mesaage</th>\n",
       "      <td>2</td>\n",
       "      <td>2</td>\n",
       "      <td>2</td>\n",
       "      <td>2</td>\n",
       "      <td>2</td>\n",
       "      <td>2</td>\n",
       "      <td>2</td>\n",
       "      <td>2</td>\n",
       "      <td>2</td>\n",
       "      <td>2</td>\n",
       "      <td>2</td>\n",
       "    </tr>\n",
       "    <tr>\n",
       "      <th>Brand_Exact</th>\n",
       "      <td>2630</td>\n",
       "      <td>2630</td>\n",
       "      <td>2630</td>\n",
       "      <td>2630</td>\n",
       "      <td>2630</td>\n",
       "      <td>2630</td>\n",
       "      <td>2630</td>\n",
       "      <td>2630</td>\n",
       "      <td>2630</td>\n",
       "      <td>2630</td>\n",
       "      <td>2630</td>\n",
       "    </tr>\n",
       "    <tr>\n",
       "      <th>Brand_Phrase</th>\n",
       "      <td>480</td>\n",
       "      <td>480</td>\n",
       "      <td>480</td>\n",
       "      <td>480</td>\n",
       "      <td>480</td>\n",
       "      <td>480</td>\n",
       "      <td>480</td>\n",
       "      <td>480</td>\n",
       "      <td>480</td>\n",
       "      <td>480</td>\n",
       "      <td>480</td>\n",
       "    </tr>\n",
       "    <tr>\n",
       "      <th>Change_Wholesale_plusup</th>\n",
       "      <td>33</td>\n",
       "      <td>33</td>\n",
       "      <td>33</td>\n",
       "      <td>33</td>\n",
       "      <td>33</td>\n",
       "      <td>33</td>\n",
       "      <td>33</td>\n",
       "      <td>33</td>\n",
       "      <td>33</td>\n",
       "      <td>33</td>\n",
       "      <td>33</td>\n",
       "    </tr>\n",
       "    <tr>\n",
       "      <th>CloserTwins</th>\n",
       "      <td>5</td>\n",
       "      <td>5</td>\n",
       "      <td>5</td>\n",
       "      <td>5</td>\n",
       "      <td>5</td>\n",
       "      <td>5</td>\n",
       "      <td>5</td>\n",
       "      <td>5</td>\n",
       "      <td>5</td>\n",
       "      <td>5</td>\n",
       "      <td>5</td>\n",
       "    </tr>\n",
       "    <tr>\n",
       "      <th>Email_Campaign</th>\n",
       "      <td>13</td>\n",
       "      <td>13</td>\n",
       "      <td>13</td>\n",
       "      <td>13</td>\n",
       "      <td>13</td>\n",
       "      <td>13</td>\n",
       "      <td>13</td>\n",
       "      <td>13</td>\n",
       "      <td>13</td>\n",
       "      <td>13</td>\n",
       "      <td>13</td>\n",
       "    </tr>\n",
       "    <tr>\n",
       "      <th>FY22_Broker_Campaign</th>\n",
       "      <td>11</td>\n",
       "      <td>11</td>\n",
       "      <td>11</td>\n",
       "      <td>11</td>\n",
       "      <td>11</td>\n",
       "      <td>11</td>\n",
       "      <td>11</td>\n",
       "      <td>11</td>\n",
       "      <td>11</td>\n",
       "      <td>11</td>\n",
       "      <td>11</td>\n",
       "    </tr>\n",
       "    <tr>\n",
       "      <th>FY22_anti_inflation</th>\n",
       "      <td>19</td>\n",
       "      <td>19</td>\n",
       "      <td>19</td>\n",
       "      <td>19</td>\n",
       "      <td>19</td>\n",
       "      <td>19</td>\n",
       "      <td>19</td>\n",
       "      <td>19</td>\n",
       "      <td>19</td>\n",
       "      <td>19</td>\n",
       "      <td>19</td>\n",
       "    </tr>\n",
       "    <tr>\n",
       "      <th>FY22_broker_campaign</th>\n",
       "      <td>15</td>\n",
       "      <td>15</td>\n",
       "      <td>15</td>\n",
       "      <td>15</td>\n",
       "      <td>15</td>\n",
       "      <td>15</td>\n",
       "      <td>15</td>\n",
       "      <td>15</td>\n",
       "      <td>15</td>\n",
       "      <td>15</td>\n",
       "      <td>15</td>\n",
       "    </tr>\n",
       "    <tr>\n",
       "      <th>FY22_broker_campaign_ph2</th>\n",
       "      <td>514</td>\n",
       "      <td>514</td>\n",
       "      <td>514</td>\n",
       "      <td>514</td>\n",
       "      <td>514</td>\n",
       "      <td>514</td>\n",
       "      <td>514</td>\n",
       "      <td>514</td>\n",
       "      <td>514</td>\n",
       "      <td>514</td>\n",
       "      <td>514</td>\n",
       "    </tr>\n",
       "    <tr>\n",
       "      <th>FY23_broker_campaign</th>\n",
       "      <td>163</td>\n",
       "      <td>163</td>\n",
       "      <td>163</td>\n",
       "      <td>163</td>\n",
       "      <td>163</td>\n",
       "      <td>163</td>\n",
       "      <td>163</td>\n",
       "      <td>163</td>\n",
       "      <td>163</td>\n",
       "      <td>163</td>\n",
       "      <td>163</td>\n",
       "    </tr>\n",
       "    <tr>\n",
       "      <th>FY23_change_digital_phase3</th>\n",
       "      <td>259</td>\n",
       "      <td>259</td>\n",
       "      <td>259</td>\n",
       "      <td>259</td>\n",
       "      <td>259</td>\n",
       "      <td>259</td>\n",
       "      <td>259</td>\n",
       "      <td>259</td>\n",
       "      <td>259</td>\n",
       "      <td>259</td>\n",
       "      <td>259</td>\n",
       "    </tr>\n",
       "    <tr>\n",
       "      <th>LORecruiting</th>\n",
       "      <td>9</td>\n",
       "      <td>9</td>\n",
       "      <td>9</td>\n",
       "      <td>9</td>\n",
       "      <td>9</td>\n",
       "      <td>9</td>\n",
       "      <td>9</td>\n",
       "      <td>9</td>\n",
       "      <td>9</td>\n",
       "      <td>9</td>\n",
       "      <td>9</td>\n",
       "    </tr>\n",
       "    <tr>\n",
       "      <th>NA</th>\n",
       "      <td>11686</td>\n",
       "      <td>11686</td>\n",
       "      <td>11686</td>\n",
       "      <td>11686</td>\n",
       "      <td>11686</td>\n",
       "      <td>11686</td>\n",
       "      <td>11686</td>\n",
       "      <td>11686</td>\n",
       "      <td>11686</td>\n",
       "      <td>11686</td>\n",
       "      <td>11686</td>\n",
       "    </tr>\n",
       "    <tr>\n",
       "      <th>NBNurture</th>\n",
       "      <td>135</td>\n",
       "      <td>135</td>\n",
       "      <td>135</td>\n",
       "      <td>135</td>\n",
       "      <td>135</td>\n",
       "      <td>135</td>\n",
       "      <td>135</td>\n",
       "      <td>135</td>\n",
       "      <td>135</td>\n",
       "      <td>135</td>\n",
       "      <td>135</td>\n",
       "    </tr>\n",
       "    <tr>\n",
       "      <th>NB_Wholesale_Exact</th>\n",
       "      <td>68</td>\n",
       "      <td>68</td>\n",
       "      <td>68</td>\n",
       "      <td>68</td>\n",
       "      <td>68</td>\n",
       "      <td>68</td>\n",
       "      <td>68</td>\n",
       "      <td>68</td>\n",
       "      <td>68</td>\n",
       "      <td>68</td>\n",
       "      <td>68</td>\n",
       "    </tr>\n",
       "    <tr>\n",
       "      <th>NB_Wholesale_Phrase</th>\n",
       "      <td>88</td>\n",
       "      <td>88</td>\n",
       "      <td>88</td>\n",
       "      <td>88</td>\n",
       "      <td>88</td>\n",
       "      <td>88</td>\n",
       "      <td>88</td>\n",
       "      <td>88</td>\n",
       "      <td>88</td>\n",
       "      <td>88</td>\n",
       "      <td>88</td>\n",
       "    </tr>\n",
       "    <tr>\n",
       "      <th>Q4_2022</th>\n",
       "      <td>18</td>\n",
       "      <td>18</td>\n",
       "      <td>18</td>\n",
       "      <td>18</td>\n",
       "      <td>18</td>\n",
       "      <td>18</td>\n",
       "      <td>18</td>\n",
       "      <td>18</td>\n",
       "      <td>18</td>\n",
       "      <td>18</td>\n",
       "      <td>18</td>\n",
       "    </tr>\n",
       "    <tr>\n",
       "      <th>adhocwhol</th>\n",
       "      <td>288</td>\n",
       "      <td>288</td>\n",
       "      <td>288</td>\n",
       "      <td>288</td>\n",
       "      <td>288</td>\n",
       "      <td>288</td>\n",
       "      <td>288</td>\n",
       "      <td>288</td>\n",
       "      <td>288</td>\n",
       "      <td>288</td>\n",
       "      <td>288</td>\n",
       "    </tr>\n",
       "    <tr>\n",
       "      <th>closr</th>\n",
       "      <td>4</td>\n",
       "      <td>4</td>\n",
       "      <td>4</td>\n",
       "      <td>4</td>\n",
       "      <td>4</td>\n",
       "      <td>4</td>\n",
       "      <td>4</td>\n",
       "      <td>4</td>\n",
       "      <td>4</td>\n",
       "      <td>4</td>\n",
       "      <td>4</td>\n",
       "    </tr>\n",
       "  </tbody>\n",
       "</table>\n",
       "</div>"
      ],
      "text/plain": [
       "                             Date  Audience  Creative_Family  \\\n",
       "Campaign                                                       \n",
       "2022.0                         19        19               19   \n",
       "AE_Intro                        7         7                7   \n",
       "Active Broker Emails            1         1                1   \n",
       "Announcement                   16        16               16   \n",
       "Anti_Inflation                 26        26               26   \n",
       "August_Mesaage                  2         2                2   \n",
       "Brand_Exact                  2630      2630             2630   \n",
       "Brand_Phrase                  480       480              480   \n",
       "Change_Wholesale_plusup        33        33               33   \n",
       "CloserTwins                     5         5                5   \n",
       "Email_Campaign                 13        13               13   \n",
       "FY22_Broker_Campaign           11        11               11   \n",
       "FY22_anti_inflation            19        19               19   \n",
       "FY22_broker_campaign           15        15               15   \n",
       "FY22_broker_campaign_ph2      514       514              514   \n",
       "FY23_broker_campaign          163       163              163   \n",
       "FY23_change_digital_phase3    259       259              259   \n",
       "LORecruiting                    9         9                9   \n",
       "NA                          11686     11686            11686   \n",
       "NBNurture                     135       135              135   \n",
       "NB_Wholesale_Exact             68        68               68   \n",
       "NB_Wholesale_Phrase            88        88               88   \n",
       "Q4_2022                        18        18               18   \n",
       "adhocwhol                     288       288              288   \n",
       "closr                           4         4                4   \n",
       "\n",
       "                            Creative_Version  Platform  Ad_Format   Goal  \\\n",
       "Campaign                                                                   \n",
       "2022.0                                    19        19         19     19   \n",
       "AE_Intro                                   7         7          7      7   \n",
       "Active Broker Emails                       1         1          1      1   \n",
       "Announcement                              16        16         16     16   \n",
       "Anti_Inflation                            26        26         26     26   \n",
       "August_Mesaage                             2         2          2      2   \n",
       "Brand_Exact                             2630      2630       2630   2630   \n",
       "Brand_Phrase                             480       480        480    480   \n",
       "Change_Wholesale_plusup                   33        33         33     33   \n",
       "CloserTwins                                5         5          5      5   \n",
       "Email_Campaign                            13        13         13     13   \n",
       "FY22_Broker_Campaign                      11        11         11     11   \n",
       "FY22_anti_inflation                       19        19         19     19   \n",
       "FY22_broker_campaign                      15        15         15     15   \n",
       "FY22_broker_campaign_ph2                 514       514        514    514   \n",
       "FY23_broker_campaign                     163       163        163    163   \n",
       "FY23_change_digital_phase3               259       259        259    259   \n",
       "LORecruiting                               9         9          9      9   \n",
       "NA                                     11686     11686      11686  11686   \n",
       "NBNurture                                135       135        135    135   \n",
       "NB_Wholesale_Exact                        68        68         68     68   \n",
       "NB_Wholesale_Phrase                       88        88         88     88   \n",
       "Q4_2022                                   18        18         18     18   \n",
       "adhocwhol                                288       288        288    288   \n",
       "closr                                      4         4          4      4   \n",
       "\n",
       "                            Completions  Campaign_Traffic  Days_Max_Date  \\\n",
       "Campaign                                                                   \n",
       "2022.0                               19                19             19   \n",
       "AE_Intro                              7                 7              7   \n",
       "Active Broker Emails                  1                 1              1   \n",
       "Announcement                         16                16             16   \n",
       "Anti_Inflation                       26                26             26   \n",
       "August_Mesaage                        2                 2              2   \n",
       "Brand_Exact                        2630              2630           2630   \n",
       "Brand_Phrase                        480               480            480   \n",
       "Change_Wholesale_plusup              33                33             33   \n",
       "CloserTwins                           5                 5              5   \n",
       "Email_Campaign                       13                13             13   \n",
       "FY22_Broker_Campaign                 11                11             11   \n",
       "FY22_anti_inflation                  19                19             19   \n",
       "FY22_broker_campaign                 15                15             15   \n",
       "FY22_broker_campaign_ph2            514               514            514   \n",
       "FY23_broker_campaign                163               163            163   \n",
       "FY23_change_digital_phase3          259               259            259   \n",
       "LORecruiting                          9                 9              9   \n",
       "NA                                11686             11686          11686   \n",
       "NBNurture                           135               135            135   \n",
       "NB_Wholesale_Exact                   68                68             68   \n",
       "NB_Wholesale_Phrase                  88                88             88   \n",
       "Q4_2022                              18                18             18   \n",
       "adhocwhol                           288               288            288   \n",
       "closr                                 4                 4              4   \n",
       "\n",
       "                            Latest_Report  \n",
       "Campaign                                   \n",
       "2022.0                                 19  \n",
       "AE_Intro                                7  \n",
       "Active Broker Emails                    1  \n",
       "Announcement                           16  \n",
       "Anti_Inflation                         26  \n",
       "August_Mesaage                          2  \n",
       "Brand_Exact                          2630  \n",
       "Brand_Phrase                          480  \n",
       "Change_Wholesale_plusup                33  \n",
       "CloserTwins                             5  \n",
       "Email_Campaign                         13  \n",
       "FY22_Broker_Campaign                   11  \n",
       "FY22_anti_inflation                    19  \n",
       "FY22_broker_campaign                   15  \n",
       "FY22_broker_campaign_ph2              514  \n",
       "FY23_broker_campaign                  163  \n",
       "FY23_change_digital_phase3            259  \n",
       "LORecruiting                            9  \n",
       "NA                                  11686  \n",
       "NBNurture                             135  \n",
       "NB_Wholesale_Exact                     68  \n",
       "NB_Wholesale_Phrase                    88  \n",
       "Q4_2022                                18  \n",
       "adhocwhol                             288  \n",
       "closr                                   4  "
      ]
     },
     "execution_count": 15,
     "metadata": {},
     "output_type": "execute_result"
    }
   ],
   "source": [
    "test = GoalStats.groupby('Campaign').count()\n",
    "\n",
    "test"
   ]
  },
  {
   "attachments": {},
   "cell_type": "markdown",
   "id": "ba0dd8b7",
   "metadata": {},
   "source": [
    "### 1.2.2 Creative_Family & Creative_Version\n",
    "__For 'Creative - Family':__ <br>\n",
    "After evaluating the values in the 'Creative_Family' column, we have found that most of the illogical values are for 'General Traffic' records. Since 'General Traffic' would not be associated with any campaign, we have opted only to keep the \"Creative_Family\" values that are associated with the campaign traffic or have >5 entries.\n",
    "\n",
    "> __Accepted values:__\n",
    "SEM Ads, \n",
    "UnfairAdvantage, \n",
    "CloserTwins, \n",
    "Trade Media Ads, \n",
    "CloseFaster, \n",
    "domain, \n",
    "August, \n",
    "CompetitiveOpportunity, \n",
    "newsletter, \n",
    "One-Off, \n",
    "crm\n",
    " <br>\n",
    "\n",
    "__For 'Creative - Version':__<br>\n",
    "We have opted to leave the values as is, since we cannot be sure which version names are correct\n",
    "> Column left untouched so that the data can be used if needed <br>\n",
    "> However, we currently have no plans to use this data column\n",
    "\n",
    "__For both columns:__<br>\n",
    "> All blanks & '(not set)' values to be renamed to 'NA' for consistency"
   ]
  },
  {
   "cell_type": "code",
   "execution_count": 16,
   "id": "22b94d5e",
   "metadata": {},
   "outputs": [],
   "source": [
    "CreFam_allowed = ['SEM Ads', 'UnfairAdvantage', 'CloserTwins', \\\n",
    "                  'Trade Media Ads', 'CloseFaster', 'domain', \\\n",
    "                  'August', 'CompetitiveOpportunity', 'newsletter', \\\n",
    "                  'One-Off', 'crm', 'ComingSoon']"
   ]
  },
  {
   "cell_type": "code",
   "execution_count": 17,
   "id": "e623d909",
   "metadata": {
    "scrolled": true
   },
   "outputs": [
    {
     "name": "stdout",
     "output_type": "stream",
     "text": [
      "List of values in < Creative_Family > : \n",
      " ['(not set)' 'SEM Ads' 'Trade Media Ads' 'CompetitiveOpportunity'\n",
      " 'CloseFaster' 'CloserTwins' 'newsletter' 'One-Off' 'SnapdocsLive'\n",
      " 'UnfairAdvantage' 'ComingSoon' 219526440.0 'domain' 'All3' '08-24-2022'\n",
      " '08-25-2022' '08-29-2022' 'August' 'crm'\n",
      " datetime.datetime(2022, 6, 9, 0, 0) datetime.datetime(2022, 8, 9, 0, 0)] \n",
      "\n"
     ]
    }
   ],
   "source": [
    "# Original values for Creative_Family in GoalStats\n",
    "col_list(GoalStats, 'Creative_Family')"
   ]
  },
  {
   "cell_type": "code",
   "execution_count": 18,
   "id": "a3804bd0",
   "metadata": {},
   "outputs": [
    {
     "name": "stdout",
     "output_type": "stream",
     "text": [
      "List of values in < Creative_Family > : \n",
      " ['NA' 'SEM Ads' 'Trade Media Ads' 'CompetitiveOpportunity' 'CloseFaster'\n",
      " 'CloserTwins' 'newsletter' 'One-Off' 'UnfairAdvantage' 'ComingSoon'\n",
      " 'domain' 'August' 'crm'] \n",
      "\n"
     ]
    }
   ],
   "source": [
    "# Replace all non-accepted values with \"NA\"\n",
    "GoalStats.loc[~GoalStats['Creative_Family'].isin(CreFam_allowed), \\\n",
    "             'Creative_Family'] = 'NA'\n",
    "\n",
    "col_list(GoalStats, 'Creative_Family')"
   ]
  },
  {
   "cell_type": "code",
   "execution_count": 19,
   "id": "3cbcfbcd",
   "metadata": {},
   "outputs": [
    {
     "name": "stdout",
     "output_type": "stream",
     "text": [
      "List of values in < Creative_Version > : \n",
      " ['NA' '300x250' '728x90' 'Cancelingyourlock' 'Change Wholesale'\n",
      " 'Close More. Close Faster.' '3steps' 'MoreAll' 'NoDTI' 'CloseMore'\n",
      " 'Competitors' 'Cutdown1A' 'Cutdown1B' 'EarlyBird' 'Faceoff' 'Faceoff1'\n",
      " 'Faceoff2' 'Faster' 'interactive' 'MoreLoans' 'MoreLoansAll' 'Namaste'\n",
      " 'Paperwork' 'RTB' 'ShapeUp' 'OTT_15' 'OTT_30' 'OTT_30QR' 'One-Off'\n",
      " 'Rate Lock' 'ROS1' 'ROS5' 'SnapdocsLive' 'Theycancelweclose' 1099.0\n",
      " '1page' 'All' 'OnePage' \"We Are America's CDFI\" 'ComingSoon' 'Animated'\n",
      " 219526440.0 'FasterAll' 'MoreNoReg' 'ad1' 'ROP' 'All3' '08-24-2022'\n",
      " '08-25-2022' '08-29-2022' 'August' datetime.datetime(2022, 6, 9, 0, 0)\n",
      " datetime.datetime(2022, 8, 9, 0, 0)] \n",
      "\n"
     ]
    }
   ],
   "source": [
    "# Rename '(not set)' to 'NA'\n",
    "GoalStats['Creative_Version'] = GoalStats.Creative_Version.replace('(not set)', 'NA')\n",
    "\n",
    "col_list(GoalStats, 'Creative_Version')"
   ]
  },
  {
   "cell_type": "markdown",
   "id": "348a0d23",
   "metadata": {},
   "source": [
    "### 1.3. Success Markers\n",
    "Columns:  <br>        \n",
    " 7   Goal                     16509 non-null  object        <br>\n",
    " 8   Completions              16509 non-null  float64       <br>\n",
    " \n",
    " Expected Values: <br>\n",
    " \n",
    " > Since all values in 'Completions' are numbers, we can get a number sensing"
   ]
  },
  {
   "cell_type": "code",
   "execution_count": 20,
   "id": "b7910bbe",
   "metadata": {
    "scrolled": true
   },
   "outputs": [
    {
     "name": "stdout",
     "output_type": "stream",
     "text": [
      "List of values in < Goal > : \n",
      " ['Learn More (Community Mortgage)' 'Form Submission'\n",
      " 'Home Page Video Play' 'Learn More (Closer Twins Banner)'\n",
      " 'Learn More (Our Story)' 'Start Closing More' 'Get Approved'\n",
      " 'Closer Twins Page Video Play' 'Broker Login' 'utm_audience' 'test4'] \n",
      "\n"
     ]
    }
   ],
   "source": [
    "col_list(GoalStats, 'Goal')"
   ]
  },
  {
   "cell_type": "code",
   "execution_count": 21,
   "id": "d4130325",
   "metadata": {
    "scrolled": true
   },
   "outputs": [
    {
     "data": {
      "text/plain": [
       "count    16509.000000\n",
       "mean         2.667575\n",
       "std          4.415329\n",
       "min          1.000000\n",
       "25%          1.000000\n",
       "50%          1.000000\n",
       "75%          2.000000\n",
       "max        116.000000\n",
       "Name: Completions, dtype: float64"
      ]
     },
     "execution_count": 21,
     "metadata": {},
     "output_type": "execute_result"
    }
   ],
   "source": [
    "GoalStats.Completions.describe()"
   ]
  },
  {
   "cell_type": "markdown",
   "id": "922361b8",
   "metadata": {},
   "source": [
    "### 1.3.1 Goals\n",
    "The goals can be mapped back to clicks on the Change Wholesale website that will lead to certain activities, which includes:\n",
    "1) Visiting another page on the website\n",
    "> 'Learn More (Community Mortgage)', 'Learn More (Closer Twins Banner)', 'Learn More (Our Story)', 'Start Closing More', 'Get Approved', 'Get Approved' <br>\n",
    "\n",
    "2) Playing a video <br>\n",
    "> 'Home Page Video Play', 'Closer Twins Page Video Play' <br>\n",
    "\n",
    "3) Other actions <br>\n",
    "> 'Form Submission' <br>\n",
    "\n",
    "Other values that are not understood will be dropped since an unidentified goal provides no value to the analysis\n",
    "> 'utm_audience', 'test4'"
   ]
  },
  {
   "cell_type": "code",
   "execution_count": 22,
   "id": "5b8393b5",
   "metadata": {},
   "outputs": [
    {
     "name": "stdout",
     "output_type": "stream",
     "text": [
      "List of values in < Goal > : \n",
      " ['Learn More (Community Mortgage)' 'Form Submission'\n",
      " 'Home Page Video Play' 'Learn More (Closer Twins Banner)'\n",
      " 'Learn More (Our Story)' 'Start Closing More' 'Get Approved'\n",
      " 'Closer Twins Page Video Play' 'Broker Login'] \n",
      "\n"
     ]
    }
   ],
   "source": [
    "# drop rows with 'utm_audience', 'test4'\n",
    "GoalStats = GoalStats.loc[GoalStats['Goal'] != 'utm_audience']\n",
    "GoalStats = GoalStats.loc[GoalStats['Goal'] != 'test4']\n",
    "\n",
    "col_list(GoalStats, 'Goal')"
   ]
  },
  {
   "cell_type": "markdown",
   "id": "467cdd9e",
   "metadata": {},
   "source": [
    "### 1.3.2 Completions\n",
    "No cleaning required"
   ]
  },
  {
   "cell_type": "markdown",
   "id": "73a73c26",
   "metadata": {},
   "source": [
    "## 3. Remove Redundant Columns\n",
    "\n",
    "Unused: 'Days_Max_Date','Latest_Report'"
   ]
  },
  {
   "cell_type": "code",
   "execution_count": 23,
   "id": "6320e1bf",
   "metadata": {},
   "outputs": [],
   "source": [
    "GoalStats_final = GoalStats.copy().drop(columns=['Days_Max_Date','Latest_Report'])"
   ]
  },
  {
   "attachments": {},
   "cell_type": "markdown",
   "id": "2a39e7aa",
   "metadata": {},
   "source": [
    "## 4. Create Target Group Column"
   ]
  },
  {
   "cell_type": "code",
   "execution_count": null,
   "id": "35b713f9",
   "metadata": {},
   "outputs": [],
   "source": [
    "GoalStats_final['Target_Groups'] = GoalStats_final.loc[:, 'Audience']\n",
    "\n",
    "GoalStats_final.head()"
   ]
  },
  {
   "cell_type": "code",
   "execution_count": null,
   "id": "10af31fa",
   "metadata": {},
   "outputs": [],
   "source": [
    "# Replace Audience '1,2,3' as '1' in Target_Group\n",
    "GoalStats_final['Target_Groups'] = GoalStats_final['Target_Groups'].replace(['1', '2', '3'], '1')\n",
    "\n",
    "# Replace Audience '4,5' as '2' in Target_Group\n",
    "GoalStats_final['Target_Groups'] = GoalStats_final['Target_Groups'].replace(['4', '5'], '2')\n",
    "\n",
    "# Replace Audience '6' as '3' in Target_Group\n",
    "GoalStats_final['Target_Groups'] = GoalStats_final['Target_Groups'].replace(['6'], '3')\n",
    "\n",
    "# Check Target Group values\n",
    "GoalStats_final['Target_Groups'].unique()"
   ]
  },
  {
   "attachments": {},
   "cell_type": "markdown",
   "id": "697705aa",
   "metadata": {},
   "source": [
    "## 5. Save cleaned dataframe as csv"
   ]
  },
  {
   "cell_type": "code",
   "execution_count": 24,
   "id": "99e36d49",
   "metadata": {},
   "outputs": [
    {
     "name": "stdout",
     "output_type": "stream",
     "text": [
      "<class 'pandas.core.frame.DataFrame'>\n",
      "Int64Index: 16507 entries, 0 to 16508\n",
      "Data columns (total 10 columns):\n",
      " #   Column            Non-Null Count  Dtype         \n",
      "---  ------            --------------  -----         \n",
      " 0   Date              16507 non-null  datetime64[ns]\n",
      " 1   Campaign          16507 non-null  object        \n",
      " 2   Audience          16507 non-null  object        \n",
      " 3   Creative_Family   16507 non-null  object        \n",
      " 4   Creative_Version  16507 non-null  object        \n",
      " 5   Platform          16507 non-null  object        \n",
      " 6   Ad_Format         16507 non-null  object        \n",
      " 7   Goal              16507 non-null  object        \n",
      " 8   Completions       16507 non-null  float64       \n",
      " 9   Campaign_Traffic  16507 non-null  object        \n",
      "dtypes: datetime64[ns](1), float64(1), object(8)\n",
      "memory usage: 1.4+ MB\n"
     ]
    }
   ],
   "source": [
    "GoalStats_final.info()"
   ]
  },
  {
   "cell_type": "code",
   "execution_count": 25,
   "id": "94d6a107",
   "metadata": {},
   "outputs": [],
   "source": [
    "# Create a CSV file as output.\n",
    "GoalStats_final.to_csv(r'Goal-Stats_Cleaned.csv', index=False)"
   ]
  }
 ],
 "metadata": {
  "kernelspec": {
   "display_name": "Python 3 (ipykernel)",
   "language": "python",
   "name": "python3"
  },
  "language_info": {
   "codemirror_mode": {
    "name": "ipython",
    "version": 3
   },
   "file_extension": ".py",
   "mimetype": "text/x-python",
   "name": "python",
   "nbconvert_exporter": "python",
   "pygments_lexer": "ipython3",
   "version": "3.9.7"
  }
 },
 "nbformat": 4,
 "nbformat_minor": 5
}
