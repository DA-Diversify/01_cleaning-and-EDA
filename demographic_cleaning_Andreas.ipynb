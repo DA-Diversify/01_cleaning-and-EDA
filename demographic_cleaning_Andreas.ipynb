{
 "cells": [
  {
   "cell_type": "markdown",
   "id": "5f58a76a",
   "metadata": {},
   "source": [
    "## Cleaning and exploring the five data sets"
   ]
  },
  {
   "cell_type": "markdown",
   "id": "e4d61762",
   "metadata": {},
   "source": [
    "I used Excel to:\n",
    "- replace blanks with 'N/A'\n",
    "- change the column names to lower case and replace spaces with underscore "
   ]
  },
  {
   "cell_type": "code",
   "execution_count": 1,
   "id": "5f03f7f2",
   "metadata": {},
   "outputs": [],
   "source": [
    "# Import libraries.\n",
    "import pandas as pd\n",
    "import numpy as np\n",
    "import matplotlib.pyplot as plt\n",
    "import seaborn as sns\n",
    "datetime_is_numeric=True"
   ]
  },
  {
   "cell_type": "markdown",
   "id": "dc3dcb2a",
   "metadata": {},
   "source": [
    "## The demographics data"
   ]
  },
  {
   "cell_type": "code",
   "execution_count": 2,
   "id": "dba07d26",
   "metadata": {},
   "outputs": [],
   "source": [
    "# Read the demographics data.\n",
    "# The Excel file with the data is in the repository together with the Python code.\n",
    "df_demographics = pd.read_excel('01_change_2022_demographics_data_writeback_091122.xlsx')"
   ]
  },
  {
   "cell_type": "code",
   "execution_count": 3,
   "id": "08ec68e1",
   "metadata": {},
   "outputs": [
    {
     "data": {
      "text/html": [
       "<div>\n",
       "<style scoped>\n",
       "    .dataframe tbody tr th:only-of-type {\n",
       "        vertical-align: middle;\n",
       "    }\n",
       "\n",
       "    .dataframe tbody tr th {\n",
       "        vertical-align: top;\n",
       "    }\n",
       "\n",
       "    .dataframe thead th {\n",
       "        text-align: right;\n",
       "    }\n",
       "</style>\n",
       "<table border=\"1\" class=\"dataframe\">\n",
       "  <thead>\n",
       "    <tr style=\"text-align: right;\">\n",
       "      <th></th>\n",
       "      <th>requested_url_path</th>\n",
       "      <th>campaign</th>\n",
       "      <th>creative_size</th>\n",
       "      <th>audience</th>\n",
       "      <th>ad_format</th>\n",
       "      <th>date</th>\n",
       "      <th>creative_family</th>\n",
       "      <th>creative_version</th>\n",
       "      <th>ad_platform</th>\n",
       "      <th>company_name</th>\n",
       "      <th>impressions</th>\n",
       "      <th>clicks</th>\n",
       "      <th>days_away_from_max_date</th>\n",
       "      <th>latest_report</th>\n",
       "    </tr>\n",
       "  </thead>\n",
       "  <tbody>\n",
       "    <tr>\n",
       "      <th>0</th>\n",
       "      <td>NaN</td>\n",
       "      <td>FY23_change_digital_phase3</td>\n",
       "      <td>NaN</td>\n",
       "      <td>General Targetting</td>\n",
       "      <td>Scotsman</td>\n",
       "      <td>2022-06-15</td>\n",
       "      <td>Trade Media Ads</td>\n",
       "      <td>Rate Lock</td>\n",
       "      <td>Trade Media</td>\n",
       "      <td>The Loan Pros Team</td>\n",
       "      <td>1</td>\n",
       "      <td>1</td>\n",
       "      <td>138</td>\n",
       "      <td>0</td>\n",
       "    </tr>\n",
       "    <tr>\n",
       "      <th>1</th>\n",
       "      <td>https://api.linkedin.com/v2/adAnalyticsV2?q=an...</td>\n",
       "      <td>Audience 5 - DSC</td>\n",
       "      <td>NaN</td>\n",
       "      <td>5</td>\n",
       "      <td>Single image</td>\n",
       "      <td>2022-08-15</td>\n",
       "      <td>CloseFaster</td>\n",
       "      <td>3steps</td>\n",
       "      <td>LinkedIn</td>\n",
       "      <td>Excellence Real Estate</td>\n",
       "      <td>4</td>\n",
       "      <td>0</td>\n",
       "      <td>77</td>\n",
       "      <td>0</td>\n",
       "    </tr>\n",
       "    <tr>\n",
       "      <th>2</th>\n",
       "      <td>https://api.linkedin.com/v2/adAnalyticsV2?q=an...</td>\n",
       "      <td>Audience 1 - Carousel Ads</td>\n",
       "      <td>NaN</td>\n",
       "      <td>1</td>\n",
       "      <td>Carousel</td>\n",
       "      <td>2022-07-25</td>\n",
       "      <td>UnfairAdvantage</td>\n",
       "      <td>All</td>\n",
       "      <td>LinkedIn</td>\n",
       "      <td>South Metro Denver REALTOR Association</td>\n",
       "      <td>3</td>\n",
       "      <td>0</td>\n",
       "      <td>98</td>\n",
       "      <td>0</td>\n",
       "    </tr>\n",
       "    <tr>\n",
       "      <th>3</th>\n",
       "      <td>https://api.linkedin.com/v2/adAnalyticsV2?q=an...</td>\n",
       "      <td>Audience 1 - Video</td>\n",
       "      <td>NaN</td>\n",
       "      <td>1</td>\n",
       "      <td>Video</td>\n",
       "      <td>2022-05-18</td>\n",
       "      <td>CloserTwins</td>\n",
       "      <td>ShapeUp</td>\n",
       "      <td>LinkedIn</td>\n",
       "      <td>Blue Home Loans,</td>\n",
       "      <td>3</td>\n",
       "      <td>0</td>\n",
       "      <td>166</td>\n",
       "      <td>0</td>\n",
       "    </tr>\n",
       "    <tr>\n",
       "      <th>4</th>\n",
       "      <td>NaN</td>\n",
       "      <td>4 - StackAdapt - Audio</td>\n",
       "      <td>NaN</td>\n",
       "      <td>4</td>\n",
       "      <td>Audio</td>\n",
       "      <td>2022-05-07</td>\n",
       "      <td>CloserTwins</td>\n",
       "      <td>Cutdown1A</td>\n",
       "      <td>Domain Display</td>\n",
       "      <td>Td Finance</td>\n",
       "      <td>1</td>\n",
       "      <td>0</td>\n",
       "      <td>177</td>\n",
       "      <td>0</td>\n",
       "    </tr>\n",
       "    <tr>\n",
       "      <th>...</th>\n",
       "      <td>...</td>\n",
       "      <td>...</td>\n",
       "      <td>...</td>\n",
       "      <td>...</td>\n",
       "      <td>...</td>\n",
       "      <td>...</td>\n",
       "      <td>...</td>\n",
       "      <td>...</td>\n",
       "      <td>...</td>\n",
       "      <td>...</td>\n",
       "      <td>...</td>\n",
       "      <td>...</td>\n",
       "      <td>...</td>\n",
       "      <td>...</td>\n",
       "    </tr>\n",
       "    <tr>\n",
       "      <th>145643</th>\n",
       "      <td>NaN</td>\n",
       "      <td>3 - StackAdapt - Native</td>\n",
       "      <td>NaN</td>\n",
       "      <td>3</td>\n",
       "      <td>Native</td>\n",
       "      <td>2022-10-29</td>\n",
       "      <td>UnfairAdvantage</td>\n",
       "      <td>NoDTI</td>\n",
       "      <td>Domain Display</td>\n",
       "      <td>Guarantee Mortgage</td>\n",
       "      <td>12</td>\n",
       "      <td>0</td>\n",
       "      <td>2</td>\n",
       "      <td>1</td>\n",
       "    </tr>\n",
       "    <tr>\n",
       "      <th>145644</th>\n",
       "      <td>https://api.linkedin.com/v2/adAnalyticsV2?q=an...</td>\n",
       "      <td>Audience 3 - Video</td>\n",
       "      <td>NaN</td>\n",
       "      <td>3</td>\n",
       "      <td>Video</td>\n",
       "      <td>2022-05-11</td>\n",
       "      <td>CloserTwins</td>\n",
       "      <td>Cutdown1B</td>\n",
       "      <td>LinkedIn</td>\n",
       "      <td>Norcom Mortgage</td>\n",
       "      <td>44</td>\n",
       "      <td>0</td>\n",
       "      <td>173</td>\n",
       "      <td>0</td>\n",
       "    </tr>\n",
       "    <tr>\n",
       "      <th>145645</th>\n",
       "      <td>https://api.linkedin.com/v2/adAnalyticsV2?q=an...</td>\n",
       "      <td>Audience 4 - DSC</td>\n",
       "      <td>NaN</td>\n",
       "      <td>4</td>\n",
       "      <td>Single image</td>\n",
       "      <td>2022-07-18</td>\n",
       "      <td>CloseFaster</td>\n",
       "      <td>3steps</td>\n",
       "      <td>LinkedIn</td>\n",
       "      <td>Fairway Asset</td>\n",
       "      <td>4</td>\n",
       "      <td>0</td>\n",
       "      <td>105</td>\n",
       "      <td>0</td>\n",
       "    </tr>\n",
       "    <tr>\n",
       "      <th>145646</th>\n",
       "      <td>NaN</td>\n",
       "      <td>Competitive Opportunity Campaign - Display</td>\n",
       "      <td>728X90</td>\n",
       "      <td>General Targetting</td>\n",
       "      <td>Display</td>\n",
       "      <td>2022-04-15</td>\n",
       "      <td>CompetitiveOpportunity</td>\n",
       "      <td>Theycancelweclose</td>\n",
       "      <td>Domain Display</td>\n",
       "      <td>GoPrime Mortgage,</td>\n",
       "      <td>2</td>\n",
       "      <td>0</td>\n",
       "      <td>199</td>\n",
       "      <td>0</td>\n",
       "    </tr>\n",
       "    <tr>\n",
       "      <th>145647</th>\n",
       "      <td>NaN</td>\n",
       "      <td>4 - StackAdapt - Native</td>\n",
       "      <td>NaN</td>\n",
       "      <td>4</td>\n",
       "      <td>Native</td>\n",
       "      <td>2022-09-04</td>\n",
       "      <td>CloserTwins</td>\n",
       "      <td>Competitors</td>\n",
       "      <td>Domain Display</td>\n",
       "      <td>Mc Mortgage Group</td>\n",
       "      <td>1</td>\n",
       "      <td>0</td>\n",
       "      <td>57</td>\n",
       "      <td>0</td>\n",
       "    </tr>\n",
       "  </tbody>\n",
       "</table>\n",
       "<p>145648 rows × 14 columns</p>\n",
       "</div>"
      ],
      "text/plain": [
       "                                       requested_url_path  \\\n",
       "0                                                     NaN   \n",
       "1       https://api.linkedin.com/v2/adAnalyticsV2?q=an...   \n",
       "2       https://api.linkedin.com/v2/adAnalyticsV2?q=an...   \n",
       "3       https://api.linkedin.com/v2/adAnalyticsV2?q=an...   \n",
       "4                                                     NaN   \n",
       "...                                                   ...   \n",
       "145643                                                NaN   \n",
       "145644  https://api.linkedin.com/v2/adAnalyticsV2?q=an...   \n",
       "145645  https://api.linkedin.com/v2/adAnalyticsV2?q=an...   \n",
       "145646                                                NaN   \n",
       "145647                                                NaN   \n",
       "\n",
       "                                          campaign creative_size  \\\n",
       "0                       FY23_change_digital_phase3           NaN   \n",
       "1                                 Audience 5 - DSC           NaN   \n",
       "2                        Audience 1 - Carousel Ads           NaN   \n",
       "3                               Audience 1 - Video           NaN   \n",
       "4                           4 - StackAdapt - Audio           NaN   \n",
       "...                                            ...           ...   \n",
       "145643                     3 - StackAdapt - Native           NaN   \n",
       "145644                          Audience 3 - Video           NaN   \n",
       "145645                            Audience 4 - DSC           NaN   \n",
       "145646  Competitive Opportunity Campaign - Display        728X90   \n",
       "145647                     4 - StackAdapt - Native           NaN   \n",
       "\n",
       "                  audience     ad_format       date         creative_family  \\\n",
       "0       General Targetting      Scotsman 2022-06-15         Trade Media Ads   \n",
       "1                        5  Single image 2022-08-15             CloseFaster   \n",
       "2                        1      Carousel 2022-07-25         UnfairAdvantage   \n",
       "3                        1         Video 2022-05-18             CloserTwins   \n",
       "4                        4         Audio 2022-05-07             CloserTwins   \n",
       "...                    ...           ...        ...                     ...   \n",
       "145643                   3        Native 2022-10-29         UnfairAdvantage   \n",
       "145644                   3         Video 2022-05-11             CloserTwins   \n",
       "145645                   4  Single image 2022-07-18             CloseFaster   \n",
       "145646  General Targetting       Display 2022-04-15  CompetitiveOpportunity   \n",
       "145647                   4        Native 2022-09-04             CloserTwins   \n",
       "\n",
       "         creative_version     ad_platform  \\\n",
       "0               Rate Lock     Trade Media   \n",
       "1                  3steps        LinkedIn   \n",
       "2                     All        LinkedIn   \n",
       "3                 ShapeUp        LinkedIn   \n",
       "4               Cutdown1A  Domain Display   \n",
       "...                   ...             ...   \n",
       "145643              NoDTI  Domain Display   \n",
       "145644          Cutdown1B        LinkedIn   \n",
       "145645             3steps        LinkedIn   \n",
       "145646  Theycancelweclose  Domain Display   \n",
       "145647        Competitors  Domain Display   \n",
       "\n",
       "                                  company_name  impressions  clicks  \\\n",
       "0                           The Loan Pros Team            1       1   \n",
       "1                       Excellence Real Estate            4       0   \n",
       "2       South Metro Denver REALTOR Association            3       0   \n",
       "3                             Blue Home Loans,            3       0   \n",
       "4                                   Td Finance            1       0   \n",
       "...                                        ...          ...     ...   \n",
       "145643                      Guarantee Mortgage           12       0   \n",
       "145644                         Norcom Mortgage           44       0   \n",
       "145645                           Fairway Asset            4       0   \n",
       "145646                       GoPrime Mortgage,            2       0   \n",
       "145647                       Mc Mortgage Group            1       0   \n",
       "\n",
       "        days_away_from_max_date  latest_report  \n",
       "0                           138              0  \n",
       "1                            77              0  \n",
       "2                            98              0  \n",
       "3                           166              0  \n",
       "4                           177              0  \n",
       "...                         ...            ...  \n",
       "145643                        2              1  \n",
       "145644                      173              0  \n",
       "145645                      105              0  \n",
       "145646                      199              0  \n",
       "145647                       57              0  \n",
       "\n",
       "[145648 rows x 14 columns]"
      ]
     },
     "execution_count": 3,
     "metadata": {},
     "output_type": "execute_result"
    }
   ],
   "source": [
    "# View the demographics dataframe.\n",
    "df_demographics"
   ]
  },
  {
   "cell_type": "code",
   "execution_count": 4,
   "id": "7a1dced4",
   "metadata": {},
   "outputs": [
    {
     "name": "stdout",
     "output_type": "stream",
     "text": [
      "<class 'pandas.core.frame.DataFrame'>\n",
      "RangeIndex: 145648 entries, 0 to 145647\n",
      "Data columns (total 14 columns):\n",
      " #   Column                   Non-Null Count   Dtype         \n",
      "---  ------                   --------------   -----         \n",
      " 0   requested_url_path       97804 non-null   object        \n",
      " 1   campaign                 144852 non-null  object        \n",
      " 2   creative_size            3276 non-null    object        \n",
      " 3   audience                 145648 non-null  object        \n",
      " 4   ad_format                145552 non-null  object        \n",
      " 5   date                     145648 non-null  datetime64[ns]\n",
      " 6   creative_family          113005 non-null  object        \n",
      " 7   creative_version         123008 non-null  object        \n",
      " 8   ad_platform              145648 non-null  object        \n",
      " 9   company_name             145647 non-null  object        \n",
      " 10  impressions              145648 non-null  int64         \n",
      " 11  clicks                   145648 non-null  int64         \n",
      " 12  days_away_from_max_date  145648 non-null  int64         \n",
      " 13  latest_report            145648 non-null  int64         \n",
      "dtypes: datetime64[ns](1), int64(4), object(9)\n",
      "memory usage: 15.6+ MB\n"
     ]
    }
   ],
   "source": [
    "# View information.\n",
    "df_demographics.info()"
   ]
  },
  {
   "cell_type": "markdown",
   "id": "b5f3dc25",
   "metadata": {},
   "source": [
    "**Comment on data types**\\\n",
    "All data types seem reasonable except for the one for 'latest_report' which should be boolean."
   ]
  },
  {
   "cell_type": "code",
   "execution_count": 5,
   "id": "6fce71ba",
   "metadata": {},
   "outputs": [],
   "source": [
    "# Change 'latest_report' from int64 to boolean.\n",
    "df_demographics['latest_report'] = df_demographics['latest_report'].astype(bool)"
   ]
  },
  {
   "cell_type": "code",
   "execution_count": 6,
   "id": "6643ea54",
   "metadata": {},
   "outputs": [
    {
     "name": "stdout",
     "output_type": "stream",
     "text": [
      "<class 'pandas.core.frame.DataFrame'>\n",
      "RangeIndex: 145648 entries, 0 to 145647\n",
      "Data columns (total 14 columns):\n",
      " #   Column                   Non-Null Count   Dtype         \n",
      "---  ------                   --------------   -----         \n",
      " 0   requested_url_path       97804 non-null   object        \n",
      " 1   campaign                 144852 non-null  object        \n",
      " 2   creative_size            3276 non-null    object        \n",
      " 3   audience                 145648 non-null  object        \n",
      " 4   ad_format                145552 non-null  object        \n",
      " 5   date                     145648 non-null  datetime64[ns]\n",
      " 6   creative_family          113005 non-null  object        \n",
      " 7   creative_version         123008 non-null  object        \n",
      " 8   ad_platform              145648 non-null  object        \n",
      " 9   company_name             145647 non-null  object        \n",
      " 10  impressions              145648 non-null  int64         \n",
      " 11  clicks                   145648 non-null  int64         \n",
      " 12  days_away_from_max_date  145648 non-null  int64         \n",
      " 13  latest_report            145648 non-null  bool          \n",
      "dtypes: bool(1), datetime64[ns](1), int64(3), object(9)\n",
      "memory usage: 14.6+ MB\n"
     ]
    }
   ],
   "source": [
    "# View information to check data type change happened as expected.\n",
    "df_demographics.info()"
   ]
  },
  {
   "cell_type": "code",
   "execution_count": 7,
   "id": "782cd6a4",
   "metadata": {},
   "outputs": [],
   "source": [
    "# For consistency, in the column 'audience' replace the value 'General Targetting' with '6'.\n",
    "df_demographics['audience'] = df_demographics['audience'].replace(['General Targetting'], '6')"
   ]
  },
  {
   "cell_type": "code",
   "execution_count": 8,
   "id": "4fe45a6b",
   "metadata": {
    "scrolled": true
   },
   "outputs": [
    {
     "data": {
      "text/plain": [
       "0         6\n",
       "1         5\n",
       "2         1\n",
       "3         1\n",
       "4         4\n",
       "         ..\n",
       "145643    3\n",
       "145644    3\n",
       "145645    4\n",
       "145646    6\n",
       "145647    4\n",
       "Name: audience, Length: 145648, dtype: object"
      ]
     },
     "execution_count": 8,
     "metadata": {},
     "output_type": "execute_result"
    }
   ],
   "source": [
    "# Check the replacement worked as expected.\n",
    "df_demographics['audience']"
   ]
  },
  {
   "cell_type": "code",
   "execution_count": 9,
   "id": "ef3a8f57",
   "metadata": {},
   "outputs": [],
   "source": [
    "# Create dictionary to map audiences to target groups.\n",
    "audience_dict = {'1':'1', '2':'1', '3':'1',\n",
    "               '4':'2', '5':'2',\n",
    "               '6':'3'}\n",
    " \n",
    "# Add a new column 'target_group'\n",
    "df_demographics['target_group'] = df_demographics['audience'].map(audience_dict)"
   ]
  },
  {
   "cell_type": "code",
   "execution_count": 10,
   "id": "3da4a12d",
   "metadata": {
    "scrolled": true
   },
   "outputs": [
    {
     "name": "stderr",
     "output_type": "stream",
     "text": [
      "/var/folders/4t/_v2kwfh12990mh64bplbk8cr0000gn/T/ipykernel_12097/3951070046.py:2: FutureWarning: Treating datetime data as categorical rather than numeric in `.describe` is deprecated and will be removed in a future version of pandas. Specify `datetime_is_numeric=True` to silence this warning and adopt the future behavior now.\n",
      "  df_demographics['date'].describe()\n"
     ]
    },
    {
     "data": {
      "text/plain": [
       "count                  145648\n",
       "unique                    137\n",
       "top       2022-05-18 00:00:00\n",
       "freq                     8697\n",
       "first     2022-04-01 00:00:00\n",
       "last      2022-10-31 00:00:00\n",
       "Name: date, dtype: object"
      ]
     },
     "execution_count": 10,
     "metadata": {},
     "output_type": "execute_result"
    }
   ],
   "source": [
    "# See range of dates covered by the data.\n",
    "df_demographics['date'].describe()"
   ]
  },
  {
   "cell_type": "markdown",
   "id": "1436ef4a",
   "metadata": {},
   "source": [
    "**Comment**\\\n",
    "The demographics data covers the seven months from 1 April 2022 to 31 October 2022."
   ]
  },
  {
   "cell_type": "code",
   "execution_count": 11,
   "id": "4c1ec6e4",
   "metadata": {},
   "outputs": [
    {
     "data": {
      "text/plain": [
       "False    136528\n",
       "True       9120\n",
       "Name: latest_report, dtype: int64"
      ]
     },
     "execution_count": 11,
     "metadata": {},
     "output_type": "execute_result"
    }
   ],
   "source": [
    "df_demographics['latest_report'].value_counts()"
   ]
  },
  {
   "cell_type": "code",
   "execution_count": 12,
   "id": "fd705e7a",
   "metadata": {},
   "outputs": [],
   "source": [
    "df_dem_camp = df_demographics['campaign'].value_counts()"
   ]
  },
  {
   "cell_type": "code",
   "execution_count": 13,
   "id": "d2e17a99",
   "metadata": {},
   "outputs": [
    {
     "data": {
      "text/plain": [
       "4 - StackAdapt - Display - Image                               14118\n",
       "Audience 5 - Video                                             12624\n",
       "Audience 4 - Video                                              9439\n",
       "Audience 1 - Video                                              9287\n",
       "Audience 4 - DSC                                                9076\n",
       "                                                               ...  \n",
       "Audience 2 CRM - No Lock Campaign - Carousel (Updated)             1\n",
       "Audience 3 CRM - No Lock Campaign - Carousel (Extended 9.9)        1\n",
       "Audience 2 CRM - No Lock Campaign - Carousel (Extended 9.9)        1\n",
       "2 - StackAdapt - Audio                                             1\n",
       "Audience 1 CRM - No Lock Campaign - Carousel (Extended 9.9)        1\n",
       "Name: campaign, Length: 85, dtype: int64"
      ]
     },
     "execution_count": 13,
     "metadata": {},
     "output_type": "execute_result"
    }
   ],
   "source": [
    "df_dem_camp"
   ]
  },
  {
   "cell_type": "code",
   "execution_count": 14,
   "id": "73fbc053",
   "metadata": {},
   "outputs": [],
   "source": [
    "df_dem_camp = df_dem_camp.reset_index()"
   ]
  },
  {
   "cell_type": "code",
   "execution_count": 15,
   "id": "f91835dd",
   "metadata": {},
   "outputs": [],
   "source": [
    "df_dem_camp.columns = ['campaign_name', 'count']"
   ]
  },
  {
   "cell_type": "code",
   "execution_count": 16,
   "id": "9cd6a0f0",
   "metadata": {},
   "outputs": [
    {
     "data": {
      "text/html": [
       "<div>\n",
       "<style scoped>\n",
       "    .dataframe tbody tr th:only-of-type {\n",
       "        vertical-align: middle;\n",
       "    }\n",
       "\n",
       "    .dataframe tbody tr th {\n",
       "        vertical-align: top;\n",
       "    }\n",
       "\n",
       "    .dataframe thead th {\n",
       "        text-align: right;\n",
       "    }\n",
       "</style>\n",
       "<table border=\"1\" class=\"dataframe\">\n",
       "  <thead>\n",
       "    <tr style=\"text-align: right;\">\n",
       "      <th></th>\n",
       "      <th>campaign_name</th>\n",
       "      <th>count</th>\n",
       "    </tr>\n",
       "  </thead>\n",
       "  <tbody>\n",
       "    <tr>\n",
       "      <th>0</th>\n",
       "      <td>4 - StackAdapt - Display - Image</td>\n",
       "      <td>14118</td>\n",
       "    </tr>\n",
       "    <tr>\n",
       "      <th>1</th>\n",
       "      <td>Audience 5 - Video</td>\n",
       "      <td>12624</td>\n",
       "    </tr>\n",
       "    <tr>\n",
       "      <th>2</th>\n",
       "      <td>Audience 4 - Video</td>\n",
       "      <td>9439</td>\n",
       "    </tr>\n",
       "    <tr>\n",
       "      <th>3</th>\n",
       "      <td>Audience 1 - Video</td>\n",
       "      <td>9287</td>\n",
       "    </tr>\n",
       "    <tr>\n",
       "      <th>4</th>\n",
       "      <td>Audience 4 - DSC</td>\n",
       "      <td>9076</td>\n",
       "    </tr>\n",
       "    <tr>\n",
       "      <th>...</th>\n",
       "      <td>...</td>\n",
       "      <td>...</td>\n",
       "    </tr>\n",
       "    <tr>\n",
       "      <th>80</th>\n",
       "      <td>Audience 2 CRM - No Lock Campaign - Carousel (...</td>\n",
       "      <td>1</td>\n",
       "    </tr>\n",
       "    <tr>\n",
       "      <th>81</th>\n",
       "      <td>Audience 3 CRM - No Lock Campaign - Carousel (...</td>\n",
       "      <td>1</td>\n",
       "    </tr>\n",
       "    <tr>\n",
       "      <th>82</th>\n",
       "      <td>Audience 2 CRM - No Lock Campaign - Carousel (...</td>\n",
       "      <td>1</td>\n",
       "    </tr>\n",
       "    <tr>\n",
       "      <th>83</th>\n",
       "      <td>2 - StackAdapt - Audio</td>\n",
       "      <td>1</td>\n",
       "    </tr>\n",
       "    <tr>\n",
       "      <th>84</th>\n",
       "      <td>Audience 1 CRM - No Lock Campaign - Carousel (...</td>\n",
       "      <td>1</td>\n",
       "    </tr>\n",
       "  </tbody>\n",
       "</table>\n",
       "<p>85 rows × 2 columns</p>\n",
       "</div>"
      ],
      "text/plain": [
       "                                        campaign_name  count\n",
       "0                    4 - StackAdapt - Display - Image  14118\n",
       "1                                  Audience 5 - Video  12624\n",
       "2                                  Audience 4 - Video   9439\n",
       "3                                  Audience 1 - Video   9287\n",
       "4                                    Audience 4 - DSC   9076\n",
       "..                                                ...    ...\n",
       "80  Audience 2 CRM - No Lock Campaign - Carousel (...      1\n",
       "81  Audience 3 CRM - No Lock Campaign - Carousel (...      1\n",
       "82  Audience 2 CRM - No Lock Campaign - Carousel (...      1\n",
       "83                             2 - StackAdapt - Audio      1\n",
       "84  Audience 1 CRM - No Lock Campaign - Carousel (...      1\n",
       "\n",
       "[85 rows x 2 columns]"
      ]
     },
     "execution_count": 16,
     "metadata": {},
     "output_type": "execute_result"
    }
   ],
   "source": [
    "df_dem_camp"
   ]
  },
  {
   "cell_type": "code",
   "execution_count": 17,
   "id": "f046a8b6",
   "metadata": {},
   "outputs": [
    {
     "data": {
      "text/html": [
       "<div>\n",
       "<style scoped>\n",
       "    .dataframe tbody tr th:only-of-type {\n",
       "        vertical-align: middle;\n",
       "    }\n",
       "\n",
       "    .dataframe tbody tr th {\n",
       "        vertical-align: top;\n",
       "    }\n",
       "\n",
       "    .dataframe thead th {\n",
       "        text-align: right;\n",
       "    }\n",
       "</style>\n",
       "<table border=\"1\" class=\"dataframe\">\n",
       "  <thead>\n",
       "    <tr style=\"text-align: right;\">\n",
       "      <th></th>\n",
       "      <th>campaign_name</th>\n",
       "      <th>count</th>\n",
       "    </tr>\n",
       "  </thead>\n",
       "  <tbody>\n",
       "    <tr>\n",
       "      <th>0</th>\n",
       "      <td>4 - StackAdapt - Display - Image</td>\n",
       "      <td>14118</td>\n",
       "    </tr>\n",
       "    <tr>\n",
       "      <th>1</th>\n",
       "      <td>Audience 5 - Video</td>\n",
       "      <td>12624</td>\n",
       "    </tr>\n",
       "    <tr>\n",
       "      <th>2</th>\n",
       "      <td>Audience 4 - Video</td>\n",
       "      <td>9439</td>\n",
       "    </tr>\n",
       "    <tr>\n",
       "      <th>3</th>\n",
       "      <td>Audience 1 - Video</td>\n",
       "      <td>9287</td>\n",
       "    </tr>\n",
       "    <tr>\n",
       "      <th>4</th>\n",
       "      <td>Audience 4 - DSC</td>\n",
       "      <td>9076</td>\n",
       "    </tr>\n",
       "    <tr>\n",
       "      <th>5</th>\n",
       "      <td>Follower Ads - Domain List</td>\n",
       "      <td>8710</td>\n",
       "    </tr>\n",
       "    <tr>\n",
       "      <th>6</th>\n",
       "      <td>Audience 5 - DSC</td>\n",
       "      <td>7628</td>\n",
       "    </tr>\n",
       "    <tr>\n",
       "      <th>7</th>\n",
       "      <td>4 - StackAdapt - Native</td>\n",
       "      <td>6607</td>\n",
       "    </tr>\n",
       "    <tr>\n",
       "      <th>8</th>\n",
       "      <td>Follower Ads - Demographic Targeting</td>\n",
       "      <td>6309</td>\n",
       "    </tr>\n",
       "    <tr>\n",
       "      <th>9</th>\n",
       "      <td>Audience 4 - Carousel Ads</td>\n",
       "      <td>6309</td>\n",
       "    </tr>\n",
       "  </tbody>\n",
       "</table>\n",
       "</div>"
      ],
      "text/plain": [
       "                          campaign_name  count\n",
       "0      4 - StackAdapt - Display - Image  14118\n",
       "1                    Audience 5 - Video  12624\n",
       "2                    Audience 4 - Video   9439\n",
       "3                    Audience 1 - Video   9287\n",
       "4                      Audience 4 - DSC   9076\n",
       "5            Follower Ads - Domain List   8710\n",
       "6                      Audience 5 - DSC   7628\n",
       "7               4 - StackAdapt - Native   6607\n",
       "8  Follower Ads - Demographic Targeting   6309\n",
       "9             Audience 4 - Carousel Ads   6309"
      ]
     },
     "execution_count": 17,
     "metadata": {},
     "output_type": "execute_result"
    }
   ],
   "source": [
    "df_dem_camp.head(10)"
   ]
  },
  {
   "cell_type": "code",
   "execution_count": 18,
   "id": "ce7b6519",
   "metadata": {},
   "outputs": [
    {
     "data": {
      "text/plain": [
       "<AxesSubplot:ylabel='Frequency'>"
      ]
     },
     "execution_count": 18,
     "metadata": {},
     "output_type": "execute_result"
    },
    {
     "data": {
      "image/png": "[encoded data removed]",
      "text/plain": [
       "<Figure size 432x288 with 1 Axes>"
      ]
     },
     "metadata": {
      "needs_background": "light"
     },
     "output_type": "display_data"
    }
   ],
   "source": [
    "df_dem_camp.plot(kind = 'hist', bins = 50)"
   ]
  },
  {
   "cell_type": "markdown",
   "id": "7305f729",
   "metadata": {},
   "source": [
    "## The campaigns data"
   ]
  },
  {
   "cell_type": "code",
   "execution_count": 19,
   "id": "96a6a225",
   "metadata": {},
   "outputs": [],
   "source": [
    "# Read the campaigns data.\n",
    "df_campaigns = pd.read_excel('02_change_2022_creative_cata_writeback_091122.xlsx')"
   ]
  },
  {
   "cell_type": "code",
   "execution_count": 20,
   "id": "6a6dad5b",
   "metadata": {},
   "outputs": [
    {
     "data": {
      "text/html": [
       "<div>\n",
       "<style scoped>\n",
       "    .dataframe tbody tr th:only-of-type {\n",
       "        vertical-align: middle;\n",
       "    }\n",
       "\n",
       "    .dataframe tbody tr th {\n",
       "        vertical-align: top;\n",
       "    }\n",
       "\n",
       "    .dataframe thead th {\n",
       "        text-align: right;\n",
       "    }\n",
       "</style>\n",
       "<table border=\"1\" class=\"dataframe\">\n",
       "  <thead>\n",
       "    <tr style=\"text-align: right;\">\n",
       "      <th></th>\n",
       "      <th>requested_url_path</th>\n",
       "      <th>campaign</th>\n",
       "      <th>ad_format</th>\n",
       "      <th>clicks</th>\n",
       "      <th>spend</th>\n",
       "      <th>creative_size</th>\n",
       "      <th>date</th>\n",
       "      <th>impressions</th>\n",
       "      <th>reach</th>\n",
       "      <th>audience</th>\n",
       "      <th>...</th>\n",
       "      <th>creative_family</th>\n",
       "      <th>creative_version</th>\n",
       "      <th>100%_video_views</th>\n",
       "      <th>video_starts</th>\n",
       "      <th>follows</th>\n",
       "      <th>days_away_from_max_date</th>\n",
       "      <th>latest_report</th>\n",
       "      <th>ctr</th>\n",
       "      <th>ctr_score</th>\n",
       "      <th>weighted_ctr_score</th>\n",
       "    </tr>\n",
       "  </thead>\n",
       "  <tbody>\n",
       "    <tr>\n",
       "      <th>0</th>\n",
       "      <td>https://graph.facebook.com/v12.0/act_109970164...</td>\n",
       "      <td>FY22</td>\n",
       "      <td>Single image</td>\n",
       "      <td>0.0</td>\n",
       "      <td>0.26</td>\n",
       "      <td>NaN</td>\n",
       "      <td>2022-05-19</td>\n",
       "      <td>119</td>\n",
       "      <td>63.0</td>\n",
       "      <td>1</td>\n",
       "      <td>...</td>\n",
       "      <td>CloseFaster</td>\n",
       "      <td>NoDTI</td>\n",
       "      <td>NaN</td>\n",
       "      <td>NaN</td>\n",
       "      <td>NaN</td>\n",
       "      <td>165</td>\n",
       "      <td>0</td>\n",
       "      <td>0.000000</td>\n",
       "      <td>NaN</td>\n",
       "      <td>NaN</td>\n",
       "    </tr>\n",
       "    <tr>\n",
       "      <th>1</th>\n",
       "      <td>https://graph.facebook.com/v12.0/act_109970164...</td>\n",
       "      <td>FY22</td>\n",
       "      <td>Single image</td>\n",
       "      <td>0.0</td>\n",
       "      <td>0.15</td>\n",
       "      <td>NaN</td>\n",
       "      <td>2022-05-19</td>\n",
       "      <td>9</td>\n",
       "      <td>8.0</td>\n",
       "      <td>1</td>\n",
       "      <td>...</td>\n",
       "      <td>CloseFaster</td>\n",
       "      <td>NoDTI</td>\n",
       "      <td>NaN</td>\n",
       "      <td>NaN</td>\n",
       "      <td>NaN</td>\n",
       "      <td>165</td>\n",
       "      <td>0</td>\n",
       "      <td>0.000000</td>\n",
       "      <td>NaN</td>\n",
       "      <td>NaN</td>\n",
       "    </tr>\n",
       "    <tr>\n",
       "      <th>2</th>\n",
       "      <td>https://graph.facebook.com/v12.0/act_109970164...</td>\n",
       "      <td>FY22</td>\n",
       "      <td>Single image</td>\n",
       "      <td>0.0</td>\n",
       "      <td>0.38</td>\n",
       "      <td>NaN</td>\n",
       "      <td>2022-05-19</td>\n",
       "      <td>26</td>\n",
       "      <td>17.0</td>\n",
       "      <td>1</td>\n",
       "      <td>...</td>\n",
       "      <td>CloseFaster</td>\n",
       "      <td>NoDTI</td>\n",
       "      <td>NaN</td>\n",
       "      <td>NaN</td>\n",
       "      <td>NaN</td>\n",
       "      <td>165</td>\n",
       "      <td>0</td>\n",
       "      <td>0.000000</td>\n",
       "      <td>NaN</td>\n",
       "      <td>NaN</td>\n",
       "    </tr>\n",
       "    <tr>\n",
       "      <th>3</th>\n",
       "      <td>https://graph.facebook.com/v12.0/act_109970164...</td>\n",
       "      <td>FY22</td>\n",
       "      <td>Single image</td>\n",
       "      <td>0.0</td>\n",
       "      <td>0.19</td>\n",
       "      <td>NaN</td>\n",
       "      <td>2022-05-19</td>\n",
       "      <td>12</td>\n",
       "      <td>10.0</td>\n",
       "      <td>1</td>\n",
       "      <td>...</td>\n",
       "      <td>CloseFaster</td>\n",
       "      <td>NoDTI</td>\n",
       "      <td>NaN</td>\n",
       "      <td>NaN</td>\n",
       "      <td>NaN</td>\n",
       "      <td>165</td>\n",
       "      <td>0</td>\n",
       "      <td>0.000000</td>\n",
       "      <td>NaN</td>\n",
       "      <td>NaN</td>\n",
       "    </tr>\n",
       "    <tr>\n",
       "      <th>4</th>\n",
       "      <td>https://graph.facebook.com/v12.0/act_109970164...</td>\n",
       "      <td>FY22</td>\n",
       "      <td>Single image</td>\n",
       "      <td>1.0</td>\n",
       "      <td>3.62</td>\n",
       "      <td>NaN</td>\n",
       "      <td>2022-05-19</td>\n",
       "      <td>247</td>\n",
       "      <td>150.0</td>\n",
       "      <td>1</td>\n",
       "      <td>...</td>\n",
       "      <td>CloserTwins</td>\n",
       "      <td>EarlyBird</td>\n",
       "      <td>NaN</td>\n",
       "      <td>NaN</td>\n",
       "      <td>NaN</td>\n",
       "      <td>165</td>\n",
       "      <td>0</td>\n",
       "      <td>0.004049</td>\n",
       "      <td>NaN</td>\n",
       "      <td>NaN</td>\n",
       "    </tr>\n",
       "    <tr>\n",
       "      <th>...</th>\n",
       "      <td>...</td>\n",
       "      <td>...</td>\n",
       "      <td>...</td>\n",
       "      <td>...</td>\n",
       "      <td>...</td>\n",
       "      <td>...</td>\n",
       "      <td>...</td>\n",
       "      <td>...</td>\n",
       "      <td>...</td>\n",
       "      <td>...</td>\n",
       "      <td>...</td>\n",
       "      <td>...</td>\n",
       "      <td>...</td>\n",
       "      <td>...</td>\n",
       "      <td>...</td>\n",
       "      <td>...</td>\n",
       "      <td>...</td>\n",
       "      <td>...</td>\n",
       "      <td>...</td>\n",
       "      <td>...</td>\n",
       "      <td>...</td>\n",
       "    </tr>\n",
       "    <tr>\n",
       "      <th>102063</th>\n",
       "      <td>NaN</td>\n",
       "      <td>ESPN</td>\n",
       "      <td>TV</td>\n",
       "      <td>NaN</td>\n",
       "      <td>0.1</td>\n",
       "      <td>NaN</td>\n",
       "      <td>2022-05-01</td>\n",
       "      <td>3</td>\n",
       "      <td>3.0</td>\n",
       "      <td>General Targetting</td>\n",
       "      <td>...</td>\n",
       "      <td>CloserTwins</td>\n",
       "      <td>15s</td>\n",
       "      <td>NaN</td>\n",
       "      <td>NaN</td>\n",
       "      <td>NaN</td>\n",
       "      <td>183</td>\n",
       "      <td>0</td>\n",
       "      <td>NaN</td>\n",
       "      <td>NaN</td>\n",
       "      <td>NaN</td>\n",
       "    </tr>\n",
       "    <tr>\n",
       "      <th>102064</th>\n",
       "      <td>NaN</td>\n",
       "      <td>MTV</td>\n",
       "      <td>TV</td>\n",
       "      <td>NaN</td>\n",
       "      <td>0.17</td>\n",
       "      <td>NaN</td>\n",
       "      <td>2022-05-01</td>\n",
       "      <td>5</td>\n",
       "      <td>5.0</td>\n",
       "      <td>General Targetting</td>\n",
       "      <td>...</td>\n",
       "      <td>CloserTwins</td>\n",
       "      <td>15_QR</td>\n",
       "      <td>NaN</td>\n",
       "      <td>NaN</td>\n",
       "      <td>NaN</td>\n",
       "      <td>183</td>\n",
       "      <td>0</td>\n",
       "      <td>NaN</td>\n",
       "      <td>NaN</td>\n",
       "      <td>NaN</td>\n",
       "    </tr>\n",
       "    <tr>\n",
       "      <th>102065</th>\n",
       "      <td>NaN</td>\n",
       "      <td>Food Network</td>\n",
       "      <td>TV</td>\n",
       "      <td>NaN</td>\n",
       "      <td>0.14</td>\n",
       "      <td>NaN</td>\n",
       "      <td>2022-05-01</td>\n",
       "      <td>4</td>\n",
       "      <td>4.0</td>\n",
       "      <td>General Targetting</td>\n",
       "      <td>...</td>\n",
       "      <td>CloserTwins</td>\n",
       "      <td>15_QR</td>\n",
       "      <td>NaN</td>\n",
       "      <td>NaN</td>\n",
       "      <td>NaN</td>\n",
       "      <td>183</td>\n",
       "      <td>0</td>\n",
       "      <td>NaN</td>\n",
       "      <td>NaN</td>\n",
       "      <td>NaN</td>\n",
       "    </tr>\n",
       "    <tr>\n",
       "      <th>102066</th>\n",
       "      <td>NaN</td>\n",
       "      <td>Nat Geo TV</td>\n",
       "      <td>TV</td>\n",
       "      <td>NaN</td>\n",
       "      <td>0.58</td>\n",
       "      <td>NaN</td>\n",
       "      <td>2022-05-01</td>\n",
       "      <td>17</td>\n",
       "      <td>16.0</td>\n",
       "      <td>General Targetting</td>\n",
       "      <td>...</td>\n",
       "      <td>CloserTwins</td>\n",
       "      <td>15_QR</td>\n",
       "      <td>NaN</td>\n",
       "      <td>NaN</td>\n",
       "      <td>NaN</td>\n",
       "      <td>183</td>\n",
       "      <td>0</td>\n",
       "      <td>NaN</td>\n",
       "      <td>NaN</td>\n",
       "      <td>NaN</td>\n",
       "    </tr>\n",
       "    <tr>\n",
       "      <th>102067</th>\n",
       "      <td>NaN</td>\n",
       "      <td>Pluto</td>\n",
       "      <td>TV</td>\n",
       "      <td>NaN</td>\n",
       "      <td>7.14</td>\n",
       "      <td>NaN</td>\n",
       "      <td>2022-05-01</td>\n",
       "      <td>210</td>\n",
       "      <td>201.0</td>\n",
       "      <td>General Targetting</td>\n",
       "      <td>...</td>\n",
       "      <td>CloserTwins</td>\n",
       "      <td>15_QR</td>\n",
       "      <td>NaN</td>\n",
       "      <td>NaN</td>\n",
       "      <td>NaN</td>\n",
       "      <td>183</td>\n",
       "      <td>0</td>\n",
       "      <td>NaN</td>\n",
       "      <td>NaN</td>\n",
       "      <td>NaN</td>\n",
       "    </tr>\n",
       "  </tbody>\n",
       "</table>\n",
       "<p>102068 rows × 21 columns</p>\n",
       "</div>"
      ],
      "text/plain": [
       "                                       requested_url_path      campaign  \\\n",
       "0       https://graph.facebook.com/v12.0/act_109970164...          FY22   \n",
       "1       https://graph.facebook.com/v12.0/act_109970164...          FY22   \n",
       "2       https://graph.facebook.com/v12.0/act_109970164...          FY22   \n",
       "3       https://graph.facebook.com/v12.0/act_109970164...          FY22   \n",
       "4       https://graph.facebook.com/v12.0/act_109970164...          FY22   \n",
       "...                                                   ...           ...   \n",
       "102063                                                NaN          ESPN   \n",
       "102064                                                NaN           MTV   \n",
       "102065                                                NaN  Food Network   \n",
       "102066                                                NaN    Nat Geo TV   \n",
       "102067                                                NaN         Pluto   \n",
       "\n",
       "           ad_format  clicks spend creative_size       date  impressions  \\\n",
       "0       Single image     0.0  0.26           NaN 2022-05-19          119   \n",
       "1       Single image     0.0  0.15           NaN 2022-05-19            9   \n",
       "2       Single image     0.0  0.38           NaN 2022-05-19           26   \n",
       "3       Single image     0.0  0.19           NaN 2022-05-19           12   \n",
       "4       Single image     1.0  3.62           NaN 2022-05-19          247   \n",
       "...              ...     ...   ...           ...        ...          ...   \n",
       "102063            TV     NaN   0.1           NaN 2022-05-01            3   \n",
       "102064            TV     NaN  0.17           NaN 2022-05-01            5   \n",
       "102065            TV     NaN  0.14           NaN 2022-05-01            4   \n",
       "102066            TV     NaN  0.58           NaN 2022-05-01           17   \n",
       "102067            TV     NaN  7.14           NaN 2022-05-01          210   \n",
       "\n",
       "        reach            audience  ... creative_family creative_version  \\\n",
       "0        63.0                   1  ...     CloseFaster            NoDTI   \n",
       "1         8.0                   1  ...     CloseFaster            NoDTI   \n",
       "2        17.0                   1  ...     CloseFaster            NoDTI   \n",
       "3        10.0                   1  ...     CloseFaster            NoDTI   \n",
       "4       150.0                   1  ...     CloserTwins        EarlyBird   \n",
       "...       ...                 ...  ...             ...              ...   \n",
       "102063    3.0  General Targetting  ...     CloserTwins              15s   \n",
       "102064    5.0  General Targetting  ...     CloserTwins            15_QR   \n",
       "102065    4.0  General Targetting  ...     CloserTwins            15_QR   \n",
       "102066   16.0  General Targetting  ...     CloserTwins            15_QR   \n",
       "102067  201.0  General Targetting  ...     CloserTwins            15_QR   \n",
       "\n",
       "       100%_video_views  video_starts  follows  days_away_from_max_date  \\\n",
       "0                   NaN           NaN      NaN                      165   \n",
       "1                   NaN           NaN      NaN                      165   \n",
       "2                   NaN           NaN      NaN                      165   \n",
       "3                   NaN           NaN      NaN                      165   \n",
       "4                   NaN           NaN      NaN                      165   \n",
       "...                 ...           ...      ...                      ...   \n",
       "102063              NaN           NaN      NaN                      183   \n",
       "102064              NaN           NaN      NaN                      183   \n",
       "102065              NaN           NaN      NaN                      183   \n",
       "102066              NaN           NaN      NaN                      183   \n",
       "102067              NaN           NaN      NaN                      183   \n",
       "\n",
       "        latest_report       ctr  ctr_score  weighted_ctr_score  \n",
       "0                   0  0.000000        NaN                 NaN  \n",
       "1                   0  0.000000        NaN                 NaN  \n",
       "2                   0  0.000000        NaN                 NaN  \n",
       "3                   0  0.000000        NaN                 NaN  \n",
       "4                   0  0.004049        NaN                 NaN  \n",
       "...               ...       ...        ...                 ...  \n",
       "102063              0       NaN        NaN                 NaN  \n",
       "102064              0       NaN        NaN                 NaN  \n",
       "102065              0       NaN        NaN                 NaN  \n",
       "102066              0       NaN        NaN                 NaN  \n",
       "102067              0       NaN        NaN                 NaN  \n",
       "\n",
       "[102068 rows x 21 columns]"
      ]
     },
     "execution_count": 20,
     "metadata": {},
     "output_type": "execute_result"
    }
   ],
   "source": [
    "# View the campaigns dataframe.\n",
    "df_campaigns"
   ]
  },
  {
   "cell_type": "code",
   "execution_count": 21,
   "id": "f14a8082",
   "metadata": {},
   "outputs": [],
   "source": [
    "# For consistency, in the column 'audience' replace the value 'General Targetting' with '6'.\n",
    "df_campaigns['audience'] = df_campaigns['audience'].replace(['General Targetting'], '6')"
   ]
  },
  {
   "cell_type": "code",
   "execution_count": 22,
   "id": "ef97eef8",
   "metadata": {
    "scrolled": false
   },
   "outputs": [
    {
     "name": "stdout",
     "output_type": "stream",
     "text": [
      "<class 'pandas.core.frame.DataFrame'>\n",
      "RangeIndex: 102068 entries, 0 to 102067\n",
      "Data columns (total 21 columns):\n",
      " #   Column                   Non-Null Count   Dtype         \n",
      "---  ------                   --------------   -----         \n",
      " 0   requested_url_path       14205 non-null   object        \n",
      " 1   campaign                 101996 non-null  object        \n",
      " 2   ad_format                101997 non-null  object        \n",
      " 3   clicks                   90191 non-null   float64       \n",
      " 4   spend                    102068 non-null  object        \n",
      " 5   creative_size            73485 non-null   object        \n",
      " 6   date                     102068 non-null  datetime64[ns]\n",
      " 7   impressions              102068 non-null  int64         \n",
      " 8   reach                    80824 non-null   float64       \n",
      " 9   audience                 102027 non-null  object        \n",
      " 10  ad_platform              102068 non-null  object        \n",
      " 11  creative_family          101185 non-null  object        \n",
      " 12  creative_version         101543 non-null  object        \n",
      " 13  100%_video_views         24447 non-null   float64       \n",
      " 14  video_starts             25460 non-null   float64       \n",
      " 15  follows                  8400 non-null    float64       \n",
      " 16  days_away_from_max_date  102068 non-null  int64         \n",
      " 17  latest_report            102068 non-null  int64         \n",
      " 18  ctr                      89239 non-null   float64       \n",
      " 19  ctr_score                75018 non-null   float64       \n",
      " 20  weighted_ctr_score       75018 non-null   float64       \n",
      "dtypes: datetime64[ns](1), float64(8), int64(3), object(9)\n",
      "memory usage: 16.4+ MB\n"
     ]
    }
   ],
   "source": [
    "# View information.\n",
    "df_campaigns.info()"
   ]
  },
  {
   "cell_type": "code",
   "execution_count": 23,
   "id": "9b104424",
   "metadata": {},
   "outputs": [
    {
     "data": {
      "text/plain": [
       "count     102068\n",
       "unique     71337\n",
       "top            0\n",
       "freq        6978\n",
       "Name: spend, dtype: int64"
      ]
     },
     "execution_count": 23,
     "metadata": {},
     "output_type": "execute_result"
    }
   ],
   "source": [
    "df_campaigns['spend'].describe()"
   ]
  },
  {
   "cell_type": "code",
   "execution_count": 24,
   "id": "30e62cd3",
   "metadata": {},
   "outputs": [],
   "source": [
    "# Change the 'spend' data type from object to float.\n",
    "df_campaigns['spend'] = pd.to_numeric(df_campaigns['spend'], errors='coerce')"
   ]
  },
  {
   "cell_type": "code",
   "execution_count": 25,
   "id": "c5595233",
   "metadata": {},
   "outputs": [
    {
     "data": {
      "text/plain": [
       "dtype('float64')"
      ]
     },
     "execution_count": 25,
     "metadata": {},
     "output_type": "execute_result"
    }
   ],
   "source": [
    "df_campaigns['spend'].dtype"
   ]
  },
  {
   "cell_type": "code",
   "execution_count": 26,
   "id": "0ec26151",
   "metadata": {},
   "outputs": [],
   "source": [
    "# Create new column target_group.\n",
    "audience_dict = {'1':'1', '2':'1', '3':'1',\n",
    "               '4':'2', '5':'2',\n",
    "               '6':'3'}\n",
    " \n",
    "# Add a new column 'target_group'\n",
    "df_campaigns['target_group'] = df_campaigns['audience'].map(audience_dict)"
   ]
  },
  {
   "cell_type": "code",
   "execution_count": 27,
   "id": "0203d3bb",
   "metadata": {
    "scrolled": true
   },
   "outputs": [
    {
     "name": "stderr",
     "output_type": "stream",
     "text": [
      "/var/folders/4t/_v2kwfh12990mh64bplbk8cr0000gn/T/ipykernel_12097/3258476264.py:1: FutureWarning: Treating datetime data as categorical rather than numeric in `.describe` is deprecated and will be removed in a future version of pandas. Specify `datetime_is_numeric=True` to silence this warning and adopt the future behavior now.\n",
      "  df_campaigns['date'].describe()\n"
     ]
    },
    {
     "data": {
      "text/plain": [
       "count                  102068\n",
       "unique                    220\n",
       "top       2022-04-28 00:00:00\n",
       "freq                      879\n",
       "first     2022-03-26 00:00:00\n",
       "last      2022-10-31 00:00:00\n",
       "Name: date, dtype: object"
      ]
     },
     "execution_count": 27,
     "metadata": {},
     "output_type": "execute_result"
    }
   ],
   "source": [
    "df_campaigns['date'].describe()"
   ]
  },
  {
   "cell_type": "code",
   "execution_count": 28,
   "id": "b05b9413",
   "metadata": {},
   "outputs": [
    {
     "data": {
      "text/plain": [
       "count    80824.000000\n",
       "mean       181.905647\n",
       "std        594.494490\n",
       "min          0.000000\n",
       "25%          4.000000\n",
       "50%         18.000000\n",
       "75%         95.250000\n",
       "max      16601.000000\n",
       "Name: reach, dtype: float64"
      ]
     },
     "execution_count": 28,
     "metadata": {},
     "output_type": "execute_result"
    }
   ],
   "source": [
    "df_campaigns['reach'].describe()"
   ]
  },
  {
   "cell_type": "code",
   "execution_count": 29,
   "id": "d1156aa1",
   "metadata": {},
   "outputs": [
    {
     "data": {
      "text/plain": [
       "count    102068.000000\n",
       "mean        462.165899\n",
       "std        1562.904732\n",
       "min           0.000000\n",
       "25%          10.000000\n",
       "50%          55.000000\n",
       "75%         283.000000\n",
       "max       59784.000000\n",
       "Name: impressions, dtype: float64"
      ]
     },
     "execution_count": 29,
     "metadata": {},
     "output_type": "execute_result"
    }
   ],
   "source": [
    "df_campaigns['impressions'].describe()"
   ]
  },
  {
   "cell_type": "code",
   "execution_count": 30,
   "id": "3b6e81e9",
   "metadata": {},
   "outputs": [
    {
     "data": {
      "text/plain": [
       "count    90191.000000\n",
       "mean         0.749022\n",
       "std          3.532613\n",
       "min          0.000000\n",
       "25%          0.000000\n",
       "50%          0.000000\n",
       "75%          0.000000\n",
       "max        573.000000\n",
       "Name: clicks, dtype: float64"
      ]
     },
     "execution_count": 30,
     "metadata": {},
     "output_type": "execute_result"
    }
   ],
   "source": [
    "df_campaigns['clicks'].describe()"
   ]
  },
  {
   "cell_type": "code",
   "execution_count": 31,
   "id": "2f8f82bc",
   "metadata": {},
   "outputs": [
    {
     "data": {
      "text/plain": [
       "count    89239.000000\n",
       "mean         0.014065\n",
       "std          0.088537\n",
       "min          0.000000\n",
       "25%          0.000000\n",
       "50%          0.000000\n",
       "75%          0.000000\n",
       "max          2.000000\n",
       "Name: ctr, dtype: float64"
      ]
     },
     "execution_count": 31,
     "metadata": {},
     "output_type": "execute_result"
    }
   ],
   "source": [
    "df_campaigns['ctr'].describe()"
   ]
  },
  {
   "cell_type": "code",
   "execution_count": 32,
   "id": "50f5e87e",
   "metadata": {},
   "outputs": [
    {
     "data": {
      "text/plain": [
       "count    75018.000000\n",
       "mean         0.641959\n",
       "std          0.346197\n",
       "min          0.500000\n",
       "25%          0.500000\n",
       "50%          0.500000\n",
       "75%          0.500000\n",
       "max          1.500000\n",
       "Name: ctr_score, dtype: float64"
      ]
     },
     "execution_count": 32,
     "metadata": {},
     "output_type": "execute_result"
    }
   ],
   "source": [
    "df_campaigns['ctr_score'].describe()"
   ]
  },
  {
   "cell_type": "code",
   "execution_count": 33,
   "id": "cc8a82fe",
   "metadata": {},
   "outputs": [
    {
     "data": {
      "text/plain": [
       "0.5    64075\n",
       "1.5    10356\n",
       "1.0      587\n",
       "Name: ctr_score, dtype: int64"
      ]
     },
     "execution_count": 33,
     "metadata": {},
     "output_type": "execute_result"
    }
   ],
   "source": [
    "df_campaigns['ctr_score'].value_counts()"
   ]
  },
  {
   "cell_type": "code",
   "execution_count": 34,
   "id": "7ebb6c60",
   "metadata": {
    "scrolled": true
   },
   "outputs": [
    {
     "data": {
      "text/plain": [
       "count    75018.000000\n",
       "mean       332.210723\n",
       "std       1042.641833\n",
       "min          0.500000\n",
       "25%          9.500000\n",
       "50%         45.500000\n",
       "75%        251.375000\n",
       "max      82870.500000\n",
       "Name: weighted_ctr_score, dtype: float64"
      ]
     },
     "execution_count": 34,
     "metadata": {},
     "output_type": "execute_result"
    }
   ],
   "source": [
    "df_campaigns['weighted_ctr_score'].describe()"
   ]
  },
  {
   "cell_type": "code",
   "execution_count": 35,
   "id": "485d4618",
   "metadata": {
    "scrolled": true
   },
   "outputs": [
    {
     "data": {
      "text/plain": [
       "6                   21683\n",
       "4                   20706\n",
       "1                   16567\n",
       "3                   16104\n",
       "5                   14388\n",
       "2                   12577\n",
       "Domain Targeting        2\n",
       "Name: audience, dtype: int64"
      ]
     },
     "execution_count": 35,
     "metadata": {},
     "output_type": "execute_result"
    }
   ],
   "source": [
    "df_campaigns['audience'].value_counts()"
   ]
  },
  {
   "cell_type": "code",
   "execution_count": 36,
   "id": "64b972ab",
   "metadata": {},
   "outputs": [],
   "source": [
    "df_explore = df_campaigns.groupby('creative_family').weighted_ctr_score.mean()"
   ]
  },
  {
   "cell_type": "code",
   "execution_count": 37,
   "id": "531b5971",
   "metadata": {},
   "outputs": [
    {
     "data": {
      "text/html": [
       "<div>\n",
       "<style scoped>\n",
       "    .dataframe tbody tr th:only-of-type {\n",
       "        vertical-align: middle;\n",
       "    }\n",
       "\n",
       "    .dataframe tbody tr th {\n",
       "        vertical-align: top;\n",
       "    }\n",
       "\n",
       "    .dataframe thead th {\n",
       "        text-align: right;\n",
       "    }\n",
       "</style>\n",
       "<table border=\"1\" class=\"dataframe\">\n",
       "  <thead>\n",
       "    <tr style=\"text-align: right;\">\n",
       "      <th></th>\n",
       "      <th>creative_family</th>\n",
       "      <th>weighted_ctr_score</th>\n",
       "    </tr>\n",
       "  </thead>\n",
       "  <tbody>\n",
       "    <tr>\n",
       "      <th>0</th>\n",
       "      <td>Ad1</td>\n",
       "      <td>7.625000</td>\n",
       "    </tr>\n",
       "    <tr>\n",
       "      <th>1</th>\n",
       "      <td>Ad1 Audience 3 CRM</td>\n",
       "      <td>13.000000</td>\n",
       "    </tr>\n",
       "    <tr>\n",
       "      <th>2</th>\n",
       "      <td>Ad1 Domain</td>\n",
       "      <td>8992.450000</td>\n",
       "    </tr>\n",
       "    <tr>\n",
       "      <th>3</th>\n",
       "      <td>Ad1 audience 1</td>\n",
       "      <td>47.000000</td>\n",
       "    </tr>\n",
       "    <tr>\n",
       "      <th>4</th>\n",
       "      <td>Carousel Ad1</td>\n",
       "      <td>3343.425000</td>\n",
       "    </tr>\n",
       "    <tr>\n",
       "      <th>5</th>\n",
       "      <td>Carousel Ad1 - CRM Audience 1</td>\n",
       "      <td>41.300000</td>\n",
       "    </tr>\n",
       "    <tr>\n",
       "      <th>6</th>\n",
       "      <td>Carousel Ad1 - CRM Audience3</td>\n",
       "      <td>3.428571</td>\n",
       "    </tr>\n",
       "    <tr>\n",
       "      <th>7</th>\n",
       "      <td>Carousel Ad2 - CRM Audience 2</td>\n",
       "      <td>3.687500</td>\n",
       "    </tr>\n",
       "    <tr>\n",
       "      <th>8</th>\n",
       "      <td>CloseFaster</td>\n",
       "      <td>295.030384</td>\n",
       "    </tr>\n",
       "    <tr>\n",
       "      <th>9</th>\n",
       "      <td>CloserTwins</td>\n",
       "      <td>323.583147</td>\n",
       "    </tr>\n",
       "    <tr>\n",
       "      <th>10</th>\n",
       "      <td>CompetitiveOpportunity</td>\n",
       "      <td>1462.513158</td>\n",
       "    </tr>\n",
       "    <tr>\n",
       "      <th>11</th>\n",
       "      <td>SEM Ads</td>\n",
       "      <td>NaN</td>\n",
       "    </tr>\n",
       "    <tr>\n",
       "      <th>12</th>\n",
       "      <td>UnfairAdvantage</td>\n",
       "      <td>325.003313</td>\n",
       "    </tr>\n",
       "  </tbody>\n",
       "</table>\n",
       "</div>"
      ],
      "text/plain": [
       "                  creative_family  weighted_ctr_score\n",
       "0                             Ad1            7.625000\n",
       "1              Ad1 Audience 3 CRM           13.000000\n",
       "2                      Ad1 Domain         8992.450000\n",
       "3                  Ad1 audience 1           47.000000\n",
       "4                    Carousel Ad1         3343.425000\n",
       "5   Carousel Ad1 - CRM Audience 1           41.300000\n",
       "6    Carousel Ad1 - CRM Audience3            3.428571\n",
       "7   Carousel Ad2 - CRM Audience 2            3.687500\n",
       "8                     CloseFaster          295.030384\n",
       "9                     CloserTwins          323.583147\n",
       "10         CompetitiveOpportunity         1462.513158\n",
       "11                        SEM Ads                 NaN\n",
       "12                UnfairAdvantage          325.003313"
      ]
     },
     "execution_count": 37,
     "metadata": {},
     "output_type": "execute_result"
    }
   ],
   "source": [
    "df_explore.reset_index()"
   ]
  },
  {
   "cell_type": "markdown",
   "id": "0f23ae18",
   "metadata": {},
   "source": [
    "## The goal stats data"
   ]
  },
  {
   "cell_type": "code",
   "execution_count": 38,
   "id": "d79ce5b2",
   "metadata": {},
   "outputs": [],
   "source": [
    "# Read the goal statistics data.\n",
    "df_goal = pd.read_excel('03_goal_stats_web_traffic.xlsx')"
   ]
  },
  {
   "cell_type": "code",
   "execution_count": 39,
   "id": "492d4300",
   "metadata": {
    "scrolled": false
   },
   "outputs": [
    {
     "data": {
      "text/html": [
       "<div>\n",
       "<style scoped>\n",
       "    .dataframe tbody tr th:only-of-type {\n",
       "        vertical-align: middle;\n",
       "    }\n",
       "\n",
       "    .dataframe tbody tr th {\n",
       "        vertical-align: top;\n",
       "    }\n",
       "\n",
       "    .dataframe thead th {\n",
       "        text-align: right;\n",
       "    }\n",
       "</style>\n",
       "<table border=\"1\" class=\"dataframe\">\n",
       "  <thead>\n",
       "    <tr style=\"text-align: right;\">\n",
       "      <th></th>\n",
       "      <th>date</th>\n",
       "      <th>campaign</th>\n",
       "      <th>audience</th>\n",
       "      <th>creative_family</th>\n",
       "      <th>creative_version</th>\n",
       "      <th>ad_platform</th>\n",
       "      <th>ad_format</th>\n",
       "      <th>goal</th>\n",
       "      <th>completions</th>\n",
       "      <th>campaign_traffic</th>\n",
       "      <th>days_away_from_max_date</th>\n",
       "      <th>latest_report</th>\n",
       "    </tr>\n",
       "  </thead>\n",
       "  <tbody>\n",
       "    <tr>\n",
       "      <th>0</th>\n",
       "      <td>2022-04-01</td>\n",
       "      <td>NaN</td>\n",
       "      <td>NaN</td>\n",
       "      <td>NaN</td>\n",
       "      <td>NaN</td>\n",
       "      <td>NaN</td>\n",
       "      <td>NaN</td>\n",
       "      <td>Learn More (Community Mortgage)</td>\n",
       "      <td>2</td>\n",
       "      <td>General traffic</td>\n",
       "      <td>213</td>\n",
       "      <td>0</td>\n",
       "    </tr>\n",
       "    <tr>\n",
       "      <th>1</th>\n",
       "      <td>2022-04-01</td>\n",
       "      <td>NaN</td>\n",
       "      <td>NaN</td>\n",
       "      <td>NaN</td>\n",
       "      <td>NaN</td>\n",
       "      <td>NaN</td>\n",
       "      <td>NaN</td>\n",
       "      <td>Form Submission</td>\n",
       "      <td>2</td>\n",
       "      <td>General traffic</td>\n",
       "      <td>213</td>\n",
       "      <td>0</td>\n",
       "    </tr>\n",
       "    <tr>\n",
       "      <th>2</th>\n",
       "      <td>2022-04-01</td>\n",
       "      <td>NaN</td>\n",
       "      <td>NaN</td>\n",
       "      <td>NaN</td>\n",
       "      <td>NaN</td>\n",
       "      <td>NaN</td>\n",
       "      <td>NaN</td>\n",
       "      <td>Home Page Video Play</td>\n",
       "      <td>1</td>\n",
       "      <td>General traffic</td>\n",
       "      <td>213</td>\n",
       "      <td>0</td>\n",
       "    </tr>\n",
       "    <tr>\n",
       "      <th>3</th>\n",
       "      <td>2022-04-01</td>\n",
       "      <td>NaN</td>\n",
       "      <td>NaN</td>\n",
       "      <td>NaN</td>\n",
       "      <td>NaN</td>\n",
       "      <td>NaN</td>\n",
       "      <td>NaN</td>\n",
       "      <td>Learn More (Closer Twins Banner)</td>\n",
       "      <td>1</td>\n",
       "      <td>General traffic</td>\n",
       "      <td>213</td>\n",
       "      <td>0</td>\n",
       "    </tr>\n",
       "    <tr>\n",
       "      <th>4</th>\n",
       "      <td>2022-04-01</td>\n",
       "      <td>NaN</td>\n",
       "      <td>NaN</td>\n",
       "      <td>NaN</td>\n",
       "      <td>NaN</td>\n",
       "      <td>NaN</td>\n",
       "      <td>NaN</td>\n",
       "      <td>Learn More (Community Mortgage)</td>\n",
       "      <td>18</td>\n",
       "      <td>General traffic</td>\n",
       "      <td>213</td>\n",
       "      <td>0</td>\n",
       "    </tr>\n",
       "    <tr>\n",
       "      <th>...</th>\n",
       "      <td>...</td>\n",
       "      <td>...</td>\n",
       "      <td>...</td>\n",
       "      <td>...</td>\n",
       "      <td>...</td>\n",
       "      <td>...</td>\n",
       "      <td>...</td>\n",
       "      <td>...</td>\n",
       "      <td>...</td>\n",
       "      <td>...</td>\n",
       "      <td>...</td>\n",
       "      <td>...</td>\n",
       "    </tr>\n",
       "    <tr>\n",
       "      <th>16504</th>\n",
       "      <td>2022-10-25</td>\n",
       "      <td>FY23_broker_campaign</td>\n",
       "      <td>NaN</td>\n",
       "      <td>UnfairAdvantage</td>\n",
       "      <td>OnePage</td>\n",
       "      <td>Domain Display</td>\n",
       "      <td>NaN</td>\n",
       "      <td>Learn More (Community Mortgage)</td>\n",
       "      <td>1</td>\n",
       "      <td>Campaign</td>\n",
       "      <td>6</td>\n",
       "      <td>1</td>\n",
       "    </tr>\n",
       "    <tr>\n",
       "      <th>16505</th>\n",
       "      <td>2022-10-26</td>\n",
       "      <td>FY23_broker_campaign</td>\n",
       "      <td>NaN</td>\n",
       "      <td>UnfairAdvantage</td>\n",
       "      <td>OnePage</td>\n",
       "      <td>Domain Display</td>\n",
       "      <td>NaN</td>\n",
       "      <td>Learn More (Community Mortgage)</td>\n",
       "      <td>1</td>\n",
       "      <td>Campaign</td>\n",
       "      <td>5</td>\n",
       "      <td>1</td>\n",
       "    </tr>\n",
       "    <tr>\n",
       "      <th>16506</th>\n",
       "      <td>2022-10-26</td>\n",
       "      <td>FY23_broker_campaign</td>\n",
       "      <td>NaN</td>\n",
       "      <td>UnfairAdvantage</td>\n",
       "      <td>OnePage</td>\n",
       "      <td>Domain Display</td>\n",
       "      <td>NaN</td>\n",
       "      <td>Learn More (Our Story)</td>\n",
       "      <td>1</td>\n",
       "      <td>Campaign</td>\n",
       "      <td>5</td>\n",
       "      <td>1</td>\n",
       "    </tr>\n",
       "    <tr>\n",
       "      <th>16507</th>\n",
       "      <td>2022-10-26</td>\n",
       "      <td>FY23_broker_campaign</td>\n",
       "      <td>NaN</td>\n",
       "      <td>UnfairAdvantage</td>\n",
       "      <td>OnePage</td>\n",
       "      <td>Domain Display</td>\n",
       "      <td>NaN</td>\n",
       "      <td>Start Closing More</td>\n",
       "      <td>1</td>\n",
       "      <td>Campaign</td>\n",
       "      <td>5</td>\n",
       "      <td>1</td>\n",
       "    </tr>\n",
       "    <tr>\n",
       "      <th>16508</th>\n",
       "      <td>2022-10-28</td>\n",
       "      <td>Brand_Phrase</td>\n",
       "      <td>General Targetting</td>\n",
       "      <td>SEM Ads</td>\n",
       "      <td>We Are America's CDFI</td>\n",
       "      <td>Google SEM</td>\n",
       "      <td>CPC</td>\n",
       "      <td>Learn More (Community Mortgage)</td>\n",
       "      <td>1</td>\n",
       "      <td>Campaign</td>\n",
       "      <td>3</td>\n",
       "      <td>1</td>\n",
       "    </tr>\n",
       "  </tbody>\n",
       "</table>\n",
       "<p>16509 rows × 12 columns</p>\n",
       "</div>"
      ],
      "text/plain": [
       "            date              campaign            audience  creative_family  \\\n",
       "0     2022-04-01                   NaN                 NaN              NaN   \n",
       "1     2022-04-01                   NaN                 NaN              NaN   \n",
       "2     2022-04-01                   NaN                 NaN              NaN   \n",
       "3     2022-04-01                   NaN                 NaN              NaN   \n",
       "4     2022-04-01                   NaN                 NaN              NaN   \n",
       "...          ...                   ...                 ...              ...   \n",
       "16504 2022-10-25  FY23_broker_campaign                 NaN  UnfairAdvantage   \n",
       "16505 2022-10-26  FY23_broker_campaign                 NaN  UnfairAdvantage   \n",
       "16506 2022-10-26  FY23_broker_campaign                 NaN  UnfairAdvantage   \n",
       "16507 2022-10-26  FY23_broker_campaign                 NaN  UnfairAdvantage   \n",
       "16508 2022-10-28          Brand_Phrase  General Targetting          SEM Ads   \n",
       "\n",
       "            creative_version     ad_platform ad_format  \\\n",
       "0                        NaN             NaN       NaN   \n",
       "1                        NaN             NaN       NaN   \n",
       "2                        NaN             NaN       NaN   \n",
       "3                        NaN             NaN       NaN   \n",
       "4                        NaN             NaN       NaN   \n",
       "...                      ...             ...       ...   \n",
       "16504                OnePage  Domain Display       NaN   \n",
       "16505                OnePage  Domain Display       NaN   \n",
       "16506                OnePage  Domain Display       NaN   \n",
       "16507                OnePage  Domain Display       NaN   \n",
       "16508  We Are America's CDFI      Google SEM       CPC   \n",
       "\n",
       "                                   goal  completions campaign_traffic  \\\n",
       "0       Learn More (Community Mortgage)            2  General traffic   \n",
       "1                       Form Submission            2  General traffic   \n",
       "2                  Home Page Video Play            1  General traffic   \n",
       "3      Learn More (Closer Twins Banner)            1  General traffic   \n",
       "4       Learn More (Community Mortgage)           18  General traffic   \n",
       "...                                 ...          ...              ...   \n",
       "16504   Learn More (Community Mortgage)            1         Campaign   \n",
       "16505   Learn More (Community Mortgage)            1         Campaign   \n",
       "16506            Learn More (Our Story)            1         Campaign   \n",
       "16507                Start Closing More            1         Campaign   \n",
       "16508   Learn More (Community Mortgage)            1         Campaign   \n",
       "\n",
       "       days_away_from_max_date  latest_report  \n",
       "0                          213              0  \n",
       "1                          213              0  \n",
       "2                          213              0  \n",
       "3                          213              0  \n",
       "4                          213              0  \n",
       "...                        ...            ...  \n",
       "16504                        6              1  \n",
       "16505                        5              1  \n",
       "16506                        5              1  \n",
       "16507                        5              1  \n",
       "16508                        3              1  \n",
       "\n",
       "[16509 rows x 12 columns]"
      ]
     },
     "execution_count": 39,
     "metadata": {},
     "output_type": "execute_result"
    }
   ],
   "source": [
    "# View the dataframe.\n",
    "df_goal"
   ]
  },
  {
   "cell_type": "code",
   "execution_count": 40,
   "id": "28c69670",
   "metadata": {},
   "outputs": [],
   "source": [
    "# For consistency, in the column 'audience' replace the value 'General Targetting' with '6'.\n",
    "df_goal['audience'] = df_goal['audience'].replace(['General Targetting'], '6')"
   ]
  },
  {
   "cell_type": "code",
   "execution_count": 41,
   "id": "c277eb9f",
   "metadata": {},
   "outputs": [],
   "source": [
    "# Add a new column 'target_group'\n",
    "df_goal['target_group'] = df_goal['audience'].map(audience_dict)"
   ]
  },
  {
   "cell_type": "code",
   "execution_count": 42,
   "id": "ee5395b7",
   "metadata": {
    "scrolled": false
   },
   "outputs": [
    {
     "name": "stdout",
     "output_type": "stream",
     "text": [
      "<class 'pandas.core.frame.DataFrame'>\n",
      "RangeIndex: 16509 entries, 0 to 16508\n",
      "Data columns (total 13 columns):\n",
      " #   Column                   Non-Null Count  Dtype         \n",
      "---  ------                   --------------  -----         \n",
      " 0   date                     16509 non-null  datetime64[ns]\n",
      " 1   campaign                 4823 non-null   object        \n",
      " 2   audience                 4242 non-null   object        \n",
      " 3   creative_family          4594 non-null   object        \n",
      " 4   creative_version         4294 non-null   object        \n",
      " 5   ad_platform              4549 non-null   object        \n",
      " 6   ad_format                4427 non-null   object        \n",
      " 7   goal                     16509 non-null  object        \n",
      " 8   completions              16509 non-null  int64         \n",
      " 9   campaign_traffic         16509 non-null  object        \n",
      " 10  days_away_from_max_date  16509 non-null  int64         \n",
      " 11  latest_report            16509 non-null  int64         \n",
      " 12  target_group             4236 non-null   object        \n",
      "dtypes: datetime64[ns](1), int64(3), object(9)\n",
      "memory usage: 1.6+ MB\n"
     ]
    }
   ],
   "source": [
    "# View information.\n",
    "df_goal.info()"
   ]
  },
  {
   "cell_type": "code",
   "execution_count": 43,
   "id": "7145eedf",
   "metadata": {},
   "outputs": [],
   "source": [
    "# Change the 'completions' data type to float.\n",
    "df_goal['completions'] = df_goal['completions'].astype(float)"
   ]
  },
  {
   "cell_type": "code",
   "execution_count": 44,
   "id": "226c9a04",
   "metadata": {
    "scrolled": true
   },
   "outputs": [
    {
     "name": "stderr",
     "output_type": "stream",
     "text": [
      "/var/folders/4t/_v2kwfh12990mh64bplbk8cr0000gn/T/ipykernel_12097/1470676339.py:1: FutureWarning: Treating datetime data as categorical rather than numeric in `.describe` is deprecated and will be removed in a future version of pandas. Specify `datetime_is_numeric=True` to silence this warning and adopt the future behavior now.\n",
      "  df_goal['date'].describe()\n"
     ]
    },
    {
     "data": {
      "text/plain": [
       "count                   16509\n",
       "unique                    214\n",
       "top       2022-04-26 00:00:00\n",
       "freq                      154\n",
       "first     2022-04-01 00:00:00\n",
       "last      2022-10-31 00:00:00\n",
       "Name: date, dtype: object"
      ]
     },
     "execution_count": 44,
     "metadata": {},
     "output_type": "execute_result"
    }
   ],
   "source": [
    "df_goal['date'].describe()"
   ]
  },
  {
   "cell_type": "code",
   "execution_count": 45,
   "id": "7b19d321",
   "metadata": {
    "scrolled": true
   },
   "outputs": [
    {
     "data": {
      "text/plain": [
       "Learn More (Community Mortgage)     9382\n",
       "Start Closing More                  4027\n",
       "Learn More (Our Story)              1044\n",
       "Get Approved                         930\n",
       "Learn More (Closer Twins Banner)     484\n",
       "Form Submission                      459\n",
       "Broker Login                          94\n",
       "Closer Twins Page Video Play          60\n",
       "Home Page Video Play                  27\n",
       "utm_audience                           1\n",
       "test4                                  1\n",
       "Name: goal, dtype: int64"
      ]
     },
     "execution_count": 45,
     "metadata": {},
     "output_type": "execute_result"
    }
   ],
   "source": [
    "df_goal['goal'].value_counts()"
   ]
  },
  {
   "cell_type": "code",
   "execution_count": 46,
   "id": "1cf4dc63",
   "metadata": {
    "scrolled": true
   },
   "outputs": [
    {
     "data": {
      "text/plain": [
       "count    16509.000000\n",
       "mean         2.667575\n",
       "std          4.415329\n",
       "min          1.000000\n",
       "25%          1.000000\n",
       "50%          1.000000\n",
       "75%          2.000000\n",
       "max        116.000000\n",
       "Name: completions, dtype: float64"
      ]
     },
     "execution_count": 46,
     "metadata": {},
     "output_type": "execute_result"
    }
   ],
   "source": [
    "df_goal['completions'].describe()"
   ]
  },
  {
   "cell_type": "code",
   "execution_count": 47,
   "id": "94b464f5",
   "metadata": {
    "scrolled": true
   },
   "outputs": [
    {
     "data": {
      "text/plain": [
       "6        3863\n",
       "5         153\n",
       "4         108\n",
       "1          68\n",
       "2          23\n",
       "3          21\n",
       "1to4        4\n",
       "test4       2\n",
       "Name: audience, dtype: int64"
      ]
     },
     "execution_count": 47,
     "metadata": {},
     "output_type": "execute_result"
    }
   ],
   "source": [
    "df_goal['audience'].value_counts()"
   ]
  },
  {
   "cell_type": "code",
   "execution_count": 48,
   "id": "c2722780",
   "metadata": {},
   "outputs": [
    {
     "data": {
      "text/plain": [
       "SEM Ads                   3533\n",
       "UnfairAdvantage            320\n",
       "CloserTwins                307\n",
       "Trade Media Ads            230\n",
       "CloseFaster                125\n",
       "domain                      16\n",
       "August                      16\n",
       "CompetitiveOpportunity      15\n",
       "newsletter                   7\n",
       "One-Off                      7\n",
       "08-29-2022                   4\n",
       "SnapdocsLive                 3\n",
       "crm                          3\n",
       "08-24-2022                   2\n",
       "2022-06-09 00:00:00          1\n",
       "219526440                    1\n",
       "08-25-2022                   1\n",
       "All3                         1\n",
       "ComingSoon                   1\n",
       "2022-08-09 00:00:00          1\n",
       "Name: creative_family, dtype: int64"
      ]
     },
     "execution_count": 48,
     "metadata": {},
     "output_type": "execute_result"
    }
   ],
   "source": [
    "df_goal['creative_family'].value_counts()"
   ]
  },
  {
   "cell_type": "code",
   "execution_count": 49,
   "id": "0eff77ba",
   "metadata": {},
   "outputs": [
    {
     "data": {
      "text/plain": [
       "<pandas.core.groupby.generic.DataFrameGroupBy object at 0x7fc2891d4760>"
      ]
     },
     "execution_count": 49,
     "metadata": {},
     "output_type": "execute_result"
    }
   ],
   "source": [
    "df_goal.groupby('creative_family')"
   ]
  },
  {
   "cell_type": "markdown",
   "id": "46c1bb45",
   "metadata": {},
   "source": [
    "## The general stats data"
   ]
  },
  {
   "cell_type": "code",
   "execution_count": 50,
   "id": "fdeac68d",
   "metadata": {},
   "outputs": [],
   "source": [
    "# Read the general statistics data.\n",
    "df_general = pd.read_excel('04_general_stats_web_traffic.xlsx')"
   ]
  },
  {
   "cell_type": "code",
   "execution_count": 51,
   "id": "c4e5e83b",
   "metadata": {
    "scrolled": true
   },
   "outputs": [
    {
     "data": {
      "text/html": [
       "<div>\n",
       "<style scoped>\n",
       "    .dataframe tbody tr th:only-of-type {\n",
       "        vertical-align: middle;\n",
       "    }\n",
       "\n",
       "    .dataframe tbody tr th {\n",
       "        vertical-align: top;\n",
       "    }\n",
       "\n",
       "    .dataframe thead th {\n",
       "        text-align: right;\n",
       "    }\n",
       "</style>\n",
       "<table border=\"1\" class=\"dataframe\">\n",
       "  <thead>\n",
       "    <tr style=\"text-align: right;\">\n",
       "      <th></th>\n",
       "      <th>date</th>\n",
       "      <th>audience</th>\n",
       "      <th>creative_family</th>\n",
       "      <th>creative_version</th>\n",
       "      <th>ad_platform</th>\n",
       "      <th>ad_format</th>\n",
       "      <th>campaign_traffic</th>\n",
       "      <th>total_sessions</th>\n",
       "      <th>total_bounces</th>\n",
       "      <th>total_duration</th>\n",
       "      <th>days_away_from_max_date</th>\n",
       "      <th>latest_report</th>\n",
       "    </tr>\n",
       "  </thead>\n",
       "  <tbody>\n",
       "    <tr>\n",
       "      <th>0</th>\n",
       "      <td>2022-08-16</td>\n",
       "      <td>NaN</td>\n",
       "      <td>CloserTwins</td>\n",
       "      <td>Cutdown1A</td>\n",
       "      <td>Domain Display</td>\n",
       "      <td>Video</td>\n",
       "      <td>Campaign</td>\n",
       "      <td>1</td>\n",
       "      <td>0</td>\n",
       "      <td>73.0</td>\n",
       "      <td>76</td>\n",
       "      <td>0</td>\n",
       "    </tr>\n",
       "    <tr>\n",
       "      <th>1</th>\n",
       "      <td>2022-06-16</td>\n",
       "      <td>3</td>\n",
       "      <td>CloseFaster</td>\n",
       "      <td>NoDTI</td>\n",
       "      <td>Facebook</td>\n",
       "      <td>Single image</td>\n",
       "      <td>Campaign</td>\n",
       "      <td>1</td>\n",
       "      <td>0</td>\n",
       "      <td>0.0</td>\n",
       "      <td>137</td>\n",
       "      <td>0</td>\n",
       "    </tr>\n",
       "    <tr>\n",
       "      <th>2</th>\n",
       "      <td>2022-08-29</td>\n",
       "      <td>1</td>\n",
       "      <td>CloseFaster</td>\n",
       "      <td>MoreAll</td>\n",
       "      <td>User ID Display</td>\n",
       "      <td>NaN</td>\n",
       "      <td>Campaign</td>\n",
       "      <td>2</td>\n",
       "      <td>0</td>\n",
       "      <td>0.0</td>\n",
       "      <td>63</td>\n",
       "      <td>0</td>\n",
       "    </tr>\n",
       "    <tr>\n",
       "      <th>3</th>\n",
       "      <td>2022-06-09</td>\n",
       "      <td>4</td>\n",
       "      <td>UnfairAdvantage</td>\n",
       "      <td>1page</td>\n",
       "      <td>LinkedIn</td>\n",
       "      <td>Single image</td>\n",
       "      <td>Campaign</td>\n",
       "      <td>2</td>\n",
       "      <td>0</td>\n",
       "      <td>50.0</td>\n",
       "      <td>144</td>\n",
       "      <td>0</td>\n",
       "    </tr>\n",
       "    <tr>\n",
       "      <th>4</th>\n",
       "      <td>2022-08-03</td>\n",
       "      <td>1</td>\n",
       "      <td>UnfairAdvantage</td>\n",
       "      <td>1099</td>\n",
       "      <td>Domain Display</td>\n",
       "      <td>Single image</td>\n",
       "      <td>Campaign</td>\n",
       "      <td>1</td>\n",
       "      <td>0</td>\n",
       "      <td>0.0</td>\n",
       "      <td>89</td>\n",
       "      <td>0</td>\n",
       "    </tr>\n",
       "    <tr>\n",
       "      <th>...</th>\n",
       "      <td>...</td>\n",
       "      <td>...</td>\n",
       "      <td>...</td>\n",
       "      <td>...</td>\n",
       "      <td>...</td>\n",
       "      <td>...</td>\n",
       "      <td>...</td>\n",
       "      <td>...</td>\n",
       "      <td>...</td>\n",
       "      <td>...</td>\n",
       "      <td>...</td>\n",
       "      <td>...</td>\n",
       "    </tr>\n",
       "    <tr>\n",
       "      <th>13189</th>\n",
       "      <td>2022-05-06</td>\n",
       "      <td>4</td>\n",
       "      <td>CloserTwins</td>\n",
       "      <td>Cutdown1B</td>\n",
       "      <td>LinkedIn</td>\n",
       "      <td>Video</td>\n",
       "      <td>Campaign</td>\n",
       "      <td>3</td>\n",
       "      <td>0</td>\n",
       "      <td>252.0</td>\n",
       "      <td>178</td>\n",
       "      <td>0</td>\n",
       "    </tr>\n",
       "    <tr>\n",
       "      <th>13190</th>\n",
       "      <td>2022-06-01</td>\n",
       "      <td>1</td>\n",
       "      <td>UnfairAdvantage</td>\n",
       "      <td>NoDTI</td>\n",
       "      <td>Domain Display</td>\n",
       "      <td>Single image</td>\n",
       "      <td>Campaign</td>\n",
       "      <td>1</td>\n",
       "      <td>0</td>\n",
       "      <td>2.0</td>\n",
       "      <td>152</td>\n",
       "      <td>0</td>\n",
       "    </tr>\n",
       "    <tr>\n",
       "      <th>13191</th>\n",
       "      <td>2022-04-23</td>\n",
       "      <td>2</td>\n",
       "      <td>UnfairAdvantage</td>\n",
       "      <td>OnePage</td>\n",
       "      <td>Domain Display</td>\n",
       "      <td>NaN</td>\n",
       "      <td>Campaign</td>\n",
       "      <td>1</td>\n",
       "      <td>0</td>\n",
       "      <td>0.0</td>\n",
       "      <td>191</td>\n",
       "      <td>0</td>\n",
       "    </tr>\n",
       "    <tr>\n",
       "      <th>13192</th>\n",
       "      <td>2022-09-07</td>\n",
       "      <td>3</td>\n",
       "      <td>CloserTwins</td>\n",
       "      <td>EarlyBird</td>\n",
       "      <td>LinkedIn</td>\n",
       "      <td>Single image</td>\n",
       "      <td>Campaign</td>\n",
       "      <td>1</td>\n",
       "      <td>0</td>\n",
       "      <td>0.0</td>\n",
       "      <td>54</td>\n",
       "      <td>0</td>\n",
       "    </tr>\n",
       "    <tr>\n",
       "      <th>13193</th>\n",
       "      <td>2022-04-11</td>\n",
       "      <td>NaN</td>\n",
       "      <td>(not set)</td>\n",
       "      <td>(not set)</td>\n",
       "      <td>NaN</td>\n",
       "      <td>NaN</td>\n",
       "      <td>General traffic</td>\n",
       "      <td>1565</td>\n",
       "      <td>0</td>\n",
       "      <td>169204.0</td>\n",
       "      <td>203</td>\n",
       "      <td>0</td>\n",
       "    </tr>\n",
       "  </tbody>\n",
       "</table>\n",
       "<p>13194 rows × 12 columns</p>\n",
       "</div>"
      ],
      "text/plain": [
       "            date audience  creative_family creative_version      ad_platform  \\\n",
       "0     2022-08-16      NaN      CloserTwins        Cutdown1A   Domain Display   \n",
       "1     2022-06-16        3      CloseFaster            NoDTI         Facebook   \n",
       "2     2022-08-29        1      CloseFaster          MoreAll  User ID Display   \n",
       "3     2022-06-09        4  UnfairAdvantage            1page         LinkedIn   \n",
       "4     2022-08-03        1  UnfairAdvantage             1099   Domain Display   \n",
       "...          ...      ...              ...              ...              ...   \n",
       "13189 2022-05-06        4      CloserTwins        Cutdown1B         LinkedIn   \n",
       "13190 2022-06-01        1  UnfairAdvantage            NoDTI   Domain Display   \n",
       "13191 2022-04-23        2  UnfairAdvantage          OnePage   Domain Display   \n",
       "13192 2022-09-07        3      CloserTwins        EarlyBird         LinkedIn   \n",
       "13193 2022-04-11      NaN        (not set)        (not set)              NaN   \n",
       "\n",
       "          ad_format campaign_traffic  total_sessions  total_bounces  \\\n",
       "0             Video         Campaign               1              0   \n",
       "1      Single image         Campaign               1              0   \n",
       "2               NaN         Campaign               2              0   \n",
       "3      Single image         Campaign               2              0   \n",
       "4      Single image         Campaign               1              0   \n",
       "...             ...              ...             ...            ...   \n",
       "13189         Video         Campaign               3              0   \n",
       "13190  Single image         Campaign               1              0   \n",
       "13191           NaN         Campaign               1              0   \n",
       "13192  Single image         Campaign               1              0   \n",
       "13193           NaN  General traffic            1565              0   \n",
       "\n",
       "       total_duration  days_away_from_max_date  latest_report  \n",
       "0                73.0                       76              0  \n",
       "1                 0.0                      137              0  \n",
       "2                 0.0                       63              0  \n",
       "3                50.0                      144              0  \n",
       "4                 0.0                       89              0  \n",
       "...               ...                      ...            ...  \n",
       "13189           252.0                      178              0  \n",
       "13190             2.0                      152              0  \n",
       "13191             0.0                      191              0  \n",
       "13192             0.0                       54              0  \n",
       "13193        169204.0                      203              0  \n",
       "\n",
       "[13194 rows x 12 columns]"
      ]
     },
     "execution_count": 51,
     "metadata": {},
     "output_type": "execute_result"
    }
   ],
   "source": [
    "# View the general statistics dataframe.\n",
    "df_general"
   ]
  },
  {
   "cell_type": "code",
   "execution_count": 52,
   "id": "8b372274",
   "metadata": {},
   "outputs": [],
   "source": [
    "# For consistency, in the column 'audience' replace the value 'General Targetting' with '6'.\n",
    "df_general['audience'] = df_general['audience'].replace(['General Targetting'], '6')"
   ]
  },
  {
   "cell_type": "code",
   "execution_count": 53,
   "id": "8f041c61",
   "metadata": {},
   "outputs": [],
   "source": [
    "# Add a new column 'target_group'\n",
    "df_general['target_group'] = df_general['audience'].map(audience_dict)"
   ]
  },
  {
   "cell_type": "code",
   "execution_count": 54,
   "id": "34c8f30e",
   "metadata": {
    "scrolled": true
   },
   "outputs": [
    {
     "name": "stdout",
     "output_type": "stream",
     "text": [
      "<class 'pandas.core.frame.DataFrame'>\n",
      "RangeIndex: 13194 entries, 0 to 13193\n",
      "Data columns (total 13 columns):\n",
      " #   Column                   Non-Null Count  Dtype         \n",
      "---  ------                   --------------  -----         \n",
      " 0   date                     13194 non-null  datetime64[ns]\n",
      " 1   audience                 12430 non-null  object        \n",
      " 2   creative_family          13194 non-null  object        \n",
      " 3   creative_version         13194 non-null  object        \n",
      " 4   ad_platform              12821 non-null  object        \n",
      " 5   ad_format                7956 non-null   object        \n",
      " 6   campaign_traffic         13194 non-null  object        \n",
      " 7   total_sessions           13194 non-null  int64         \n",
      " 8   total_bounces            13194 non-null  int64         \n",
      " 9   total_duration           13194 non-null  float64       \n",
      " 10  days_away_from_max_date  13194 non-null  int64         \n",
      " 11  latest_report            13194 non-null  int64         \n",
      " 12  target_group             12386 non-null  object        \n",
      "dtypes: datetime64[ns](1), float64(1), int64(4), object(7)\n",
      "memory usage: 1.3+ MB\n"
     ]
    }
   ],
   "source": [
    "# View information.\n",
    "df_general.info()"
   ]
  },
  {
   "cell_type": "code",
   "execution_count": 55,
   "id": "53e4bb33",
   "metadata": {
    "scrolled": true
   },
   "outputs": [
    {
     "name": "stderr",
     "output_type": "stream",
     "text": [
      "/var/folders/4t/_v2kwfh12990mh64bplbk8cr0000gn/T/ipykernel_12097/1077051845.py:1: FutureWarning: Treating datetime data as categorical rather than numeric in `.describe` is deprecated and will be removed in a future version of pandas. Specify `datetime_is_numeric=True` to silence this warning and adopt the future behavior now.\n",
      "  df_general['date'].describe()\n"
     ]
    },
    {
     "data": {
      "text/plain": [
       "count                   13194\n",
       "unique                    214\n",
       "top       2022-04-25 00:00:00\n",
       "freq                      113\n",
       "first     2022-04-01 00:00:00\n",
       "last      2022-10-31 00:00:00\n",
       "Name: date, dtype: object"
      ]
     },
     "execution_count": 55,
     "metadata": {},
     "output_type": "execute_result"
    }
   ],
   "source": [
    "df_general['date'].describe()"
   ]
  },
  {
   "cell_type": "code",
   "execution_count": 56,
   "id": "f49ee9c6",
   "metadata": {},
   "outputs": [
    {
     "data": {
      "text/plain": [
       "count    1.319400e+04\n",
       "mean     1.042141e+04\n",
       "std      1.043190e+05\n",
       "min      0.000000e+00\n",
       "25%      0.000000e+00\n",
       "50%      0.000000e+00\n",
       "75%      0.000000e+00\n",
       "max      1.737539e+06\n",
       "Name: total_duration, dtype: float64"
      ]
     },
     "execution_count": 56,
     "metadata": {},
     "output_type": "execute_result"
    }
   ],
   "source": [
    "df_general['total_duration'].describe()"
   ]
  },
  {
   "cell_type": "code",
   "execution_count": 57,
   "id": "1f52d200",
   "metadata": {},
   "outputs": [
    {
     "data": {
      "text/plain": [
       "count    13194.000000\n",
       "mean        40.009626\n",
       "std        317.764981\n",
       "min          1.000000\n",
       "25%          1.000000\n",
       "50%          2.000000\n",
       "75%          6.000000\n",
       "max       6505.000000\n",
       "Name: total_sessions, dtype: float64"
      ]
     },
     "execution_count": 57,
     "metadata": {},
     "output_type": "execute_result"
    }
   ],
   "source": [
    "df_general['total_sessions'].describe()"
   ]
  },
  {
   "cell_type": "code",
   "execution_count": 58,
   "id": "794e0e0c",
   "metadata": {
    "scrolled": true
   },
   "outputs": [
    {
     "data": {
      "text/plain": [
       "4                                                                                           3676\n",
       "5                                                                                           2847\n",
       "1                                                                                           2040\n",
       "3                                                                                           1487\n",
       "2                                                                                           1174\n",
       "6                                                                                           1162\n",
       "1to4                                                                                          20\n",
       "1to4https://changewholesale.com/anti-inflation-special/?utm_campaign=FY22_anti_inflation      10\n",
       "44652                                                                                          2\n",
       "fourhttps://changewholesale.com/?utm_campaign=FY23_broker_campaign                             1\n",
       "one/                                                                                           1\n",
       "test6                                                                                          1\n",
       "five/broker-approval/                                                                          1\n",
       "test20th                                                                                       1\n",
       "fivehttps://changewholesale.com/closer-twins/                                                  1\n",
       "test3                                                                                          1\n",
       "fivedisparate                                                                                  1\n",
       "test2                                                                                          1\n",
       "fivehttps://changewholesale.com/broker-approval/?utm_campaign=FY23_broker_campaign             1\n",
       "fourhttps://changewholesale.com/broker-approval/?utm_campaign=FY23_broker_campaign             1\n",
       "test5                                                                                          1\n",
       "Name: audience, dtype: int64"
      ]
     },
     "execution_count": 58,
     "metadata": {},
     "output_type": "execute_result"
    }
   ],
   "source": [
    "df_general['audience'].value_counts()"
   ]
  },
  {
   "cell_type": "markdown",
   "id": "4e5fe8df",
   "metadata": {},
   "source": [
    "## The Google Analytics data"
   ]
  },
  {
   "cell_type": "code",
   "execution_count": 59,
   "id": "1f2808ca",
   "metadata": {},
   "outputs": [],
   "source": [
    "# Read the Google Analytics data.\n",
    "df_ga = pd.read_excel('05_change_2022_ga_ma.xlsx')"
   ]
  },
  {
   "cell_type": "code",
   "execution_count": 60,
   "id": "ba096493",
   "metadata": {},
   "outputs": [
    {
     "data": {
      "text/html": [
       "<div>\n",
       "<style scoped>\n",
       "    .dataframe tbody tr th:only-of-type {\n",
       "        vertical-align: middle;\n",
       "    }\n",
       "\n",
       "    .dataframe tbody tr th {\n",
       "        vertical-align: top;\n",
       "    }\n",
       "\n",
       "    .dataframe thead th {\n",
       "        text-align: right;\n",
       "    }\n",
       "</style>\n",
       "<table border=\"1\" class=\"dataframe\">\n",
       "  <thead>\n",
       "    <tr style=\"text-align: right;\">\n",
       "      <th></th>\n",
       "      <th>city_country</th>\n",
       "      <th>audience</th>\n",
       "      <th>campaign</th>\n",
       "      <th>date</th>\n",
       "      <th>ad_platform</th>\n",
       "      <th>ad_format</th>\n",
       "      <th>creative_family</th>\n",
       "      <th>creative_version</th>\n",
       "      <th>total_sessions</th>\n",
       "      <th>days_away_from_max_date</th>\n",
       "      <th>latest_report</th>\n",
       "    </tr>\n",
       "  </thead>\n",
       "  <tbody>\n",
       "    <tr>\n",
       "      <th>0</th>\n",
       "      <td>Ashburn, United States</td>\n",
       "      <td>General Targetting</td>\n",
       "      <td>FY23_change_digital_phase3</td>\n",
       "      <td>2022-08-08</td>\n",
       "      <td>Trade Media</td>\n",
       "      <td>Inside_mortgage_finance_newsletter</td>\n",
       "      <td>CloserTwins</td>\n",
       "      <td>RTB</td>\n",
       "      <td>1</td>\n",
       "      <td>84</td>\n",
       "      <td>0</td>\n",
       "    </tr>\n",
       "    <tr>\n",
       "      <th>1</th>\n",
       "      <td>Mebane, United States</td>\n",
       "      <td>4</td>\n",
       "      <td>FY23_broker_campaign</td>\n",
       "      <td>2022-06-16</td>\n",
       "      <td>User ID Display</td>\n",
       "      <td>NaN</td>\n",
       "      <td>UnfairAdvantage</td>\n",
       "      <td>OnePage</td>\n",
       "      <td>1</td>\n",
       "      <td>137</td>\n",
       "      <td>0</td>\n",
       "    </tr>\n",
       "    <tr>\n",
       "      <th>2</th>\n",
       "      <td>Chicago, United States</td>\n",
       "      <td>2</td>\n",
       "      <td>FY23_broker_campaign</td>\n",
       "      <td>2022-06-05</td>\n",
       "      <td>Domain Display</td>\n",
       "      <td>Single image</td>\n",
       "      <td>UnfairAdvantage</td>\n",
       "      <td>NoDTI</td>\n",
       "      <td>2</td>\n",
       "      <td>148</td>\n",
       "      <td>0</td>\n",
       "    </tr>\n",
       "    <tr>\n",
       "      <th>3</th>\n",
       "      <td>South Jordan, United States</td>\n",
       "      <td>1</td>\n",
       "      <td>FY23_broker_campaign</td>\n",
       "      <td>2022-09-02</td>\n",
       "      <td>User ID Display</td>\n",
       "      <td>NaN</td>\n",
       "      <td>CloserTwins</td>\n",
       "      <td>MoreLoansAll</td>\n",
       "      <td>1</td>\n",
       "      <td>59</td>\n",
       "      <td>0</td>\n",
       "    </tr>\n",
       "    <tr>\n",
       "      <th>4</th>\n",
       "      <td>Potsdam, United States</td>\n",
       "      <td>4</td>\n",
       "      <td>FY23_broker_campaign</td>\n",
       "      <td>2022-10-30</td>\n",
       "      <td>Domain Display</td>\n",
       "      <td>NaN</td>\n",
       "      <td>UnfairAdvantage</td>\n",
       "      <td>1099</td>\n",
       "      <td>1</td>\n",
       "      <td>1</td>\n",
       "      <td>1</td>\n",
       "    </tr>\n",
       "    <tr>\n",
       "      <th>...</th>\n",
       "      <td>...</td>\n",
       "      <td>...</td>\n",
       "      <td>...</td>\n",
       "      <td>...</td>\n",
       "      <td>...</td>\n",
       "      <td>...</td>\n",
       "      <td>...</td>\n",
       "      <td>...</td>\n",
       "      <td>...</td>\n",
       "      <td>...</td>\n",
       "      <td>...</td>\n",
       "    </tr>\n",
       "    <tr>\n",
       "      <th>47524</th>\n",
       "      <td>Pearland, United States</td>\n",
       "      <td>4</td>\n",
       "      <td>FY23_broker_campaign</td>\n",
       "      <td>2022-10-18</td>\n",
       "      <td>Domain Display</td>\n",
       "      <td>NaN</td>\n",
       "      <td>UnfairAdvantage</td>\n",
       "      <td>OnePage</td>\n",
       "      <td>1</td>\n",
       "      <td>13</td>\n",
       "      <td>1</td>\n",
       "    </tr>\n",
       "    <tr>\n",
       "      <th>47525</th>\n",
       "      <td>Springfield, United States</td>\n",
       "      <td>4</td>\n",
       "      <td>FY23_broker_campaign</td>\n",
       "      <td>2022-06-10</td>\n",
       "      <td>Domain Display</td>\n",
       "      <td>NaN</td>\n",
       "      <td>UnfairAdvantage</td>\n",
       "      <td>OnePage</td>\n",
       "      <td>1</td>\n",
       "      <td>143</td>\n",
       "      <td>0</td>\n",
       "    </tr>\n",
       "    <tr>\n",
       "      <th>47526</th>\n",
       "      <td>Boston, United States</td>\n",
       "      <td>5</td>\n",
       "      <td>FY23_broker_campaign</td>\n",
       "      <td>2022-10-21</td>\n",
       "      <td>Domain Display</td>\n",
       "      <td>Single image</td>\n",
       "      <td>UnfairAdvantage</td>\n",
       "      <td>1099</td>\n",
       "      <td>1</td>\n",
       "      <td>10</td>\n",
       "      <td>1</td>\n",
       "    </tr>\n",
       "    <tr>\n",
       "      <th>47527</th>\n",
       "      <td>Cleveland, United States</td>\n",
       "      <td>5</td>\n",
       "      <td>FY22_broker_campaign_ph2</td>\n",
       "      <td>2022-05-20</td>\n",
       "      <td>LinkedIn</td>\n",
       "      <td>Single image</td>\n",
       "      <td>UnfairAdvantage</td>\n",
       "      <td>1page</td>\n",
       "      <td>1</td>\n",
       "      <td>164</td>\n",
       "      <td>0</td>\n",
       "    </tr>\n",
       "    <tr>\n",
       "      <th>47528</th>\n",
       "      <td>Charlotte, United States</td>\n",
       "      <td>3</td>\n",
       "      <td>FY22_broker_campaign_ph2</td>\n",
       "      <td>2022-05-18</td>\n",
       "      <td>Facebook</td>\n",
       "      <td>Single image</td>\n",
       "      <td>UnfairAdvantage</td>\n",
       "      <td>1099</td>\n",
       "      <td>1</td>\n",
       "      <td>166</td>\n",
       "      <td>0</td>\n",
       "    </tr>\n",
       "  </tbody>\n",
       "</table>\n",
       "<p>47529 rows × 11 columns</p>\n",
       "</div>"
      ],
      "text/plain": [
       "                      city_country            audience  \\\n",
       "0           Ashburn, United States  General Targetting   \n",
       "1            Mebane, United States                   4   \n",
       "2           Chicago, United States                   2   \n",
       "3      South Jordan, United States                   1   \n",
       "4           Potsdam, United States                   4   \n",
       "...                            ...                 ...   \n",
       "47524      Pearland, United States                   4   \n",
       "47525   Springfield, United States                   4   \n",
       "47526        Boston, United States                   5   \n",
       "47527     Cleveland, United States                   5   \n",
       "47528     Charlotte, United States                   3   \n",
       "\n",
       "                         campaign       date      ad_platform  \\\n",
       "0      FY23_change_digital_phase3 2022-08-08      Trade Media   \n",
       "1            FY23_broker_campaign 2022-06-16  User ID Display   \n",
       "2            FY23_broker_campaign 2022-06-05   Domain Display   \n",
       "3            FY23_broker_campaign 2022-09-02  User ID Display   \n",
       "4            FY23_broker_campaign 2022-10-30   Domain Display   \n",
       "...                           ...        ...              ...   \n",
       "47524        FY23_broker_campaign 2022-10-18   Domain Display   \n",
       "47525        FY23_broker_campaign 2022-06-10   Domain Display   \n",
       "47526        FY23_broker_campaign 2022-10-21   Domain Display   \n",
       "47527    FY22_broker_campaign_ph2 2022-05-20         LinkedIn   \n",
       "47528    FY22_broker_campaign_ph2 2022-05-18         Facebook   \n",
       "\n",
       "                                ad_format  creative_family creative_version  \\\n",
       "0      Inside_mortgage_finance_newsletter      CloserTwins              RTB   \n",
       "1                                     NaN  UnfairAdvantage          OnePage   \n",
       "2                            Single image  UnfairAdvantage            NoDTI   \n",
       "3                                     NaN      CloserTwins     MoreLoansAll   \n",
       "4                                     NaN  UnfairAdvantage             1099   \n",
       "...                                   ...              ...              ...   \n",
       "47524                                 NaN  UnfairAdvantage          OnePage   \n",
       "47525                                 NaN  UnfairAdvantage          OnePage   \n",
       "47526                        Single image  UnfairAdvantage             1099   \n",
       "47527                        Single image  UnfairAdvantage            1page   \n",
       "47528                        Single image  UnfairAdvantage             1099   \n",
       "\n",
       "       total_sessions  days_away_from_max_date  latest_report  \n",
       "0                   1                       84              0  \n",
       "1                   1                      137              0  \n",
       "2                   2                      148              0  \n",
       "3                   1                       59              0  \n",
       "4                   1                        1              1  \n",
       "...               ...                      ...            ...  \n",
       "47524               1                       13              1  \n",
       "47525               1                      143              0  \n",
       "47526               1                       10              1  \n",
       "47527               1                      164              0  \n",
       "47528               1                      166              0  \n",
       "\n",
       "[47529 rows x 11 columns]"
      ]
     },
     "execution_count": 60,
     "metadata": {},
     "output_type": "execute_result"
    }
   ],
   "source": [
    "# View the Google Analytics dataframe.\n",
    "df_ga"
   ]
  },
  {
   "cell_type": "code",
   "execution_count": 61,
   "id": "6270b864",
   "metadata": {},
   "outputs": [],
   "source": [
    "# For consistency, in the column 'audience' replace the value 'General Targetting' with '6'.\n",
    "df_ga['audience'] = df_ga['audience'].replace(['General Targetting'], '6')"
   ]
  },
  {
   "cell_type": "code",
   "execution_count": 62,
   "id": "81d1de6f",
   "metadata": {},
   "outputs": [],
   "source": [
    "# Add a new column 'target_group'\n",
    "df_ga['target_group'] = df_ga['audience'].map(audience_dict)"
   ]
  },
  {
   "cell_type": "code",
   "execution_count": 63,
   "id": "1196bfb9",
   "metadata": {
    "scrolled": true
   },
   "outputs": [
    {
     "name": "stdout",
     "output_type": "stream",
     "text": [
      "<class 'pandas.core.frame.DataFrame'>\n",
      "RangeIndex: 47529 entries, 0 to 47528\n",
      "Data columns (total 12 columns):\n",
      " #   Column                   Non-Null Count  Dtype         \n",
      "---  ------                   --------------  -----         \n",
      " 0   city_country             47529 non-null  object        \n",
      " 1   audience                 47140 non-null  object        \n",
      " 2   campaign                 47529 non-null  object        \n",
      " 3   date                     47529 non-null  datetime64[ns]\n",
      " 4   ad_platform              47528 non-null  object        \n",
      " 5   ad_format                29519 non-null  object        \n",
      " 6   creative_family          47529 non-null  object        \n",
      " 7   creative_version         47529 non-null  object        \n",
      " 8   total_sessions           47529 non-null  int64         \n",
      " 9   days_away_from_max_date  47529 non-null  int64         \n",
      " 10  latest_report            47529 non-null  int64         \n",
      " 11  target_group             47139 non-null  object        \n",
      "dtypes: datetime64[ns](1), int64(3), object(8)\n",
      "memory usage: 4.4+ MB\n"
     ]
    }
   ],
   "source": [
    "# View information.\n",
    "df_ga.info()"
   ]
  },
  {
   "cell_type": "code",
   "execution_count": 64,
   "id": "f63b7bf0",
   "metadata": {},
   "outputs": [
    {
     "name": "stderr",
     "output_type": "stream",
     "text": [
      "/var/folders/4t/_v2kwfh12990mh64bplbk8cr0000gn/T/ipykernel_12097/1278834342.py:1: FutureWarning: Treating datetime data as categorical rather than numeric in `.describe` is deprecated and will be removed in a future version of pandas. Specify `datetime_is_numeric=True` to silence this warning and adopt the future behavior now.\n",
      "  df_ga['date'].describe()\n"
     ]
    },
    {
     "data": {
      "text/plain": [
       "count                   47529\n",
       "unique                    214\n",
       "top       2022-10-24 00:00:00\n",
       "freq                      778\n",
       "first     2022-04-01 00:00:00\n",
       "last      2022-10-31 00:00:00\n",
       "Name: date, dtype: object"
      ]
     },
     "execution_count": 64,
     "metadata": {},
     "output_type": "execute_result"
    }
   ],
   "source": [
    "df_ga['date'].describe()"
   ]
  },
  {
   "cell_type": "markdown",
   "id": "1c71fb6b",
   "metadata": {},
   "source": [
    "## Explore the columns across the five dataframes"
   ]
  },
  {
   "cell_type": "markdown",
   "id": "189c1c71",
   "metadata": {},
   "source": [
    "### 'ad_platform'"
   ]
  },
  {
   "cell_type": "code",
   "execution_count": 65,
   "id": "1be516b9",
   "metadata": {
    "scrolled": true
   },
   "outputs": [
    {
     "data": {
      "text/plain": [
       "4    63035\n",
       "5    31760\n",
       "6    20539\n",
       "1    16101\n",
       "3     8505\n",
       "2     5708\n",
       "Name: audience, dtype: int64"
      ]
     },
     "execution_count": 65,
     "metadata": {},
     "output_type": "execute_result"
    }
   ],
   "source": [
    "df_demographics['audience'].value_counts()"
   ]
  },
  {
   "cell_type": "code",
   "execution_count": 66,
   "id": "37bb62c7",
   "metadata": {
    "scrolled": true
   },
   "outputs": [
    {
     "data": {
      "text/plain": [
       "LinkedIn           86535\n",
       "Domain Display     41067\n",
       "User ID Display    15519\n",
       "Google SEM          1992\n",
       "Trade Media          398\n",
       "OTT                  106\n",
       "Facebook              31\n",
       "Name: ad_platform, dtype: int64"
      ]
     },
     "execution_count": 66,
     "metadata": {},
     "output_type": "execute_result"
    }
   ],
   "source": [
    "df_demographics['ad_platform'].value_counts()"
   ]
  },
  {
   "cell_type": "code",
   "execution_count": 67,
   "id": "6859b7a4",
   "metadata": {
    "scrolled": false
   },
   "outputs": [
    {
     "data": {
      "text/plain": [
       "Domain Display     53736\n",
       "User ID Display    12882\n",
       "OTT                11877\n",
       "Google SEM          8613\n",
       "LinkedIn            8400\n",
       "Facebook            2979\n",
       "Instagram           2802\n",
       "Trade Media          779\n",
       "Name: ad_platform, dtype: int64"
      ]
     },
     "execution_count": 67,
     "metadata": {},
     "output_type": "execute_result"
    }
   ],
   "source": [
    "df_campaigns['ad_platform'].value_counts()"
   ]
  },
  {
   "cell_type": "code",
   "execution_count": 68,
   "id": "e9429421",
   "metadata": {},
   "outputs": [
    {
     "data": {
      "text/plain": [
       "Google SEM         3533\n",
       "LinkedIn            454\n",
       "Trade Media         311\n",
       "Domain Display      105\n",
       "Facebook             73\n",
       "User ID Display      62\n",
       "OTT                  11\n",
       "Name: ad_platform, dtype: int64"
      ]
     },
     "execution_count": 68,
     "metadata": {},
     "output_type": "execute_result"
    }
   ],
   "source": [
    "df_goal['ad_platform'].value_counts()"
   ]
  },
  {
   "cell_type": "code",
   "execution_count": 69,
   "id": "a76860e2",
   "metadata": {},
   "outputs": [
    {
     "data": {
      "text/plain": [
       "Domain Display     4865\n",
       "LinkedIn           3080\n",
       "User ID Display    2762\n",
       "Facebook           1007\n",
       "Trade Media         547\n",
       "Google SEM          482\n",
       "OTT                  78\n",
       "Name: ad_platform, dtype: int64"
      ]
     },
     "execution_count": 69,
     "metadata": {},
     "output_type": "execute_result"
    }
   ],
   "source": [
    "df_general['ad_platform'].value_counts()"
   ]
  },
  {
   "cell_type": "code",
   "execution_count": 70,
   "id": "492e739a",
   "metadata": {},
   "outputs": [
    {
     "data": {
      "text/plain": [
       "Domain Display     15152\n",
       "User ID Display    11960\n",
       "Google SEM         10277\n",
       "LinkedIn            7579\n",
       "Trade Media         1430\n",
       "Facebook            1130\n",
       "Name: ad_platform, dtype: int64"
      ]
     },
     "execution_count": 70,
     "metadata": {},
     "output_type": "execute_result"
    }
   ],
   "source": [
    "df_ga['ad_platform'].value_counts()"
   ]
  },
  {
   "cell_type": "markdown",
   "id": "390c8a81",
   "metadata": {},
   "source": [
    "### 'ad_format'"
   ]
  },
  {
   "cell_type": "code",
   "execution_count": 71,
   "id": "641bd8f5",
   "metadata": {
    "scrolled": true
   },
   "outputs": [
    {
     "data": {
      "text/plain": [
       "Display                               39191\n",
       "Video                                 38782\n",
       "Single image                          18462\n",
       "Follower ads                          15019\n",
       "Carousel                              12639\n",
       "Native                                 9363\n",
       "Remarketing                            4094\n",
       "CPC                                    1992\n",
       "No lock campaign                       1424\n",
       "Audio                                  1374\n",
       "Display - Interactive                  1366\n",
       "Banner                                  819\n",
       "Dsc                                     582\n",
       "Inside_mortgage_finance_newsletter      181\n",
       "Housingwire                             125\n",
       "Scotsman                                 55\n",
       "Animated                                 41\n",
       "National_mortgage_news                   24\n",
       "Nmn                                      13\n",
       "Interactive                               6\n",
       "Name: ad_format, dtype: int64"
      ]
     },
     "execution_count": 71,
     "metadata": {},
     "output_type": "execute_result"
    }
   ],
   "source": [
    "df_demographics['ad_format'].value_counts()"
   ]
  },
  {
   "cell_type": "code",
   "execution_count": 72,
   "id": "2873040d",
   "metadata": {
    "scrolled": true
   },
   "outputs": [
    {
     "data": {
      "text/plain": [
       "Display                  45371\n",
       "Native                   15445\n",
       "CPC                       8613\n",
       "Single image              7878\n",
       "Video                     7172\n",
       "TV                        6806\n",
       "MOBILE                    2776\n",
       "Audio                     2524\n",
       "TABLET                    1912\n",
       "Display - Interactive     1464\n",
       "Carousel                  1334\n",
       "DESKTOP                    383\n",
       "Follower ads               291\n",
       "No lock campaign            28\n",
       "Name: ad_format, dtype: int64"
      ]
     },
     "execution_count": 72,
     "metadata": {},
     "output_type": "execute_result"
    }
   ],
   "source": [
    "df_campaigns['ad_format'].value_counts()"
   ]
  },
  {
   "cell_type": "code",
   "execution_count": 73,
   "id": "9b03e463",
   "metadata": {
    "scrolled": false
   },
   "outputs": [
    {
     "data": {
      "text/plain": [
       "CPC                                   3533\n",
       "Single image                           387\n",
       "Video                                  112\n",
       "Housingwire                            106\n",
       "Inside_mortgage_finance_newsletter      81\n",
       "Carousel                                74\n",
       "Scotsman                                66\n",
       "Chrisman                                33\n",
       "National_mortgage_news                  17\n",
       "Animated                                10\n",
       "Nmn                                      8\n",
       "Name: ad_format, dtype: int64"
      ]
     },
     "execution_count": 73,
     "metadata": {},
     "output_type": "execute_result"
    }
   ],
   "source": [
    "df_goal['ad_format'].value_counts()"
   ]
  },
  {
   "cell_type": "code",
   "execution_count": 74,
   "id": "ba4233a4",
   "metadata": {
    "scrolled": false
   },
   "outputs": [
    {
     "data": {
      "text/plain": [
       "Single image                          4165\n",
       "Video                                 1906\n",
       "Carousel                               584\n",
       "CPC                                    482\n",
       "Animated                               272\n",
       "Housingwire                            204\n",
       "Inside_mortgage_finance_newsletter     167\n",
       "National_mortgage_news                  80\n",
       "Scotsman                                35\n",
       "Chrisman                                29\n",
       "Nmn                                     24\n",
       "Nmn_partner_insight_2                    5\n",
       "Nmn_partner_insight_1                    3\n",
       "Name: ad_format, dtype: int64"
      ]
     },
     "execution_count": 74,
     "metadata": {},
     "output_type": "execute_result"
    }
   ],
   "source": [
    "df_general['ad_format'].value_counts()"
   ]
  },
  {
   "cell_type": "code",
   "execution_count": 75,
   "id": "3cba016e",
   "metadata": {
    "scrolled": true
   },
   "outputs": [
    {
     "data": {
      "text/plain": [
       "Single image                          11827\n",
       "CPC                                   10277\n",
       "Carousel                               2667\n",
       "Video                                  1972\n",
       "Animated                               1346\n",
       "Inside_mortgage_finance_newsletter      624\n",
       "Housingwire                             554\n",
       "Scotsman                                115\n",
       "National_mortgage_news                  100\n",
       "Nmn                                      37\n",
       "Name: ad_format, dtype: int64"
      ]
     },
     "execution_count": 75,
     "metadata": {},
     "output_type": "execute_result"
    }
   ],
   "source": [
    "df_ga['ad_format'].value_counts()"
   ]
  },
  {
   "cell_type": "markdown",
   "id": "bb09e857",
   "metadata": {},
   "source": [
    "### 'creative_family'"
   ]
  },
  {
   "cell_type": "code",
   "execution_count": 76,
   "id": "eaab5d64",
   "metadata": {
    "scrolled": true
   },
   "outputs": [
    {
     "data": {
      "text/plain": [
       "CloserTwins                      38453\n",
       "UnfairAdvantage                  38437\n",
       "CloseFaster                      15476\n",
       "SEM Ads                           8613\n",
       "CompetitiveOpportunity             114\n",
       "Carousel Ad1                        20\n",
       "Ad1 Domain                          20\n",
       "Ad1 audience 1                      12\n",
       "Carousel Ad1 - CRM Audience 1       10\n",
       "Ad1                                  8\n",
       "Carousel Ad2 - CRM Audience 2        8\n",
       "Carousel Ad1 - CRM Audience3         7\n",
       "Ad1 Audience 3 CRM                   7\n",
       "Name: creative_family, dtype: int64"
      ]
     },
     "execution_count": 76,
     "metadata": {},
     "output_type": "execute_result"
    }
   ],
   "source": [
    "df_campaigns['creative_family'].value_counts()"
   ]
  },
  {
   "cell_type": "markdown",
   "id": "078003a6",
   "metadata": {},
   "source": [
    "### 'creative_version'"
   ]
  },
  {
   "cell_type": "code",
   "execution_count": 77,
   "id": "9375e468",
   "metadata": {
    "scrolled": true
   },
   "outputs": [
    {
     "data": {
      "text/plain": [
       "NoDTI                        10835\n",
       "1099                          9280\n",
       "MoreLoansAll                  6463\n",
       "OnePage                       6192\n",
       "Change Wholesale              6103\n",
       "MoreAll                       6014\n",
       "FasterAll                     6003\n",
       "Static                        5781\n",
       "30s                           5132\n",
       "15s                           4138\n",
       "CloseMore                     3952\n",
       "Animated                      3890\n",
       "Competitors                   2484\n",
       "Faster                        2480\n",
       "Cutdown1B                     2312\n",
       "Cutdown1A                     2307\n",
       "We Are America's CDFI         1830\n",
       "Faceoff                       1707\n",
       "1Page                         1574\n",
       "30_QR                         1437\n",
       "1page                         1364\n",
       "All                           1334\n",
       "EarlyBird                     1306\n",
       "15_QR                         1170\n",
       "3steps                         923\n",
       "Close More. Close Faster.      680\n",
       "Faceoff1                       607\n",
       "Paperwork                      606\n",
       "MoreLoans                      595\n",
       "ShapeUp                        586\n",
       "Namaste                        576\n",
       "FasterReg                      521\n",
       "MoreNoReg                      440\n",
       "Faceoff2                       400\n",
       "Digital                        195\n",
       "Statement                      123\n",
       "v1                              89\n",
       "Cancelingyourlock               66\n",
       "Theycancelweclose               48\n",
       "Name: creative_version, dtype: int64"
      ]
     },
     "execution_count": 77,
     "metadata": {},
     "output_type": "execute_result"
    }
   ],
   "source": [
    "df_campaigns['creative_version'].value_counts()"
   ]
  },
  {
   "cell_type": "markdown",
   "id": "6213e93d",
   "metadata": {},
   "source": [
    "### 'campaign'"
   ]
  },
  {
   "cell_type": "code",
   "execution_count": 78,
   "id": "5209a8c7",
   "metadata": {
    "scrolled": true
   },
   "outputs": [
    {
     "data": {
      "text/plain": [
       "5 - StackAdapt - Remarketing - Banner                          6973\n",
       "4 - StackAdapt - Display - Image                               6778\n",
       "1 - StackAdapt - Display - Image                               6652\n",
       "3 - StackAdapt - Display - Image                               6376\n",
       "FY22                                                           5781\n",
       "                                                               ... \n",
       "Audience 1 CRM - No Lock Campaign - Carousel (Extended)           1\n",
       "Domain Targeting - No Lock Campaign - Single DSC (Extended)       1\n",
       "Domain Targeting - No Lock Campaign - Carousel (Extended)         1\n",
       "Audience 2 CRM - No Lock Campaign - Carousel (Updated)            1\n",
       "NBC Today                                                         1\n",
       "Name: campaign, Length: 204, dtype: int64"
      ]
     },
     "execution_count": 78,
     "metadata": {},
     "output_type": "execute_result"
    }
   ],
   "source": [
    "df_campaigns['campaign'].value_counts()"
   ]
  },
  {
   "cell_type": "markdown",
   "id": "d78d0072",
   "metadata": {},
   "source": [
    "### 'city_country'"
   ]
  },
  {
   "cell_type": "code",
   "execution_count": 79,
   "id": "8f6801cf",
   "metadata": {
    "scrolled": true
   },
   "outputs": [
    {
     "data": {
      "text/plain": [
       "Columbus, United States                   2014\n",
       "Los Angeles, United States                1675\n",
       "New York, United States                   1229\n",
       "Chicago, United States                     720\n",
       "Mebane, United States                      634\n",
       "                                          ... \n",
       "Leacock-Leola-Bareville, United States       1\n",
       "Fallston, United States                      1\n",
       "Emigsville, United States                    1\n",
       "Moulton, United States                       1\n",
       "Kerhonkson, United States                    1\n",
       "Name: city_country, Length: 4167, dtype: int64"
      ]
     },
     "execution_count": 79,
     "metadata": {},
     "output_type": "execute_result"
    }
   ],
   "source": [
    "df_ga['city_country'].value_counts()"
   ]
  },
  {
   "cell_type": "markdown",
   "id": "9465f817",
   "metadata": {},
   "source": [
    "### 'company_name'"
   ]
  },
  {
   "cell_type": "code",
   "execution_count": 80,
   "id": "f4f3c9fc",
   "metadata": {
    "scrolled": true
   },
   "outputs": [
    {
     "data": {
      "text/plain": [
       "Guaranteed Rate                       1113\n",
       "C2 Financial                           905\n",
       "American Pacific Mortgage              763\n",
       "Movement Mortgage                      679\n",
       "Nexa Mortgage                          623\n",
       "                                      ... \n",
       "California Mortgage Advisors, Inc.       1\n",
       "Christian Church Homes                   1\n",
       "Chetu                                    1\n",
       "DICK'S Sporting Goods                    1\n",
       "Neenah High School                       1\n",
       "Name: company_name, Length: 12463, dtype: int64"
      ]
     },
     "execution_count": 80,
     "metadata": {},
     "output_type": "execute_result"
    }
   ],
   "source": [
    "df_demographics['company_name'].value_counts()"
   ]
  },
  {
   "cell_type": "code",
   "execution_count": 81,
   "id": "7639a8bd",
   "metadata": {},
   "outputs": [],
   "source": [
    "df_goals2 = pd.read_csv('goal_stats_cleaned.csv')"
   ]
  },
  {
   "cell_type": "code",
   "execution_count": 82,
   "id": "aba71fe9",
   "metadata": {},
   "outputs": [
    {
     "name": "stdout",
     "output_type": "stream",
     "text": [
      "<class 'pandas.core.frame.DataFrame'>\n",
      "RangeIndex: 16507 entries, 0 to 16506\n",
      "Data columns (total 10 columns):\n",
      " #   Column            Non-Null Count  Dtype  \n",
      "---  ------            --------------  -----  \n",
      " 0   Date              16507 non-null  object \n",
      " 1   Campaign          4823 non-null   object \n",
      " 2   Audience          4240 non-null   float64\n",
      " 3   Creative_Family   4580 non-null   object \n",
      " 4   Creative_Version  4294 non-null   object \n",
      " 5   Platform          4549 non-null   object \n",
      " 6   Ad_Format         4427 non-null   object \n",
      " 7   Goal              16507 non-null  object \n",
      " 8   Completions       16507 non-null  float64\n",
      " 9   Campaign_Traffic  16507 non-null  object \n",
      "dtypes: float64(2), object(8)\n",
      "memory usage: 1.3+ MB\n"
     ]
    }
   ],
   "source": [
    "df_goals2.info()"
   ]
  },
  {
   "cell_type": "code",
   "execution_count": 83,
   "id": "5801c1c8",
   "metadata": {},
   "outputs": [
    {
     "data": {
      "text/plain": [
       "Creative_Family\n",
       "August                    1.187500\n",
       "CloseFaster               1.016000\n",
       "CloserTwins               1.048860\n",
       "ComingSoon                1.000000\n",
       "CompetitiveOpportunity    1.000000\n",
       "One-Off                   1.000000\n",
       "SEM Ads                   1.444098\n",
       "Trade Media Ads           1.200000\n",
       "UnfairAdvantage           1.040625\n",
       "crm                       1.000000\n",
       "domain                    1.000000\n",
       "newsletter                1.000000\n",
       "Name: Completions, dtype: float64"
      ]
     },
     "execution_count": 83,
     "metadata": {},
     "output_type": "execute_result"
    }
   ],
   "source": [
    "df_goals2.groupby('Creative_Family').Completions.mean()"
   ]
  },
  {
   "cell_type": "code",
   "execution_count": 84,
   "id": "dfb5202c",
   "metadata": {},
   "outputs": [],
   "source": [
    "df_creative2 = pd.read_csv('creative_clean.csv')"
   ]
  },
  {
   "cell_type": "code",
   "execution_count": 85,
   "id": "b1d6b10a",
   "metadata": {},
   "outputs": [
    {
     "data": {
      "text/html": [
       "<div>\n",
       "<style scoped>\n",
       "    .dataframe tbody tr th:only-of-type {\n",
       "        vertical-align: middle;\n",
       "    }\n",
       "\n",
       "    .dataframe tbody tr th {\n",
       "        vertical-align: top;\n",
       "    }\n",
       "\n",
       "    .dataframe thead th {\n",
       "        text-align: right;\n",
       "    }\n",
       "</style>\n",
       "<table border=\"1\" class=\"dataframe\">\n",
       "  <thead>\n",
       "    <tr style=\"text-align: right;\">\n",
       "      <th></th>\n",
       "      <th>Campaign</th>\n",
       "      <th>Ad_Format</th>\n",
       "      <th>Clicks</th>\n",
       "      <th>Date</th>\n",
       "      <th>Impressions</th>\n",
       "      <th>Reach</th>\n",
       "      <th>Audience</th>\n",
       "      <th>Platform</th>\n",
       "      <th>Creative_Family</th>\n",
       "      <th>Creative_Version</th>\n",
       "      <th>100%_Video_Views</th>\n",
       "      <th>Video_Starts</th>\n",
       "      <th>Follows</th>\n",
       "      <th>CTR</th>\n",
       "      <th>CTR_Score</th>\n",
       "      <th>Weighted_CTR_Score</th>\n",
       "      <th>Spend</th>\n",
       "      <th>Target_Group</th>\n",
       "      <th>Campaign_Name</th>\n",
       "    </tr>\n",
       "  </thead>\n",
       "  <tbody>\n",
       "    <tr>\n",
       "      <th>0</th>\n",
       "      <td>FY22</td>\n",
       "      <td>Single image</td>\n",
       "      <td>0</td>\n",
       "      <td>2022-05-19</td>\n",
       "      <td>119</td>\n",
       "      <td>63</td>\n",
       "      <td>1</td>\n",
       "      <td>Facebook</td>\n",
       "      <td>CloseFaster</td>\n",
       "      <td>NoDTI</td>\n",
       "      <td>0</td>\n",
       "      <td>0</td>\n",
       "      <td>0</td>\n",
       "      <td>0.000000</td>\n",
       "      <td>0.0</td>\n",
       "      <td>0.0</td>\n",
       "      <td>0.26</td>\n",
       "      <td>1.0</td>\n",
       "      <td>CloseFaster</td>\n",
       "    </tr>\n",
       "    <tr>\n",
       "      <th>1</th>\n",
       "      <td>FY22</td>\n",
       "      <td>Single image</td>\n",
       "      <td>0</td>\n",
       "      <td>2022-05-19</td>\n",
       "      <td>9</td>\n",
       "      <td>8</td>\n",
       "      <td>1</td>\n",
       "      <td>Instagram</td>\n",
       "      <td>CloseFaster</td>\n",
       "      <td>NoDTI</td>\n",
       "      <td>0</td>\n",
       "      <td>0</td>\n",
       "      <td>0</td>\n",
       "      <td>0.000000</td>\n",
       "      <td>0.0</td>\n",
       "      <td>0.0</td>\n",
       "      <td>0.15</td>\n",
       "      <td>1.0</td>\n",
       "      <td>CloseFaster</td>\n",
       "    </tr>\n",
       "    <tr>\n",
       "      <th>2</th>\n",
       "      <td>FY22</td>\n",
       "      <td>Single image</td>\n",
       "      <td>0</td>\n",
       "      <td>2022-05-19</td>\n",
       "      <td>26</td>\n",
       "      <td>17</td>\n",
       "      <td>1</td>\n",
       "      <td>Facebook</td>\n",
       "      <td>CloseFaster</td>\n",
       "      <td>NoDTI</td>\n",
       "      <td>0</td>\n",
       "      <td>0</td>\n",
       "      <td>0</td>\n",
       "      <td>0.000000</td>\n",
       "      <td>0.0</td>\n",
       "      <td>0.0</td>\n",
       "      <td>0.38</td>\n",
       "      <td>1.0</td>\n",
       "      <td>CloseFaster</td>\n",
       "    </tr>\n",
       "    <tr>\n",
       "      <th>3</th>\n",
       "      <td>FY22</td>\n",
       "      <td>Single image</td>\n",
       "      <td>0</td>\n",
       "      <td>2022-05-19</td>\n",
       "      <td>12</td>\n",
       "      <td>10</td>\n",
       "      <td>1</td>\n",
       "      <td>Instagram</td>\n",
       "      <td>CloseFaster</td>\n",
       "      <td>NoDTI</td>\n",
       "      <td>0</td>\n",
       "      <td>0</td>\n",
       "      <td>0</td>\n",
       "      <td>0.000000</td>\n",
       "      <td>0.0</td>\n",
       "      <td>0.0</td>\n",
       "      <td>0.19</td>\n",
       "      <td>1.0</td>\n",
       "      <td>CloseFaster</td>\n",
       "    </tr>\n",
       "    <tr>\n",
       "      <th>4</th>\n",
       "      <td>FY22</td>\n",
       "      <td>Single image</td>\n",
       "      <td>1</td>\n",
       "      <td>2022-05-19</td>\n",
       "      <td>247</td>\n",
       "      <td>150</td>\n",
       "      <td>1</td>\n",
       "      <td>Facebook</td>\n",
       "      <td>CloserTwins</td>\n",
       "      <td>EarlyBird</td>\n",
       "      <td>0</td>\n",
       "      <td>0</td>\n",
       "      <td>0</td>\n",
       "      <td>0.004049</td>\n",
       "      <td>0.0</td>\n",
       "      <td>0.0</td>\n",
       "      <td>3.62</td>\n",
       "      <td>1.0</td>\n",
       "      <td>CloserTwins</td>\n",
       "    </tr>\n",
       "    <tr>\n",
       "      <th>...</th>\n",
       "      <td>...</td>\n",
       "      <td>...</td>\n",
       "      <td>...</td>\n",
       "      <td>...</td>\n",
       "      <td>...</td>\n",
       "      <td>...</td>\n",
       "      <td>...</td>\n",
       "      <td>...</td>\n",
       "      <td>...</td>\n",
       "      <td>...</td>\n",
       "      <td>...</td>\n",
       "      <td>...</td>\n",
       "      <td>...</td>\n",
       "      <td>...</td>\n",
       "      <td>...</td>\n",
       "      <td>...</td>\n",
       "      <td>...</td>\n",
       "      <td>...</td>\n",
       "      <td>...</td>\n",
       "    </tr>\n",
       "    <tr>\n",
       "      <th>101659</th>\n",
       "      <td>ESPN</td>\n",
       "      <td>TV</td>\n",
       "      <td>0</td>\n",
       "      <td>2022-05-01</td>\n",
       "      <td>3</td>\n",
       "      <td>3</td>\n",
       "      <td>General Targetting</td>\n",
       "      <td>OTT</td>\n",
       "      <td>CloserTwins</td>\n",
       "      <td>15s</td>\n",
       "      <td>0</td>\n",
       "      <td>0</td>\n",
       "      <td>0</td>\n",
       "      <td>0.000000</td>\n",
       "      <td>0.0</td>\n",
       "      <td>0.0</td>\n",
       "      <td>0.10</td>\n",
       "      <td>3.0</td>\n",
       "      <td>CloserTwins</td>\n",
       "    </tr>\n",
       "    <tr>\n",
       "      <th>101660</th>\n",
       "      <td>MTV</td>\n",
       "      <td>TV</td>\n",
       "      <td>0</td>\n",
       "      <td>2022-05-01</td>\n",
       "      <td>5</td>\n",
       "      <td>5</td>\n",
       "      <td>General Targetting</td>\n",
       "      <td>OTT</td>\n",
       "      <td>CloserTwins</td>\n",
       "      <td>15_QR</td>\n",
       "      <td>0</td>\n",
       "      <td>0</td>\n",
       "      <td>0</td>\n",
       "      <td>0.000000</td>\n",
       "      <td>0.0</td>\n",
       "      <td>0.0</td>\n",
       "      <td>0.17</td>\n",
       "      <td>3.0</td>\n",
       "      <td>CloserTwins</td>\n",
       "    </tr>\n",
       "    <tr>\n",
       "      <th>101661</th>\n",
       "      <td>Food Network</td>\n",
       "      <td>TV</td>\n",
       "      <td>0</td>\n",
       "      <td>2022-05-01</td>\n",
       "      <td>4</td>\n",
       "      <td>4</td>\n",
       "      <td>General Targetting</td>\n",
       "      <td>OTT</td>\n",
       "      <td>CloserTwins</td>\n",
       "      <td>15_QR</td>\n",
       "      <td>0</td>\n",
       "      <td>0</td>\n",
       "      <td>0</td>\n",
       "      <td>0.000000</td>\n",
       "      <td>0.0</td>\n",
       "      <td>0.0</td>\n",
       "      <td>0.14</td>\n",
       "      <td>3.0</td>\n",
       "      <td>CloserTwins</td>\n",
       "    </tr>\n",
       "    <tr>\n",
       "      <th>101662</th>\n",
       "      <td>Nat Geo TV</td>\n",
       "      <td>TV</td>\n",
       "      <td>0</td>\n",
       "      <td>2022-05-01</td>\n",
       "      <td>17</td>\n",
       "      <td>16</td>\n",
       "      <td>General Targetting</td>\n",
       "      <td>OTT</td>\n",
       "      <td>CloserTwins</td>\n",
       "      <td>15_QR</td>\n",
       "      <td>0</td>\n",
       "      <td>0</td>\n",
       "      <td>0</td>\n",
       "      <td>0.000000</td>\n",
       "      <td>0.0</td>\n",
       "      <td>0.0</td>\n",
       "      <td>0.58</td>\n",
       "      <td>3.0</td>\n",
       "      <td>CloserTwins</td>\n",
       "    </tr>\n",
       "    <tr>\n",
       "      <th>101663</th>\n",
       "      <td>Pluto</td>\n",
       "      <td>TV</td>\n",
       "      <td>0</td>\n",
       "      <td>2022-05-01</td>\n",
       "      <td>210</td>\n",
       "      <td>201</td>\n",
       "      <td>General Targetting</td>\n",
       "      <td>OTT</td>\n",
       "      <td>CloserTwins</td>\n",
       "      <td>15_QR</td>\n",
       "      <td>0</td>\n",
       "      <td>0</td>\n",
       "      <td>0</td>\n",
       "      <td>0.000000</td>\n",
       "      <td>0.0</td>\n",
       "      <td>0.0</td>\n",
       "      <td>7.14</td>\n",
       "      <td>3.0</td>\n",
       "      <td>CloserTwins</td>\n",
       "    </tr>\n",
       "  </tbody>\n",
       "</table>\n",
       "<p>101664 rows × 19 columns</p>\n",
       "</div>"
      ],
      "text/plain": [
       "            Campaign     Ad_Format  Clicks        Date  Impressions  Reach  \\\n",
       "0               FY22  Single image       0  2022-05-19          119     63   \n",
       "1               FY22  Single image       0  2022-05-19            9      8   \n",
       "2               FY22  Single image       0  2022-05-19           26     17   \n",
       "3               FY22  Single image       0  2022-05-19           12     10   \n",
       "4               FY22  Single image       1  2022-05-19          247    150   \n",
       "...              ...           ...     ...         ...          ...    ...   \n",
       "101659          ESPN            TV       0  2022-05-01            3      3   \n",
       "101660           MTV            TV       0  2022-05-01            5      5   \n",
       "101661  Food Network            TV       0  2022-05-01            4      4   \n",
       "101662    Nat Geo TV            TV       0  2022-05-01           17     16   \n",
       "101663         Pluto            TV       0  2022-05-01          210    201   \n",
       "\n",
       "                  Audience   Platform Creative_Family Creative_Version  \\\n",
       "0                        1   Facebook     CloseFaster            NoDTI   \n",
       "1                        1  Instagram     CloseFaster            NoDTI   \n",
       "2                        1   Facebook     CloseFaster            NoDTI   \n",
       "3                        1  Instagram     CloseFaster            NoDTI   \n",
       "4                        1   Facebook     CloserTwins        EarlyBird   \n",
       "...                    ...        ...             ...              ...   \n",
       "101659  General Targetting        OTT     CloserTwins              15s   \n",
       "101660  General Targetting        OTT     CloserTwins            15_QR   \n",
       "101661  General Targetting        OTT     CloserTwins            15_QR   \n",
       "101662  General Targetting        OTT     CloserTwins            15_QR   \n",
       "101663  General Targetting        OTT     CloserTwins            15_QR   \n",
       "\n",
       "        100%_Video_Views  Video_Starts  Follows       CTR  CTR_Score  \\\n",
       "0                      0             0        0  0.000000        0.0   \n",
       "1                      0             0        0  0.000000        0.0   \n",
       "2                      0             0        0  0.000000        0.0   \n",
       "3                      0             0        0  0.000000        0.0   \n",
       "4                      0             0        0  0.004049        0.0   \n",
       "...                  ...           ...      ...       ...        ...   \n",
       "101659                 0             0        0  0.000000        0.0   \n",
       "101660                 0             0        0  0.000000        0.0   \n",
       "101661                 0             0        0  0.000000        0.0   \n",
       "101662                 0             0        0  0.000000        0.0   \n",
       "101663                 0             0        0  0.000000        0.0   \n",
       "\n",
       "        Weighted_CTR_Score  Spend  Target_Group Campaign_Name  \n",
       "0                      0.0   0.26           1.0   CloseFaster  \n",
       "1                      0.0   0.15           1.0   CloseFaster  \n",
       "2                      0.0   0.38           1.0   CloseFaster  \n",
       "3                      0.0   0.19           1.0   CloseFaster  \n",
       "4                      0.0   3.62           1.0   CloserTwins  \n",
       "...                    ...    ...           ...           ...  \n",
       "101659                 0.0   0.10           3.0   CloserTwins  \n",
       "101660                 0.0   0.17           3.0   CloserTwins  \n",
       "101661                 0.0   0.14           3.0   CloserTwins  \n",
       "101662                 0.0   0.58           3.0   CloserTwins  \n",
       "101663                 0.0   7.14           3.0   CloserTwins  \n",
       "\n",
       "[101664 rows x 19 columns]"
      ]
     },
     "execution_count": 85,
     "metadata": {},
     "output_type": "execute_result"
    }
   ],
   "source": [
    "df_creative2"
   ]
  },
  {
   "cell_type": "code",
   "execution_count": 86,
   "id": "4c54c56a",
   "metadata": {},
   "outputs": [
    {
     "data": {
      "text/html": [
       "<div>\n",
       "<style scoped>\n",
       "    .dataframe tbody tr th:only-of-type {\n",
       "        vertical-align: middle;\n",
       "    }\n",
       "\n",
       "    .dataframe tbody tr th {\n",
       "        vertical-align: top;\n",
       "    }\n",
       "\n",
       "    .dataframe thead th {\n",
       "        text-align: right;\n",
       "    }\n",
       "</style>\n",
       "<table border=\"1\" class=\"dataframe\">\n",
       "  <thead>\n",
       "    <tr style=\"text-align: right;\">\n",
       "      <th></th>\n",
       "      <th>Clicks</th>\n",
       "      <th>Impressions</th>\n",
       "      <th>Reach</th>\n",
       "      <th>100%_Video_Views</th>\n",
       "      <th>Video_Starts</th>\n",
       "      <th>Follows</th>\n",
       "      <th>CTR</th>\n",
       "      <th>CTR_Score</th>\n",
       "      <th>Weighted_CTR_Score</th>\n",
       "      <th>Spend</th>\n",
       "      <th>Target_Group</th>\n",
       "    </tr>\n",
       "  </thead>\n",
       "  <tbody>\n",
       "    <tr>\n",
       "      <th>count</th>\n",
       "      <td>101664.000000</td>\n",
       "      <td>101664.000000</td>\n",
       "      <td>101664.000000</td>\n",
       "      <td>101664.000000</td>\n",
       "      <td>101664.000000</td>\n",
       "      <td>101664.000000</td>\n",
       "      <td>101664.000000</td>\n",
       "      <td>101664.000000</td>\n",
       "      <td>101664.000000</td>\n",
       "      <td>101664.000000</td>\n",
       "      <td>101621.000000</td>\n",
       "    </tr>\n",
       "    <tr>\n",
       "      <th>mean</th>\n",
       "      <td>0.663234</td>\n",
       "      <td>463.438080</td>\n",
       "      <td>144.579645</td>\n",
       "      <td>24.197858</td>\n",
       "      <td>37.498810</td>\n",
       "      <td>0.004731</td>\n",
       "      <td>0.012344</td>\n",
       "      <td>0.471480</td>\n",
       "      <td>244.685385</td>\n",
       "      <td>7.209050</td>\n",
       "      <td>1.770264</td>\n",
       "    </tr>\n",
       "    <tr>\n",
       "      <th>std</th>\n",
       "      <td>3.327004</td>\n",
       "      <td>1565.548992</td>\n",
       "      <td>535.142843</td>\n",
       "      <td>225.875831</td>\n",
       "      <td>339.238525</td>\n",
       "      <td>0.141750</td>\n",
       "      <td>0.083078</td>\n",
       "      <td>0.410827</td>\n",
       "      <td>906.281370</td>\n",
       "      <td>41.098153</td>\n",
       "      <td>0.776960</td>\n",
       "    </tr>\n",
       "    <tr>\n",
       "      <th>min</th>\n",
       "      <td>0.000000</td>\n",
       "      <td>0.000000</td>\n",
       "      <td>0.000000</td>\n",
       "      <td>0.000000</td>\n",
       "      <td>0.000000</td>\n",
       "      <td>0.000000</td>\n",
       "      <td>0.000000</td>\n",
       "      <td>0.000000</td>\n",
       "      <td>0.000000</td>\n",
       "      <td>0.000000</td>\n",
       "      <td>1.000000</td>\n",
       "    </tr>\n",
       "    <tr>\n",
       "      <th>25%</th>\n",
       "      <td>0.000000</td>\n",
       "      <td>10.000000</td>\n",
       "      <td>1.000000</td>\n",
       "      <td>0.000000</td>\n",
       "      <td>0.000000</td>\n",
       "      <td>0.000000</td>\n",
       "      <td>0.000000</td>\n",
       "      <td>0.000000</td>\n",
       "      <td>0.000000</td>\n",
       "      <td>0.101180</td>\n",
       "      <td>1.000000</td>\n",
       "    </tr>\n",
       "    <tr>\n",
       "      <th>50%</th>\n",
       "      <td>0.000000</td>\n",
       "      <td>54.000000</td>\n",
       "      <td>8.000000</td>\n",
       "      <td>0.000000</td>\n",
       "      <td>0.000000</td>\n",
       "      <td>0.000000</td>\n",
       "      <td>0.000000</td>\n",
       "      <td>0.500000</td>\n",
       "      <td>14.500000</td>\n",
       "      <td>0.593024</td>\n",
       "      <td>2.000000</td>\n",
       "    </tr>\n",
       "    <tr>\n",
       "      <th>75%</th>\n",
       "      <td>0.000000</td>\n",
       "      <td>285.000000</td>\n",
       "      <td>59.000000</td>\n",
       "      <td>0.000000</td>\n",
       "      <td>0.000000</td>\n",
       "      <td>0.000000</td>\n",
       "      <td>0.000000</td>\n",
       "      <td>0.500000</td>\n",
       "      <td>137.500000</td>\n",
       "      <td>3.220327</td>\n",
       "      <td>2.000000</td>\n",
       "    </tr>\n",
       "    <tr>\n",
       "      <th>max</th>\n",
       "      <td>573.000000</td>\n",
       "      <td>59784.000000</td>\n",
       "      <td>16601.000000</td>\n",
       "      <td>14173.000000</td>\n",
       "      <td>19635.000000</td>\n",
       "      <td>11.000000</td>\n",
       "      <td>2.000000</td>\n",
       "      <td>1.500000</td>\n",
       "      <td>82870.500000</td>\n",
       "      <td>3642.180000</td>\n",
       "      <td>3.000000</td>\n",
       "    </tr>\n",
       "  </tbody>\n",
       "</table>\n",
       "</div>"
      ],
      "text/plain": [
       "              Clicks    Impressions          Reach  100%_Video_Views  \\\n",
       "count  101664.000000  101664.000000  101664.000000     101664.000000   \n",
       "mean        0.663234     463.438080     144.579645         24.197858   \n",
       "std         3.327004    1565.548992     535.142843        225.875831   \n",
       "min         0.000000       0.000000       0.000000          0.000000   \n",
       "25%         0.000000      10.000000       1.000000          0.000000   \n",
       "50%         0.000000      54.000000       8.000000          0.000000   \n",
       "75%         0.000000     285.000000      59.000000          0.000000   \n",
       "max       573.000000   59784.000000   16601.000000      14173.000000   \n",
       "\n",
       "        Video_Starts        Follows            CTR      CTR_Score  \\\n",
       "count  101664.000000  101664.000000  101664.000000  101664.000000   \n",
       "mean       37.498810       0.004731       0.012344       0.471480   \n",
       "std       339.238525       0.141750       0.083078       0.410827   \n",
       "min         0.000000       0.000000       0.000000       0.000000   \n",
       "25%         0.000000       0.000000       0.000000       0.000000   \n",
       "50%         0.000000       0.000000       0.000000       0.500000   \n",
       "75%         0.000000       0.000000       0.000000       0.500000   \n",
       "max     19635.000000      11.000000       2.000000       1.500000   \n",
       "\n",
       "       Weighted_CTR_Score          Spend   Target_Group  \n",
       "count       101664.000000  101664.000000  101621.000000  \n",
       "mean           244.685385       7.209050       1.770264  \n",
       "std            906.281370      41.098153       0.776960  \n",
       "min              0.000000       0.000000       1.000000  \n",
       "25%              0.000000       0.101180       1.000000  \n",
       "50%             14.500000       0.593024       2.000000  \n",
       "75%            137.500000       3.220327       2.000000  \n",
       "max          82870.500000    3642.180000       3.000000  "
      ]
     },
     "execution_count": 86,
     "metadata": {},
     "output_type": "execute_result"
    }
   ],
   "source": [
    "df_creative2.describe()"
   ]
  },
  {
   "cell_type": "code",
   "execution_count": 87,
   "id": "0f0b5882",
   "metadata": {},
   "outputs": [
    {
     "data": {
      "text/plain": [
       "Creative_Family\n",
       "Ad1                                10.600000\n",
       "Ad1 Audience 3 CRM                 10.000000\n",
       "Ad1 Domain                       8277.333333\n",
       "Ad1 audience 1                     41.000000\n",
       "Carousel Ad1                     4221.107143\n",
       "Carousel Ad1 - CRM Audience 1      60.666667\n",
       "Carousel Ad1 - CRM Audience3        2.200000\n",
       "Carousel Ad2 - CRM Audience 2       3.100000\n",
       "CloseFaster                       283.046573\n",
       "CloserTwins                       192.846016\n",
       "CompetitiveOpportunity           1462.513158\n",
       "No Answer                         868.701586\n",
       "Other                            1625.615385\n",
       "SEM Ads                             0.000000\n",
       "UnfairAdvantage                   312.981196\n",
       "Name: Weighted_CTR_Score, dtype: float64"
      ]
     },
     "execution_count": 87,
     "metadata": {},
     "output_type": "execute_result"
    }
   ],
   "source": [
    "df_creative2.groupby('Creative_Family').Weighted_CTR_Score.mean()"
   ]
  },
  {
   "cell_type": "code",
   "execution_count": 88,
   "id": "c6d1efa5",
   "metadata": {},
   "outputs": [
    {
     "data": {
      "text/plain": [
       "Creative_Family\n",
       "Ad1                                0.000000\n",
       "Ad1 Audience 3 CRM                 0.000000\n",
       "Ad1 Domain                         0.000000\n",
       "Ad1 audience 1                     0.000000\n",
       "Carousel Ad1                       0.000000\n",
       "Carousel Ad1 - CRM Audience 1      0.000000\n",
       "Carousel Ad1 - CRM Audience3       0.000000\n",
       "Carousel Ad2 - CRM Audience 2      0.000000\n",
       "CloseFaster                      148.157292\n",
       "CloserTwins                      206.210138\n",
       "CompetitiveOpportunity           491.385965\n",
       "No Answer                        377.633069\n",
       "Other                              0.000000\n",
       "SEM Ads                            0.000000\n",
       "UnfairAdvantage                  107.790064\n",
       "Name: Reach, dtype: float64"
      ]
     },
     "execution_count": 88,
     "metadata": {},
     "output_type": "execute_result"
    }
   ],
   "source": [
    "df_creative2.groupby('Creative_Family').Reach.mean()"
   ]
  },
  {
   "cell_type": "code",
   "execution_count": 89,
   "id": "87b3dc68",
   "metadata": {},
   "outputs": [
    {
     "name": "stdout",
     "output_type": "stream",
     "text": [
      "<class 'pandas.core.frame.DataFrame'>\n",
      "RangeIndex: 101664 entries, 0 to 101663\n",
      "Data columns (total 19 columns):\n",
      " #   Column              Non-Null Count   Dtype  \n",
      "---  ------              --------------   -----  \n",
      " 0   Campaign            101664 non-null  object \n",
      " 1   Ad_Format           101664 non-null  object \n",
      " 2   Clicks              101664 non-null  int64  \n",
      " 3   Date                101664 non-null  object \n",
      " 4   Impressions         101664 non-null  int64  \n",
      " 5   Reach               101664 non-null  int64  \n",
      " 6   Audience            101664 non-null  object \n",
      " 7   Platform            101664 non-null  object \n",
      " 8   Creative_Family     101664 non-null  object \n",
      " 9   Creative_Version    101664 non-null  object \n",
      " 10  100%_Video_Views    101664 non-null  int64  \n",
      " 11  Video_Starts        101664 non-null  int64  \n",
      " 12  Follows             101664 non-null  int64  \n",
      " 13  CTR                 101664 non-null  float64\n",
      " 14  CTR_Score           101664 non-null  float64\n",
      " 15  Weighted_CTR_Score  101664 non-null  float64\n",
      " 16  Spend               101664 non-null  float64\n",
      " 17  Target_Group        101621 non-null  float64\n",
      " 18  Campaign_Name       101664 non-null  object \n",
      "dtypes: float64(5), int64(6), object(8)\n",
      "memory usage: 14.7+ MB\n"
     ]
    }
   ],
   "source": [
    "df_creative2.info()"
   ]
  }
 ],
 "metadata": {
  "kernelspec": {
   "display_name": "Python 3 (ipykernel)",
   "language": "python",
   "name": "python3"
  },
  "language_info": {
   "codemirror_mode": {
    "name": "ipython",
    "version": 3
   },
   "file_extension": ".py",
   "mimetype": "text/x-python",
   "name": "python",
   "nbconvert_exporter": "python",
   "pygments_lexer": "ipython3",
   "version": "3.9.12"
  }
 },
 "nbformat": 4,
 "nbformat_minor": 5
}
